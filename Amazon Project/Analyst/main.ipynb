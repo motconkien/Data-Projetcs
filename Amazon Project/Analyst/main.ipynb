{
 "cells": [
  {
   "cell_type": "code",
   "execution_count": 1,
   "metadata": {},
   "outputs": [],
   "source": [
    "import pandas as pd\n",
    "import numpy as np\n",
    "import matplotlib.pyplot as plt\n",
    "import seaborn as sns"
   ]
  },
  {
   "cell_type": "code",
   "execution_count": 30,
   "metadata": {},
   "outputs": [
    {
     "data": {
      "text/html": [
       "<div>\n",
       "<style scoped>\n",
       "    .dataframe tbody tr th:only-of-type {\n",
       "        vertical-align: middle;\n",
       "    }\n",
       "\n",
       "    .dataframe tbody tr th {\n",
       "        vertical-align: top;\n",
       "    }\n",
       "\n",
       "    .dataframe thead th {\n",
       "        text-align: right;\n",
       "    }\n",
       "</style>\n",
       "<table border=\"1\" class=\"dataframe\">\n",
       "  <thead>\n",
       "    <tr style=\"text-align: right;\">\n",
       "      <th></th>\n",
       "      <th>Title</th>\n",
       "      <th>Link</th>\n",
       "      <th>Brand</th>\n",
       "      <th>Price</th>\n",
       "      <th>Review</th>\n",
       "      <th>Total Review</th>\n",
       "      <th>Compatible Devices</th>\n",
       "      <th>Color</th>\n",
       "      <th>Number of Keys</th>\n",
       "      <th>Connectivity Technology</th>\n",
       "      <th>Rank</th>\n",
       "    </tr>\n",
       "  </thead>\n",
       "  <tbody>\n",
       "    <tr>\n",
       "      <th>0</th>\n",
       "      <td>Computer Keyboard Wired,7-Color Rainbow LED Ba...</td>\n",
       "      <td>https://www.amazon.com/sspa/click?ie=UTF8&amp;spc=...</td>\n",
       "      <td>Acebaff</td>\n",
       "      <td>$21.95</td>\n",
       "      <td>4.3 out of 5</td>\n",
       "      <td>450 global ratings</td>\n",
       "      <td>Windows 11/10/8/7/XP/VISTA, Mac OS, Chrome OS...</td>\n",
       "      <td>Black</td>\n",
       "      <td>117.0</td>\n",
       "      <td>USB</td>\n",
       "      <td>#112 in Computer Keyboards</td>\n",
       "    </tr>\n",
       "    <tr>\n",
       "      <th>1</th>\n",
       "      <td>MARVO Large Print Backlit Keyboard, WK712 Wire...</td>\n",
       "      <td>https://www.amazon.com/sspa/click?ie=UTF8&amp;spc=...</td>\n",
       "      <td>MARVO</td>\n",
       "      <td>$28.99</td>\n",
       "      <td>4.5 out of 5</td>\n",
       "      <td>146 global ratings</td>\n",
       "      <td>Laptop, PC, Smart TV</td>\n",
       "      <td>Black</td>\n",
       "      <td>109.0</td>\n",
       "      <td>USB-A</td>\n",
       "      <td>#277 in Computer Keyboards</td>\n",
       "    </tr>\n",
       "    <tr>\n",
       "      <th>2</th>\n",
       "      <td>X9 Wired Ergonomic Keyboard with Cushioned Wri...</td>\n",
       "      <td>https://www.amazon.com/X9-Performance-Ergonomi...</td>\n",
       "      <td>X9 Performance</td>\n",
       "      <td>$49.99</td>\n",
       "      <td>4.4 out of 5</td>\n",
       "      <td>1,415 global ratings</td>\n",
       "      <td>Laptop, PC, Lenovo, Dell, Linux, HP, Micros...</td>\n",
       "      <td>Black</td>\n",
       "      <td>110.0</td>\n",
       "      <td>USB-A</td>\n",
       "      <td>#69 in Computer Keyboards</td>\n",
       "    </tr>\n",
       "    <tr>\n",
       "      <th>3</th>\n",
       "      <td>Perixx PERIBOARD-106M, Wired Performance Full-...</td>\n",
       "      <td>https://www.amazon.com/Perixx-PERIBOARD-106M-P...</td>\n",
       "      <td>Perixx</td>\n",
       "      <td>$39.99</td>\n",
       "      <td>4.6 out of 5</td>\n",
       "      <td>1,442 global ratings</td>\n",
       "      <td>PC</td>\n",
       "      <td>Beige</td>\n",
       "      <td>104.0</td>\n",
       "      <td>Wired</td>\n",
       "      <td>#316 in Computer Keyboards</td>\n",
       "    </tr>\n",
       "    <tr>\n",
       "      <th>4</th>\n",
       "      <td>Logitech MK120 Wired Keyboard and Mouse Combo ...</td>\n",
       "      <td>https://www.amazon.com/Logitech-Keyboard-Windo...</td>\n",
       "      <td>Logitech</td>\n",
       "      <td>Page 1 of 1</td>\n",
       "      <td>4.6 out of 5</td>\n",
       "      <td>21,152 global ratings</td>\n",
       "      <td>Laptop, Personal Computer</td>\n",
       "      <td>Black</td>\n",
       "      <td>NaN</td>\n",
       "      <td>Usb</td>\n",
       "      <td>#9 in Computer Keyboards</td>\n",
       "    </tr>\n",
       "  </tbody>\n",
       "</table>\n",
       "</div>"
      ],
      "text/plain": [
       "                                               Title  \\\n",
       "0  Computer Keyboard Wired,7-Color Rainbow LED Ba...   \n",
       "1  MARVO Large Print Backlit Keyboard, WK712 Wire...   \n",
       "2  X9 Wired Ergonomic Keyboard with Cushioned Wri...   \n",
       "3  Perixx PERIBOARD-106M, Wired Performance Full-...   \n",
       "4  Logitech MK120 Wired Keyboard and Mouse Combo ...   \n",
       "\n",
       "                                                Link             Brand  \\\n",
       "0  https://www.amazon.com/sspa/click?ie=UTF8&spc=...          Acebaff    \n",
       "1  https://www.amazon.com/sspa/click?ie=UTF8&spc=...            MARVO    \n",
       "2  https://www.amazon.com/X9-Performance-Ergonomi...   X9 Performance    \n",
       "3  https://www.amazon.com/Perixx-PERIBOARD-106M-P...           Perixx    \n",
       "4  https://www.amazon.com/Logitech-Keyboard-Windo...         Logitech    \n",
       "\n",
       "         Price        Review           Total Review  \\\n",
       "0       $21.95  4.3 out of 5     450 global ratings   \n",
       "1       $28.99  4.5 out of 5     146 global ratings   \n",
       "2       $49.99  4.4 out of 5   1,415 global ratings   \n",
       "3       $39.99  4.6 out of 5   1,442 global ratings   \n",
       "4  Page 1 of 1  4.6 out of 5  21,152 global ratings   \n",
       "\n",
       "                                  Compatible Devices    Color  Number of Keys  \\\n",
       "0   Windows 11/10/8/7/XP/VISTA, Mac OS, Chrome OS...   Black            117.0   \n",
       "1                              Laptop, PC, Smart TV    Black            109.0   \n",
       "2     Laptop, PC, Lenovo, Dell, Linux, HP, Micros...   Black            110.0   \n",
       "3                                                PC    Beige            104.0   \n",
       "4                         Laptop, Personal Computer    Black              NaN   \n",
       "\n",
       "  Connectivity Technology                             Rank  \n",
       "0                    USB     #112 in Computer Keyboards     \n",
       "1                  USB-A     #277 in Computer Keyboards     \n",
       "2                  USB-A      #69 in Computer Keyboards     \n",
       "3                  Wired     #316 in Computer Keyboards     \n",
       "4                    Usb       #9 in Computer Keyboards     "
      ]
     },
     "execution_count": 30,
     "metadata": {},
     "output_type": "execute_result"
    }
   ],
   "source": [
    "data = pd.read_csv('../Crawl data/Data/Products',index_col=0)\n",
    "data.head()"
   ]
  },
  {
   "cell_type": "code",
   "execution_count": 31,
   "metadata": {},
   "outputs": [
    {
     "data": {
      "text/html": [
       "<div>\n",
       "<style scoped>\n",
       "    .dataframe tbody tr th:only-of-type {\n",
       "        vertical-align: middle;\n",
       "    }\n",
       "\n",
       "    .dataframe tbody tr th {\n",
       "        vertical-align: top;\n",
       "    }\n",
       "\n",
       "    .dataframe thead th {\n",
       "        text-align: right;\n",
       "    }\n",
       "</style>\n",
       "<table border=\"1\" class=\"dataframe\">\n",
       "  <thead>\n",
       "    <tr style=\"text-align: right;\">\n",
       "      <th></th>\n",
       "      <th>Number of Keys</th>\n",
       "    </tr>\n",
       "  </thead>\n",
       "  <tbody>\n",
       "    <tr>\n",
       "      <th>count</th>\n",
       "      <td>285.000000</td>\n",
       "    </tr>\n",
       "    <tr>\n",
       "      <th>mean</th>\n",
       "      <td>96.378947</td>\n",
       "    </tr>\n",
       "    <tr>\n",
       "      <th>std</th>\n",
       "      <td>24.338941</td>\n",
       "    </tr>\n",
       "    <tr>\n",
       "      <th>min</th>\n",
       "      <td>17.000000</td>\n",
       "    </tr>\n",
       "    <tr>\n",
       "      <th>25%</th>\n",
       "      <td>104.000000</td>\n",
       "    </tr>\n",
       "    <tr>\n",
       "      <th>50%</th>\n",
       "      <td>104.000000</td>\n",
       "    </tr>\n",
       "    <tr>\n",
       "      <th>75%</th>\n",
       "      <td>106.000000</td>\n",
       "    </tr>\n",
       "    <tr>\n",
       "      <th>max</th>\n",
       "      <td>117.000000</td>\n",
       "    </tr>\n",
       "  </tbody>\n",
       "</table>\n",
       "</div>"
      ],
      "text/plain": [
       "       Number of Keys\n",
       "count      285.000000\n",
       "mean        96.378947\n",
       "std         24.338941\n",
       "min         17.000000\n",
       "25%        104.000000\n",
       "50%        104.000000\n",
       "75%        106.000000\n",
       "max        117.000000"
      ]
     },
     "execution_count": 31,
     "metadata": {},
     "output_type": "execute_result"
    }
   ],
   "source": [
    "#see some information of data\n",
    "data.describe()"
   ]
  },
  {
   "cell_type": "code",
   "execution_count": 32,
   "metadata": {},
   "outputs": [
    {
     "name": "stdout",
     "output_type": "stream",
     "text": [
      "<class 'pandas.core.frame.DataFrame'>\n",
      "Index: 311 entries, 0 to 310\n",
      "Data columns (total 11 columns):\n",
      " #   Column                   Non-Null Count  Dtype  \n",
      "---  ------                   --------------  -----  \n",
      " 0   Title                    311 non-null    object \n",
      " 1   Link                     311 non-null    object \n",
      " 2   Brand                    311 non-null    object \n",
      " 3   Price                    311 non-null    object \n",
      " 4   Review                   311 non-null    object \n",
      " 5   Total Review             311 non-null    object \n",
      " 6   Compatible Devices       311 non-null    object \n",
      " 7   Color                    306 non-null    object \n",
      " 8   Number of Keys           285 non-null    float64\n",
      " 9   Connectivity Technology  311 non-null    object \n",
      " 10  Rank                     311 non-null    object \n",
      "dtypes: float64(1), object(10)\n",
      "memory usage: 29.2+ KB\n"
     ]
    }
   ],
   "source": [
    "data.info()"
   ]
  },
  {
   "cell_type": "markdown",
   "metadata": {},
   "source": [
    "#### To do list to cleaning before analysting data\n",
    "1. Extract Numbers\n",
    "* Price Column: Extract numeric values from the price column and \"Page 1 of 1\" value to null.\n",
    "* Review Column: Extract numeric values from the review column.\n",
    "* Total Review Column: Extract numeric values from the total review column.\n",
    "* Rank Column: Extract numeric values from the rank column.\n",
    "2. Change Data Types\n",
    "* Price Column: Convert the price column data type to float.\n",
    "* Review Column: Convert the review column data type to float.\n",
    "* Total Review Column: Convert the total review column data type to float.\n",
    "* Rank Column: Convert the rank column data type to integer.\n",
    "3. Handle Null and Duplicated Values\n",
    "* Check for Null Values: Identify null values in all columns.\n",
    "* Replace Null Values: Replace null values with the mean value of their respective columns.\n",
    "* Check for Duplicates: Identify any duplicate rows in the dataset.\n",
    "* Remove Duplicates: Remove duplicate rows to ensure data integrity."
   ]
  },
  {
   "cell_type": "code",
   "execution_count": 33,
   "metadata": {},
   "outputs": [],
   "source": [
    "#Extract Numbers\n",
    "data[\"Review\"] = data[\"Review\"].str.split(\" \").str[0].astype(float)\n",
    "data[\"Total Review\"] = data[\"Total Review\"].str.split(\" \").str[0].str.replace(\",\",\"\").astype(int)\n",
    "data[\"Rank\"] = data[\"Rank\"].str.strip().str.split(\" \").str[0].str.replace(\"#\",\"\").str.replace (\",\",\"\").astype(int)"
   ]
  },
  {
   "cell_type": "code",
   "execution_count": 34,
   "metadata": {},
   "outputs": [
    {
     "data": {
      "text/html": [
       "<div>\n",
       "<style scoped>\n",
       "    .dataframe tbody tr th:only-of-type {\n",
       "        vertical-align: middle;\n",
       "    }\n",
       "\n",
       "    .dataframe tbody tr th {\n",
       "        vertical-align: top;\n",
       "    }\n",
       "\n",
       "    .dataframe thead th {\n",
       "        text-align: right;\n",
       "    }\n",
       "</style>\n",
       "<table border=\"1\" class=\"dataframe\">\n",
       "  <thead>\n",
       "    <tr style=\"text-align: right;\">\n",
       "      <th></th>\n",
       "      <th>Title</th>\n",
       "      <th>Link</th>\n",
       "      <th>Brand</th>\n",
       "      <th>Price</th>\n",
       "      <th>Review</th>\n",
       "      <th>Total Review</th>\n",
       "      <th>Compatible Devices</th>\n",
       "      <th>Color</th>\n",
       "      <th>Number of Keys</th>\n",
       "      <th>Connectivity Technology</th>\n",
       "      <th>Rank</th>\n",
       "    </tr>\n",
       "  </thead>\n",
       "  <tbody>\n",
       "    <tr>\n",
       "      <th>0</th>\n",
       "      <td>Computer Keyboard Wired,7-Color Rainbow LED Ba...</td>\n",
       "      <td>https://www.amazon.com/sspa/click?ie=UTF8&amp;spc=...</td>\n",
       "      <td>Acebaff</td>\n",
       "      <td>$21.95</td>\n",
       "      <td>4.3</td>\n",
       "      <td>450</td>\n",
       "      <td>Windows 11/10/8/7/XP/VISTA, Mac OS, Chrome OS...</td>\n",
       "      <td>Black</td>\n",
       "      <td>117.0</td>\n",
       "      <td>USB</td>\n",
       "      <td>112</td>\n",
       "    </tr>\n",
       "    <tr>\n",
       "      <th>1</th>\n",
       "      <td>MARVO Large Print Backlit Keyboard, WK712 Wire...</td>\n",
       "      <td>https://www.amazon.com/sspa/click?ie=UTF8&amp;spc=...</td>\n",
       "      <td>MARVO</td>\n",
       "      <td>$28.99</td>\n",
       "      <td>4.5</td>\n",
       "      <td>146</td>\n",
       "      <td>Laptop, PC, Smart TV</td>\n",
       "      <td>Black</td>\n",
       "      <td>109.0</td>\n",
       "      <td>USB-A</td>\n",
       "      <td>277</td>\n",
       "    </tr>\n",
       "    <tr>\n",
       "      <th>2</th>\n",
       "      <td>X9 Wired Ergonomic Keyboard with Cushioned Wri...</td>\n",
       "      <td>https://www.amazon.com/X9-Performance-Ergonomi...</td>\n",
       "      <td>X9 Performance</td>\n",
       "      <td>$49.99</td>\n",
       "      <td>4.4</td>\n",
       "      <td>1415</td>\n",
       "      <td>Laptop, PC, Lenovo, Dell, Linux, HP, Micros...</td>\n",
       "      <td>Black</td>\n",
       "      <td>110.0</td>\n",
       "      <td>USB-A</td>\n",
       "      <td>69</td>\n",
       "    </tr>\n",
       "    <tr>\n",
       "      <th>3</th>\n",
       "      <td>Perixx PERIBOARD-106M, Wired Performance Full-...</td>\n",
       "      <td>https://www.amazon.com/Perixx-PERIBOARD-106M-P...</td>\n",
       "      <td>Perixx</td>\n",
       "      <td>$39.99</td>\n",
       "      <td>4.6</td>\n",
       "      <td>1442</td>\n",
       "      <td>PC</td>\n",
       "      <td>Beige</td>\n",
       "      <td>104.0</td>\n",
       "      <td>Wired</td>\n",
       "      <td>316</td>\n",
       "    </tr>\n",
       "    <tr>\n",
       "      <th>4</th>\n",
       "      <td>Logitech MK120 Wired Keyboard and Mouse Combo ...</td>\n",
       "      <td>https://www.amazon.com/Logitech-Keyboard-Windo...</td>\n",
       "      <td>Logitech</td>\n",
       "      <td>Page 1 of 1</td>\n",
       "      <td>4.6</td>\n",
       "      <td>21152</td>\n",
       "      <td>Laptop, Personal Computer</td>\n",
       "      <td>Black</td>\n",
       "      <td>NaN</td>\n",
       "      <td>Usb</td>\n",
       "      <td>9</td>\n",
       "    </tr>\n",
       "  </tbody>\n",
       "</table>\n",
       "</div>"
      ],
      "text/plain": [
       "                                               Title  \\\n",
       "0  Computer Keyboard Wired,7-Color Rainbow LED Ba...   \n",
       "1  MARVO Large Print Backlit Keyboard, WK712 Wire...   \n",
       "2  X9 Wired Ergonomic Keyboard with Cushioned Wri...   \n",
       "3  Perixx PERIBOARD-106M, Wired Performance Full-...   \n",
       "4  Logitech MK120 Wired Keyboard and Mouse Combo ...   \n",
       "\n",
       "                                                Link             Brand  \\\n",
       "0  https://www.amazon.com/sspa/click?ie=UTF8&spc=...          Acebaff    \n",
       "1  https://www.amazon.com/sspa/click?ie=UTF8&spc=...            MARVO    \n",
       "2  https://www.amazon.com/X9-Performance-Ergonomi...   X9 Performance    \n",
       "3  https://www.amazon.com/Perixx-PERIBOARD-106M-P...           Perixx    \n",
       "4  https://www.amazon.com/Logitech-Keyboard-Windo...         Logitech    \n",
       "\n",
       "         Price  Review  Total Review  \\\n",
       "0       $21.95     4.3           450   \n",
       "1       $28.99     4.5           146   \n",
       "2       $49.99     4.4          1415   \n",
       "3       $39.99     4.6          1442   \n",
       "4  Page 1 of 1     4.6         21152   \n",
       "\n",
       "                                  Compatible Devices    Color  Number of Keys  \\\n",
       "0   Windows 11/10/8/7/XP/VISTA, Mac OS, Chrome OS...   Black            117.0   \n",
       "1                              Laptop, PC, Smart TV    Black            109.0   \n",
       "2     Laptop, PC, Lenovo, Dell, Linux, HP, Micros...   Black            110.0   \n",
       "3                                                PC    Beige            104.0   \n",
       "4                         Laptop, Personal Computer    Black              NaN   \n",
       "\n",
       "  Connectivity Technology  Rank  \n",
       "0                    USB    112  \n",
       "1                  USB-A    277  \n",
       "2                  USB-A     69  \n",
       "3                  Wired    316  \n",
       "4                    Usb      9  "
      ]
     },
     "execution_count": 34,
     "metadata": {},
     "output_type": "execute_result"
    }
   ],
   "source": [
    "data.head()"
   ]
  },
  {
   "cell_type": "code",
   "execution_count": 35,
   "metadata": {},
   "outputs": [],
   "source": [
    "data[\"Price\"] = data[\"Price\"].replace(\"Page 1 of 1\",np.nan)"
   ]
  },
  {
   "cell_type": "code",
   "execution_count": 36,
   "metadata": {},
   "outputs": [
    {
     "data": {
      "text/html": [
       "<div>\n",
       "<style scoped>\n",
       "    .dataframe tbody tr th:only-of-type {\n",
       "        vertical-align: middle;\n",
       "    }\n",
       "\n",
       "    .dataframe tbody tr th {\n",
       "        vertical-align: top;\n",
       "    }\n",
       "\n",
       "    .dataframe thead th {\n",
       "        text-align: right;\n",
       "    }\n",
       "</style>\n",
       "<table border=\"1\" class=\"dataframe\">\n",
       "  <thead>\n",
       "    <tr style=\"text-align: right;\">\n",
       "      <th></th>\n",
       "      <th>Title</th>\n",
       "      <th>Link</th>\n",
       "      <th>Brand</th>\n",
       "      <th>Price</th>\n",
       "      <th>Review</th>\n",
       "      <th>Total Review</th>\n",
       "      <th>Compatible Devices</th>\n",
       "      <th>Color</th>\n",
       "      <th>Number of Keys</th>\n",
       "      <th>Connectivity Technology</th>\n",
       "      <th>Rank</th>\n",
       "    </tr>\n",
       "  </thead>\n",
       "  <tbody>\n",
       "    <tr>\n",
       "      <th>0</th>\n",
       "      <td>Computer Keyboard Wired,7-Color Rainbow LED Ba...</td>\n",
       "      <td>https://www.amazon.com/sspa/click?ie=UTF8&amp;spc=...</td>\n",
       "      <td>Acebaff</td>\n",
       "      <td>$21.95</td>\n",
       "      <td>4.3</td>\n",
       "      <td>450</td>\n",
       "      <td>Windows 11/10/8/7/XP/VISTA, Mac OS, Chrome OS...</td>\n",
       "      <td>Black</td>\n",
       "      <td>117.0</td>\n",
       "      <td>USB</td>\n",
       "      <td>112</td>\n",
       "    </tr>\n",
       "    <tr>\n",
       "      <th>1</th>\n",
       "      <td>MARVO Large Print Backlit Keyboard, WK712 Wire...</td>\n",
       "      <td>https://www.amazon.com/sspa/click?ie=UTF8&amp;spc=...</td>\n",
       "      <td>MARVO</td>\n",
       "      <td>$28.99</td>\n",
       "      <td>4.5</td>\n",
       "      <td>146</td>\n",
       "      <td>Laptop, PC, Smart TV</td>\n",
       "      <td>Black</td>\n",
       "      <td>109.0</td>\n",
       "      <td>USB-A</td>\n",
       "      <td>277</td>\n",
       "    </tr>\n",
       "    <tr>\n",
       "      <th>2</th>\n",
       "      <td>X9 Wired Ergonomic Keyboard with Cushioned Wri...</td>\n",
       "      <td>https://www.amazon.com/X9-Performance-Ergonomi...</td>\n",
       "      <td>X9 Performance</td>\n",
       "      <td>$49.99</td>\n",
       "      <td>4.4</td>\n",
       "      <td>1415</td>\n",
       "      <td>Laptop, PC, Lenovo, Dell, Linux, HP, Micros...</td>\n",
       "      <td>Black</td>\n",
       "      <td>110.0</td>\n",
       "      <td>USB-A</td>\n",
       "      <td>69</td>\n",
       "    </tr>\n",
       "    <tr>\n",
       "      <th>3</th>\n",
       "      <td>Perixx PERIBOARD-106M, Wired Performance Full-...</td>\n",
       "      <td>https://www.amazon.com/Perixx-PERIBOARD-106M-P...</td>\n",
       "      <td>Perixx</td>\n",
       "      <td>$39.99</td>\n",
       "      <td>4.6</td>\n",
       "      <td>1442</td>\n",
       "      <td>PC</td>\n",
       "      <td>Beige</td>\n",
       "      <td>104.0</td>\n",
       "      <td>Wired</td>\n",
       "      <td>316</td>\n",
       "    </tr>\n",
       "    <tr>\n",
       "      <th>4</th>\n",
       "      <td>Logitech MK120 Wired Keyboard and Mouse Combo ...</td>\n",
       "      <td>https://www.amazon.com/Logitech-Keyboard-Windo...</td>\n",
       "      <td>Logitech</td>\n",
       "      <td>NaN</td>\n",
       "      <td>4.6</td>\n",
       "      <td>21152</td>\n",
       "      <td>Laptop, Personal Computer</td>\n",
       "      <td>Black</td>\n",
       "      <td>NaN</td>\n",
       "      <td>Usb</td>\n",
       "      <td>9</td>\n",
       "    </tr>\n",
       "  </tbody>\n",
       "</table>\n",
       "</div>"
      ],
      "text/plain": [
       "                                               Title  \\\n",
       "0  Computer Keyboard Wired,7-Color Rainbow LED Ba...   \n",
       "1  MARVO Large Print Backlit Keyboard, WK712 Wire...   \n",
       "2  X9 Wired Ergonomic Keyboard with Cushioned Wri...   \n",
       "3  Perixx PERIBOARD-106M, Wired Performance Full-...   \n",
       "4  Logitech MK120 Wired Keyboard and Mouse Combo ...   \n",
       "\n",
       "                                                Link             Brand  \\\n",
       "0  https://www.amazon.com/sspa/click?ie=UTF8&spc=...          Acebaff    \n",
       "1  https://www.amazon.com/sspa/click?ie=UTF8&spc=...            MARVO    \n",
       "2  https://www.amazon.com/X9-Performance-Ergonomi...   X9 Performance    \n",
       "3  https://www.amazon.com/Perixx-PERIBOARD-106M-P...           Perixx    \n",
       "4  https://www.amazon.com/Logitech-Keyboard-Windo...         Logitech    \n",
       "\n",
       "    Price  Review  Total Review  \\\n",
       "0  $21.95     4.3           450   \n",
       "1  $28.99     4.5           146   \n",
       "2  $49.99     4.4          1415   \n",
       "3  $39.99     4.6          1442   \n",
       "4     NaN     4.6         21152   \n",
       "\n",
       "                                  Compatible Devices    Color  Number of Keys  \\\n",
       "0   Windows 11/10/8/7/XP/VISTA, Mac OS, Chrome OS...   Black            117.0   \n",
       "1                              Laptop, PC, Smart TV    Black            109.0   \n",
       "2     Laptop, PC, Lenovo, Dell, Linux, HP, Micros...   Black            110.0   \n",
       "3                                                PC    Beige            104.0   \n",
       "4                         Laptop, Personal Computer    Black              NaN   \n",
       "\n",
       "  Connectivity Technology  Rank  \n",
       "0                    USB    112  \n",
       "1                  USB-A    277  \n",
       "2                  USB-A     69  \n",
       "3                  Wired    316  \n",
       "4                    Usb      9  "
      ]
     },
     "execution_count": 36,
     "metadata": {},
     "output_type": "execute_result"
    }
   ],
   "source": [
    "data.head()"
   ]
  },
  {
   "cell_type": "code",
   "execution_count": 37,
   "metadata": {},
   "outputs": [],
   "source": [
    "data[\"Price\"] = data[\"Price\"].str.replace(\"$\",\"\").astype(float)"
   ]
  },
  {
   "cell_type": "code",
   "execution_count": 38,
   "metadata": {},
   "outputs": [
    {
     "data": {
      "text/html": [
       "<div>\n",
       "<style scoped>\n",
       "    .dataframe tbody tr th:only-of-type {\n",
       "        vertical-align: middle;\n",
       "    }\n",
       "\n",
       "    .dataframe tbody tr th {\n",
       "        vertical-align: top;\n",
       "    }\n",
       "\n",
       "    .dataframe thead th {\n",
       "        text-align: right;\n",
       "    }\n",
       "</style>\n",
       "<table border=\"1\" class=\"dataframe\">\n",
       "  <thead>\n",
       "    <tr style=\"text-align: right;\">\n",
       "      <th></th>\n",
       "      <th>Title</th>\n",
       "      <th>Link</th>\n",
       "      <th>Brand</th>\n",
       "      <th>Price</th>\n",
       "      <th>Review</th>\n",
       "      <th>Total Review</th>\n",
       "      <th>Compatible Devices</th>\n",
       "      <th>Color</th>\n",
       "      <th>Number of Keys</th>\n",
       "      <th>Connectivity Technology</th>\n",
       "      <th>Rank</th>\n",
       "    </tr>\n",
       "  </thead>\n",
       "  <tbody>\n",
       "    <tr>\n",
       "      <th>0</th>\n",
       "      <td>Computer Keyboard Wired,7-Color Rainbow LED Ba...</td>\n",
       "      <td>https://www.amazon.com/sspa/click?ie=UTF8&amp;spc=...</td>\n",
       "      <td>Acebaff</td>\n",
       "      <td>21.95</td>\n",
       "      <td>4.3</td>\n",
       "      <td>450</td>\n",
       "      <td>Windows 11/10/8/7/XP/VISTA, Mac OS, Chrome OS...</td>\n",
       "      <td>Black</td>\n",
       "      <td>117.0</td>\n",
       "      <td>USB</td>\n",
       "      <td>112</td>\n",
       "    </tr>\n",
       "    <tr>\n",
       "      <th>1</th>\n",
       "      <td>MARVO Large Print Backlit Keyboard, WK712 Wire...</td>\n",
       "      <td>https://www.amazon.com/sspa/click?ie=UTF8&amp;spc=...</td>\n",
       "      <td>MARVO</td>\n",
       "      <td>28.99</td>\n",
       "      <td>4.5</td>\n",
       "      <td>146</td>\n",
       "      <td>Laptop, PC, Smart TV</td>\n",
       "      <td>Black</td>\n",
       "      <td>109.0</td>\n",
       "      <td>USB-A</td>\n",
       "      <td>277</td>\n",
       "    </tr>\n",
       "    <tr>\n",
       "      <th>2</th>\n",
       "      <td>X9 Wired Ergonomic Keyboard with Cushioned Wri...</td>\n",
       "      <td>https://www.amazon.com/X9-Performance-Ergonomi...</td>\n",
       "      <td>X9 Performance</td>\n",
       "      <td>49.99</td>\n",
       "      <td>4.4</td>\n",
       "      <td>1415</td>\n",
       "      <td>Laptop, PC, Lenovo, Dell, Linux, HP, Micros...</td>\n",
       "      <td>Black</td>\n",
       "      <td>110.0</td>\n",
       "      <td>USB-A</td>\n",
       "      <td>69</td>\n",
       "    </tr>\n",
       "    <tr>\n",
       "      <th>3</th>\n",
       "      <td>Perixx PERIBOARD-106M, Wired Performance Full-...</td>\n",
       "      <td>https://www.amazon.com/Perixx-PERIBOARD-106M-P...</td>\n",
       "      <td>Perixx</td>\n",
       "      <td>39.99</td>\n",
       "      <td>4.6</td>\n",
       "      <td>1442</td>\n",
       "      <td>PC</td>\n",
       "      <td>Beige</td>\n",
       "      <td>104.0</td>\n",
       "      <td>Wired</td>\n",
       "      <td>316</td>\n",
       "    </tr>\n",
       "    <tr>\n",
       "      <th>4</th>\n",
       "      <td>Logitech MK120 Wired Keyboard and Mouse Combo ...</td>\n",
       "      <td>https://www.amazon.com/Logitech-Keyboard-Windo...</td>\n",
       "      <td>Logitech</td>\n",
       "      <td>NaN</td>\n",
       "      <td>4.6</td>\n",
       "      <td>21152</td>\n",
       "      <td>Laptop, Personal Computer</td>\n",
       "      <td>Black</td>\n",
       "      <td>NaN</td>\n",
       "      <td>Usb</td>\n",
       "      <td>9</td>\n",
       "    </tr>\n",
       "  </tbody>\n",
       "</table>\n",
       "</div>"
      ],
      "text/plain": [
       "                                               Title  \\\n",
       "0  Computer Keyboard Wired,7-Color Rainbow LED Ba...   \n",
       "1  MARVO Large Print Backlit Keyboard, WK712 Wire...   \n",
       "2  X9 Wired Ergonomic Keyboard with Cushioned Wri...   \n",
       "3  Perixx PERIBOARD-106M, Wired Performance Full-...   \n",
       "4  Logitech MK120 Wired Keyboard and Mouse Combo ...   \n",
       "\n",
       "                                                Link             Brand  Price  \\\n",
       "0  https://www.amazon.com/sspa/click?ie=UTF8&spc=...          Acebaff   21.95   \n",
       "1  https://www.amazon.com/sspa/click?ie=UTF8&spc=...            MARVO   28.99   \n",
       "2  https://www.amazon.com/X9-Performance-Ergonomi...   X9 Performance   49.99   \n",
       "3  https://www.amazon.com/Perixx-PERIBOARD-106M-P...           Perixx   39.99   \n",
       "4  https://www.amazon.com/Logitech-Keyboard-Windo...         Logitech     NaN   \n",
       "\n",
       "   Review  Total Review                                 Compatible Devices  \\\n",
       "0     4.3           450   Windows 11/10/8/7/XP/VISTA, Mac OS, Chrome OS...   \n",
       "1     4.5           146                              Laptop, PC, Smart TV    \n",
       "2     4.4          1415     Laptop, PC, Lenovo, Dell, Linux, HP, Micros...   \n",
       "3     4.6          1442                                                PC    \n",
       "4     4.6         21152                         Laptop, Personal Computer    \n",
       "\n",
       "     Color  Number of Keys Connectivity Technology  Rank  \n",
       "0   Black            117.0                    USB    112  \n",
       "1   Black            109.0                  USB-A    277  \n",
       "2   Black            110.0                  USB-A     69  \n",
       "3   Beige            104.0                  Wired    316  \n",
       "4   Black              NaN                    Usb      9  "
      ]
     },
     "execution_count": 38,
     "metadata": {},
     "output_type": "execute_result"
    }
   ],
   "source": [
    "data.head()"
   ]
  },
  {
   "cell_type": "code",
   "execution_count": 39,
   "metadata": {},
   "outputs": [
    {
     "data": {
      "text/plain": [
       "Title                       0\n",
       "Link                        0\n",
       "Brand                       0\n",
       "Price                      59\n",
       "Review                      0\n",
       "Total Review                0\n",
       "Compatible Devices          0\n",
       "Color                       5\n",
       "Number of Keys             26\n",
       "Connectivity Technology     0\n",
       "Rank                        0\n",
       "dtype: int64"
      ]
     },
     "execution_count": 39,
     "metadata": {},
     "output_type": "execute_result"
    }
   ],
   "source": [
    "data.isnull().sum()"
   ]
  },
  {
   "cell_type": "code",
   "execution_count": 43,
   "metadata": {},
   "outputs": [
    {
     "data": {
      "text/plain": [
       "np.float64(49.144780876494025)"
      ]
     },
     "execution_count": 43,
     "metadata": {},
     "output_type": "execute_result"
    }
   ],
   "source": [
    "mean_val = data[\"Price\"].mean()\n",
    "mean_val"
   ]
  },
  {
   "cell_type": "code",
   "execution_count": 44,
   "metadata": {},
   "outputs": [],
   "source": [
    "data[\"Price\"] = data[\"Price\"].replace(np.nan,mean_val)"
   ]
  },
  {
   "cell_type": "code",
   "execution_count": 45,
   "metadata": {},
   "outputs": [
    {
     "data": {
      "text/plain": [
       "np.int64(0)"
      ]
     },
     "execution_count": 45,
     "metadata": {},
     "output_type": "execute_result"
    }
   ],
   "source": [
    "data[\"Price\"].isna().sum()"
   ]
  },
  {
   "cell_type": "code",
   "execution_count": 46,
   "metadata": {},
   "outputs": [
    {
     "data": {
      "text/plain": [
       "np.float64(96.35211267605634)"
      ]
     },
     "execution_count": 46,
     "metadata": {},
     "output_type": "execute_result"
    }
   ],
   "source": [
    "mean_val_keys = data[\"Number of Keys\"].mean()\n",
    "mean_val_keys"
   ]
  },
  {
   "cell_type": "code",
   "execution_count": 47,
   "metadata": {},
   "outputs": [],
   "source": [
    "data[\"Number of Keys\"] = data[\"Number of Keys\"].replace(np.nan,mean_val_keys).astype(int)"
   ]
  },
  {
   "cell_type": "code",
   "execution_count": 48,
   "metadata": {},
   "outputs": [
    {
     "data": {
      "text/plain": [
       "np.int64(0)"
      ]
     },
     "execution_count": 48,
     "metadata": {},
     "output_type": "execute_result"
    }
   ],
   "source": [
    "data[\"Number of Keys\"].isna().sum()"
   ]
  },
  {
   "cell_type": "code",
   "execution_count": 40,
   "metadata": {},
   "outputs": [
    {
     "data": {
      "text/plain": [
       "np.int64(1)"
      ]
     },
     "execution_count": 40,
     "metadata": {},
     "output_type": "execute_result"
    }
   ],
   "source": [
    "data.duplicated().sum()"
   ]
  },
  {
   "cell_type": "code",
   "execution_count": 41,
   "metadata": {},
   "outputs": [],
   "source": [
    "data.drop_duplicates(inplace=True)"
   ]
  },
  {
   "cell_type": "code",
   "execution_count": 42,
   "metadata": {},
   "outputs": [
    {
     "data": {
      "text/plain": [
       "np.int64(0)"
      ]
     },
     "execution_count": 42,
     "metadata": {},
     "output_type": "execute_result"
    }
   ],
   "source": [
    "data.duplicated().sum()"
   ]
  },
  {
   "cell_type": "code",
   "execution_count": 49,
   "metadata": {},
   "outputs": [
    {
     "name": "stdout",
     "output_type": "stream",
     "text": [
      "<class 'pandas.core.frame.DataFrame'>\n",
      "Index: 310 entries, 0 to 310\n",
      "Data columns (total 11 columns):\n",
      " #   Column                   Non-Null Count  Dtype  \n",
      "---  ------                   --------------  -----  \n",
      " 0   Title                    310 non-null    object \n",
      " 1   Link                     310 non-null    object \n",
      " 2   Brand                    310 non-null    object \n",
      " 3   Price                    310 non-null    float64\n",
      " 4   Review                   310 non-null    float64\n",
      " 5   Total Review             310 non-null    int64  \n",
      " 6   Compatible Devices       310 non-null    object \n",
      " 7   Color                    305 non-null    object \n",
      " 8   Number of Keys           310 non-null    float64\n",
      " 9   Connectivity Technology  310 non-null    object \n",
      " 10  Rank                     310 non-null    int64  \n",
      "dtypes: float64(3), int64(2), object(6)\n",
      "memory usage: 29.1+ KB\n"
     ]
    }
   ],
   "source": [
    "data.info()"
   ]
  },
  {
   "cell_type": "code",
   "execution_count": 51,
   "metadata": {},
   "outputs": [
    {
     "data": {
      "text/plain": [
       "array([' USB ', ' USB-A ', ' Wired ', ' Usb ', ' Wireless, Bluetooth ',\n",
       "       ' wired ', ' Bluetooth ', ' wireless ', ' USB-A, USB 2.0 ',\n",
       "       ' USB only (Non-Bluetooth) ', ' Bluetooth, USB-C ', ' USB-C ',\n",
       "       ' RF, USB ', ' USB, USB-A ', ' Micro USB ', ' USB Wireless ',\n",
       "       ' Bluetooth, USB ', ' Wireless ', ' RF, Unifying Receiver ',\n",
       "       ' Bluetooth, 2.4G USB ', ' USB-A, USB-C '], dtype=object)"
      ]
     },
     "execution_count": 51,
     "metadata": {},
     "output_type": "execute_result"
    }
   ],
   "source": [
    "data[\"Connectivity Technology\"].unique()"
   ]
  },
  {
   "cell_type": "code",
   "execution_count": 52,
   "metadata": {},
   "outputs": [
    {
     "data": {
      "text/plain": [
       "array([117.        , 109.        , 110.        , 104.        ,\n",
       "        96.35211268,  19.        , 101.        , 105.        ,\n",
       "        79.        , 111.        ,  78.        ,  61.        ,\n",
       "       108.        ,  96.        ,  17.        , 114.        ,\n",
       "       112.        , 102.        , 106.        ,  84.        ])"
      ]
     },
     "execution_count": 52,
     "metadata": {},
     "output_type": "execute_result"
    }
   ],
   "source": [
    "data[\"Number of Keys\"].unique()"
   ]
  },
  {
   "cell_type": "code",
   "execution_count": 53,
   "metadata": {},
   "outputs": [
    {
     "data": {
      "text/plain": [
       "array([' Windows 11/10/8/7/XP/VISTA, Mac OS, Chrome OS, Linux ',\n",
       "       ' Laptop, PC, Smart TV ',\n",
       "       '   Laptop, PC, Lenovo, Dell, Linux, HP, Microsof Surface, Acer, Asus, Samsung, Chromebook, Alienware, Razer, LG   See more  ',\n",
       "       ' PC ', ' Laptop, Personal Computer ',\n",
       "       ' iPhone, Apple Mac Pro / Mini, Macbook Pro / Air, iMac, iPad ',\n",
       "       ' Laptop ', ' Laptop, Gaming Console, PC ', ' Laptop, PC ',\n",
       "       ' Compatible on Windows, macOS, Linux and Chrome OS ',\n",
       "       ' Personal Computer ', ' Laptop, PC, Tablet, Smartphone ',\n",
       "       ' Laptop, PC, Windows, Mac ', ' Gaming Console ',\n",
       "       '   Windows, Xbox, PlayStation, and Mac OS X*. USB port required *Not all software features supported on Mac OS   See more  ',\n",
       "       ' computers and devices with USB connectivity ',\n",
       "       ' PC, Tablet, Smartphone ', ' Laptop, PC, Tablet ',\n",
       "       ' Laptop, PC, Gaming Console, Smart TV ',\n",
       "       ' Computers, Laptop, PC, Desktop ',\n",
       "       ' Laptop, Gaming Console, Smart TV, PC ',\n",
       "       ' Laptop, Gaming Console, PC, Tablet ',\n",
       "       ' TV, Gaming Console, Tablet, Smartphone ',\n",
       "       ' Laptop, PC, Smart TV, Tablet, Smartphone ',\n",
       "       ' Laptop, PC, Desktop ', ' Projector, Laptop, Television, Tablet ',\n",
       "       ' Laptop, PC, Gaming Console ', ' Laptop, Smart TV, PC ',\n",
       "       ' Laptop, Gaming Console, PC, Smart TV '], dtype=object)"
      ]
     },
     "execution_count": 53,
     "metadata": {},
     "output_type": "execute_result"
    }
   ],
   "source": [
    "data[\"Compatible Devices\"].unique()"
   ]
  },
  {
   "cell_type": "markdown",
   "metadata": {},
   "source": [
    "To-do list for exploring data:\n",
    "\n",
    "1. **Calculate Average, Min, Max, Mean Price of Each Brand**\n",
    "   - **Objective**: Determine the pricing statistics for each brand.\n",
    "   - **Method**: Use groupby operations to aggregate statistics for each brand.\n",
    "\n",
    "2. **Calculate Average, Min, Max, Mean Review of Each Brand**\n",
    "   - **Objective**: Analyze review statistics for each brand.\n",
    "   - **Method**: Group data by brand and compute the required statistics for reviews.\n",
    "\n",
    "3. **Calculate Average, Min, Max, Mean Rank of Each Brand**\n",
    "   - **Objective**: Evaluate ranking statistics for each brand.\n",
    "   - **Method**: Similar to the previous tasks, use groupby to aggregate rank statistics.\n",
    "\n",
    "4. **Calculate Mean, Max, Min, Average of Each Brand’s Total Reviews (Units Sold)**\n",
    "   - **Objective**: Analyze sales data for each brand.\n",
    "   - **Method**: Aggregate total reviews (units sold) by brand and compute the required statistics.\n",
    "\n",
    "5. **Count Number of Products of Each Brand and Each Connectivity Technology**\n",
    "   - **Objective**: Determine product counts for brands and connectivity technologies.\n",
    "   - **Method**: Use value counts or groupby to tally the number of products.\n",
    "\n",
    "6. **Add Column for Keyboard Layout**\n",
    "   - **Objective**: Categorize keyboards by layout type.\n",
    "   - **Method**: Add a new column to indicate the layout type based on the number of keys.\n",
    "\n",
    "7. **Which Keyboard Layout Has the Most Products?**\n",
    "   - **Objective**: Identify the most common keyboard layout.\n",
    "   - **Method**: Count occurrences of each layout and find the most frequent one.\n",
    "\n",
    "8. **Sum of Layout Group by Brand**\n",
    "   - **Objective**: Aggregate the count of each layout type by brand.\n",
    "   - **Method**: Group by brand and layout, then sum the counts.\n",
    "\n",
    "9. **Which Color is the Most Favorite?**\n",
    "   - **Objective**: Find the most popular color.\n",
    "   - **Method**: Count occurrences of each color and determine the most frequent one.\n",
    "\n",
    "10. **Separate Compatible Devices Column to Find Most Popular Devices**\n",
    "    - **Objective**: Analyze which devices are most popular.\n",
    "    - **Method**: Split the compatible devices column and count occurrences of each device type."
   ]
  }
 ],
 "metadata": {
  "kernelspec": {
   "display_name": "Python 3",
   "language": "python",
   "name": "python3"
  },
  "language_info": {
   "codemirror_mode": {
    "name": "ipython",
    "version": 3
   },
   "file_extension": ".py",
   "mimetype": "text/x-python",
   "name": "python",
   "nbconvert_exporter": "python",
   "pygments_lexer": "ipython3",
   "version": "3.12.3"
  }
 },
 "nbformat": 4,
 "nbformat_minor": 2
}
