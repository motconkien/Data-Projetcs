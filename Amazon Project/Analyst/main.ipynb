{
 "cells": [
  {
   "cell_type": "code",
   "execution_count": 1,
   "metadata": {},
   "outputs": [],
   "source": [
    "import pandas as pd\n",
    "import numpy as np\n",
    "import matplotlib.pyplot as plt\n",
    "import seaborn as sns\n",
    "import plotly.express as px \n",
    "import plotly.express as px\n",
    "import plotly.io as pio\n",
    "from IPython.display import Image\n",
    "import warnings\n",
    "warnings.filterwarnings('ignore')\n",
    "# warnings.simplefilter(action='ignore', category=pd.errors.SettingWithCopyWarning)"
   ]
  },
  {
   "cell_type": "code",
   "execution_count": 2,
   "metadata": {},
   "outputs": [
    {
     "data": {
      "text/html": [
       "<div>\n",
       "<style scoped>\n",
       "    .dataframe tbody tr th:only-of-type {\n",
       "        vertical-align: middle;\n",
       "    }\n",
       "\n",
       "    .dataframe tbody tr th {\n",
       "        vertical-align: top;\n",
       "    }\n",
       "\n",
       "    .dataframe thead th {\n",
       "        text-align: right;\n",
       "    }\n",
       "</style>\n",
       "<table border=\"1\" class=\"dataframe\">\n",
       "  <thead>\n",
       "    <tr style=\"text-align: right;\">\n",
       "      <th></th>\n",
       "      <th>Title</th>\n",
       "      <th>Link</th>\n",
       "      <th>Brand</th>\n",
       "      <th>Price</th>\n",
       "      <th>Review</th>\n",
       "      <th>Total Review</th>\n",
       "      <th>Compatible Devices</th>\n",
       "      <th>Color</th>\n",
       "      <th>Number of Keys</th>\n",
       "      <th>Connectivity Technology</th>\n",
       "      <th>Rank</th>\n",
       "    </tr>\n",
       "  </thead>\n",
       "  <tbody>\n",
       "    <tr>\n",
       "      <th>0</th>\n",
       "      <td>Computer Keyboard Wired,7-Color Rainbow LED Ba...</td>\n",
       "      <td>https://www.amazon.com/sspa/click?ie=UTF8&amp;spc=...</td>\n",
       "      <td>Acebaff</td>\n",
       "      <td>$21.95</td>\n",
       "      <td>4.3 out of 5</td>\n",
       "      <td>450 global ratings</td>\n",
       "      <td>Windows 11/10/8/7/XP/VISTA, Mac OS, Chrome OS...</td>\n",
       "      <td>Black</td>\n",
       "      <td>117.0</td>\n",
       "      <td>USB</td>\n",
       "      <td>#112 in Computer Keyboards</td>\n",
       "    </tr>\n",
       "    <tr>\n",
       "      <th>1</th>\n",
       "      <td>MARVO Large Print Backlit Keyboard, WK712 Wire...</td>\n",
       "      <td>https://www.amazon.com/sspa/click?ie=UTF8&amp;spc=...</td>\n",
       "      <td>MARVO</td>\n",
       "      <td>$28.99</td>\n",
       "      <td>4.5 out of 5</td>\n",
       "      <td>146 global ratings</td>\n",
       "      <td>Laptop, PC, Smart TV</td>\n",
       "      <td>Black</td>\n",
       "      <td>109.0</td>\n",
       "      <td>USB-A</td>\n",
       "      <td>#277 in Computer Keyboards</td>\n",
       "    </tr>\n",
       "    <tr>\n",
       "      <th>2</th>\n",
       "      <td>X9 Wired Ergonomic Keyboard with Cushioned Wri...</td>\n",
       "      <td>https://www.amazon.com/X9-Performance-Ergonomi...</td>\n",
       "      <td>X9 Performance</td>\n",
       "      <td>$49.99</td>\n",
       "      <td>4.4 out of 5</td>\n",
       "      <td>1,415 global ratings</td>\n",
       "      <td>Laptop, PC, Lenovo, Dell, Linux, HP, Micros...</td>\n",
       "      <td>Black</td>\n",
       "      <td>110.0</td>\n",
       "      <td>USB-A</td>\n",
       "      <td>#69 in Computer Keyboards</td>\n",
       "    </tr>\n",
       "    <tr>\n",
       "      <th>3</th>\n",
       "      <td>Perixx PERIBOARD-106M, Wired Performance Full-...</td>\n",
       "      <td>https://www.amazon.com/Perixx-PERIBOARD-106M-P...</td>\n",
       "      <td>Perixx</td>\n",
       "      <td>$39.99</td>\n",
       "      <td>4.6 out of 5</td>\n",
       "      <td>1,442 global ratings</td>\n",
       "      <td>PC</td>\n",
       "      <td>Beige</td>\n",
       "      <td>104.0</td>\n",
       "      <td>Wired</td>\n",
       "      <td>#316 in Computer Keyboards</td>\n",
       "    </tr>\n",
       "    <tr>\n",
       "      <th>4</th>\n",
       "      <td>Logitech MK120 Wired Keyboard and Mouse Combo ...</td>\n",
       "      <td>https://www.amazon.com/Logitech-Keyboard-Windo...</td>\n",
       "      <td>Logitech</td>\n",
       "      <td>Page 1 of 1</td>\n",
       "      <td>4.6 out of 5</td>\n",
       "      <td>21,152 global ratings</td>\n",
       "      <td>Laptop, Personal Computer</td>\n",
       "      <td>Black</td>\n",
       "      <td>NaN</td>\n",
       "      <td>Usb</td>\n",
       "      <td>#9 in Computer Keyboards</td>\n",
       "    </tr>\n",
       "  </tbody>\n",
       "</table>\n",
       "</div>"
      ],
      "text/plain": [
       "                                               Title  \\\n",
       "0  Computer Keyboard Wired,7-Color Rainbow LED Ba...   \n",
       "1  MARVO Large Print Backlit Keyboard, WK712 Wire...   \n",
       "2  X9 Wired Ergonomic Keyboard with Cushioned Wri...   \n",
       "3  Perixx PERIBOARD-106M, Wired Performance Full-...   \n",
       "4  Logitech MK120 Wired Keyboard and Mouse Combo ...   \n",
       "\n",
       "                                                Link             Brand  \\\n",
       "0  https://www.amazon.com/sspa/click?ie=UTF8&spc=...          Acebaff    \n",
       "1  https://www.amazon.com/sspa/click?ie=UTF8&spc=...            MARVO    \n",
       "2  https://www.amazon.com/X9-Performance-Ergonomi...   X9 Performance    \n",
       "3  https://www.amazon.com/Perixx-PERIBOARD-106M-P...           Perixx    \n",
       "4  https://www.amazon.com/Logitech-Keyboard-Windo...         Logitech    \n",
       "\n",
       "         Price        Review           Total Review  \\\n",
       "0       $21.95  4.3 out of 5     450 global ratings   \n",
       "1       $28.99  4.5 out of 5     146 global ratings   \n",
       "2       $49.99  4.4 out of 5   1,415 global ratings   \n",
       "3       $39.99  4.6 out of 5   1,442 global ratings   \n",
       "4  Page 1 of 1  4.6 out of 5  21,152 global ratings   \n",
       "\n",
       "                                  Compatible Devices    Color  Number of Keys  \\\n",
       "0   Windows 11/10/8/7/XP/VISTA, Mac OS, Chrome OS...   Black            117.0   \n",
       "1                              Laptop, PC, Smart TV    Black            109.0   \n",
       "2     Laptop, PC, Lenovo, Dell, Linux, HP, Micros...   Black            110.0   \n",
       "3                                                PC    Beige            104.0   \n",
       "4                         Laptop, Personal Computer    Black              NaN   \n",
       "\n",
       "  Connectivity Technology                             Rank  \n",
       "0                    USB     #112 in Computer Keyboards     \n",
       "1                  USB-A     #277 in Computer Keyboards     \n",
       "2                  USB-A      #69 in Computer Keyboards     \n",
       "3                  Wired     #316 in Computer Keyboards     \n",
       "4                    Usb       #9 in Computer Keyboards     "
      ]
     },
     "execution_count": 2,
     "metadata": {},
     "output_type": "execute_result"
    }
   ],
   "source": [
    "data = pd.read_csv('../Crawl data/Data/Products',index_col=0)\n",
    "data.head()"
   ]
  },
  {
   "cell_type": "code",
   "execution_count": 3,
   "metadata": {},
   "outputs": [
    {
     "data": {
      "text/html": [
       "<div>\n",
       "<style scoped>\n",
       "    .dataframe tbody tr th:only-of-type {\n",
       "        vertical-align: middle;\n",
       "    }\n",
       "\n",
       "    .dataframe tbody tr th {\n",
       "        vertical-align: top;\n",
       "    }\n",
       "\n",
       "    .dataframe thead th {\n",
       "        text-align: right;\n",
       "    }\n",
       "</style>\n",
       "<table border=\"1\" class=\"dataframe\">\n",
       "  <thead>\n",
       "    <tr style=\"text-align: right;\">\n",
       "      <th></th>\n",
       "      <th>Number of Keys</th>\n",
       "    </tr>\n",
       "  </thead>\n",
       "  <tbody>\n",
       "    <tr>\n",
       "      <th>count</th>\n",
       "      <td>285.000000</td>\n",
       "    </tr>\n",
       "    <tr>\n",
       "      <th>mean</th>\n",
       "      <td>96.378947</td>\n",
       "    </tr>\n",
       "    <tr>\n",
       "      <th>std</th>\n",
       "      <td>24.338941</td>\n",
       "    </tr>\n",
       "    <tr>\n",
       "      <th>min</th>\n",
       "      <td>17.000000</td>\n",
       "    </tr>\n",
       "    <tr>\n",
       "      <th>25%</th>\n",
       "      <td>104.000000</td>\n",
       "    </tr>\n",
       "    <tr>\n",
       "      <th>50%</th>\n",
       "      <td>104.000000</td>\n",
       "    </tr>\n",
       "    <tr>\n",
       "      <th>75%</th>\n",
       "      <td>106.000000</td>\n",
       "    </tr>\n",
       "    <tr>\n",
       "      <th>max</th>\n",
       "      <td>117.000000</td>\n",
       "    </tr>\n",
       "  </tbody>\n",
       "</table>\n",
       "</div>"
      ],
      "text/plain": [
       "       Number of Keys\n",
       "count      285.000000\n",
       "mean        96.378947\n",
       "std         24.338941\n",
       "min         17.000000\n",
       "25%        104.000000\n",
       "50%        104.000000\n",
       "75%        106.000000\n",
       "max        117.000000"
      ]
     },
     "execution_count": 3,
     "metadata": {},
     "output_type": "execute_result"
    }
   ],
   "source": [
    "#see some information of data\n",
    "data.describe()"
   ]
  },
  {
   "cell_type": "code",
   "execution_count": 4,
   "metadata": {},
   "outputs": [
    {
     "name": "stdout",
     "output_type": "stream",
     "text": [
      "<class 'pandas.core.frame.DataFrame'>\n",
      "Index: 311 entries, 0 to 310\n",
      "Data columns (total 11 columns):\n",
      " #   Column                   Non-Null Count  Dtype  \n",
      "---  ------                   --------------  -----  \n",
      " 0   Title                    311 non-null    object \n",
      " 1   Link                     311 non-null    object \n",
      " 2   Brand                    311 non-null    object \n",
      " 3   Price                    311 non-null    object \n",
      " 4   Review                   311 non-null    object \n",
      " 5   Total Review             311 non-null    object \n",
      " 6   Compatible Devices       311 non-null    object \n",
      " 7   Color                    306 non-null    object \n",
      " 8   Number of Keys           285 non-null    float64\n",
      " 9   Connectivity Technology  311 non-null    object \n",
      " 10  Rank                     311 non-null    object \n",
      "dtypes: float64(1), object(10)\n",
      "memory usage: 29.2+ KB\n"
     ]
    }
   ],
   "source": [
    "data.info()"
   ]
  },
  {
   "cell_type": "markdown",
   "metadata": {},
   "source": [
    "##### To do list to cleaning before analysting data\n",
    "1. Extract Numbers\n",
    "* Price Column: Extract numeric values from the price column and \"Page 1 of 1\" value to null.\n",
    "* Review Column: Extract numeric values from the review column.\n",
    "* Total Review Column: Extract numeric values from the total review column.\n",
    "* Rank Column: Extract numeric values from the rank column.\n",
    "2. Change Data Types\n",
    "* Price Column: Convert the price column data type to float.\n",
    "* Review Column: Convert the review column data type to float.\n",
    "* Total Review Column: Convert the total review column data type to float.\n",
    "* Rank Column: Convert the rank column data type to integer.\n",
    "3. Handle Null and Duplicated Values\n",
    "* Check for Null Values: Identify null values in all columns.\n",
    "* Replace Null Values: Replace null values with the mean value of their respective columns.\n",
    "* Check for Duplicates: Identify any duplicate rows in the dataset.\n",
    "* Remove Duplicates: Remove duplicate rows to ensure data integrity."
   ]
  },
  {
   "cell_type": "code",
   "execution_count": 5,
   "metadata": {},
   "outputs": [],
   "source": [
    "#Extract Numbers\n",
    "data[\"Review\"] = data[\"Review\"].str.split(\" \").str[0].astype(float)\n",
    "data[\"Total Review\"] = data[\"Total Review\"].str.split(\" \").str[0].str.replace(\",\",\"\").astype(int)\n",
    "data[\"Rank\"] = data[\"Rank\"].str.strip().str.split(\" \").str[0].str.replace(\"#\",\"\").str.replace (\",\",\"\").astype(int)"
   ]
  },
  {
   "cell_type": "code",
   "execution_count": 6,
   "metadata": {},
   "outputs": [],
   "source": [
    "data[\"Price\"] = data[\"Price\"].replace(\"Page 1 of 1\",np.nan)\n",
    "data[\"Price\"] = data[\"Price\"].str.replace(\"$\",\"\").astype(float)"
   ]
  },
  {
   "cell_type": "code",
   "execution_count": 7,
   "metadata": {},
   "outputs": [
    {
     "data": {
      "text/html": [
       "<div>\n",
       "<style scoped>\n",
       "    .dataframe tbody tr th:only-of-type {\n",
       "        vertical-align: middle;\n",
       "    }\n",
       "\n",
       "    .dataframe tbody tr th {\n",
       "        vertical-align: top;\n",
       "    }\n",
       "\n",
       "    .dataframe thead th {\n",
       "        text-align: right;\n",
       "    }\n",
       "</style>\n",
       "<table border=\"1\" class=\"dataframe\">\n",
       "  <thead>\n",
       "    <tr style=\"text-align: right;\">\n",
       "      <th></th>\n",
       "      <th>Title</th>\n",
       "      <th>Link</th>\n",
       "      <th>Brand</th>\n",
       "      <th>Price</th>\n",
       "      <th>Review</th>\n",
       "      <th>Total Review</th>\n",
       "      <th>Compatible Devices</th>\n",
       "      <th>Color</th>\n",
       "      <th>Number of Keys</th>\n",
       "      <th>Connectivity Technology</th>\n",
       "      <th>Rank</th>\n",
       "    </tr>\n",
       "  </thead>\n",
       "  <tbody>\n",
       "    <tr>\n",
       "      <th>0</th>\n",
       "      <td>Computer Keyboard Wired,7-Color Rainbow LED Ba...</td>\n",
       "      <td>https://www.amazon.com/sspa/click?ie=UTF8&amp;spc=...</td>\n",
       "      <td>Acebaff</td>\n",
       "      <td>21.95</td>\n",
       "      <td>4.3</td>\n",
       "      <td>450</td>\n",
       "      <td>Windows 11/10/8/7/XP/VISTA, Mac OS, Chrome OS...</td>\n",
       "      <td>Black</td>\n",
       "      <td>117.0</td>\n",
       "      <td>USB</td>\n",
       "      <td>112</td>\n",
       "    </tr>\n",
       "    <tr>\n",
       "      <th>1</th>\n",
       "      <td>MARVO Large Print Backlit Keyboard, WK712 Wire...</td>\n",
       "      <td>https://www.amazon.com/sspa/click?ie=UTF8&amp;spc=...</td>\n",
       "      <td>MARVO</td>\n",
       "      <td>28.99</td>\n",
       "      <td>4.5</td>\n",
       "      <td>146</td>\n",
       "      <td>Laptop, PC, Smart TV</td>\n",
       "      <td>Black</td>\n",
       "      <td>109.0</td>\n",
       "      <td>USB-A</td>\n",
       "      <td>277</td>\n",
       "    </tr>\n",
       "    <tr>\n",
       "      <th>2</th>\n",
       "      <td>X9 Wired Ergonomic Keyboard with Cushioned Wri...</td>\n",
       "      <td>https://www.amazon.com/X9-Performance-Ergonomi...</td>\n",
       "      <td>X9 Performance</td>\n",
       "      <td>49.99</td>\n",
       "      <td>4.4</td>\n",
       "      <td>1415</td>\n",
       "      <td>Laptop, PC, Lenovo, Dell, Linux, HP, Micros...</td>\n",
       "      <td>Black</td>\n",
       "      <td>110.0</td>\n",
       "      <td>USB-A</td>\n",
       "      <td>69</td>\n",
       "    </tr>\n",
       "    <tr>\n",
       "      <th>3</th>\n",
       "      <td>Perixx PERIBOARD-106M, Wired Performance Full-...</td>\n",
       "      <td>https://www.amazon.com/Perixx-PERIBOARD-106M-P...</td>\n",
       "      <td>Perixx</td>\n",
       "      <td>39.99</td>\n",
       "      <td>4.6</td>\n",
       "      <td>1442</td>\n",
       "      <td>PC</td>\n",
       "      <td>Beige</td>\n",
       "      <td>104.0</td>\n",
       "      <td>Wired</td>\n",
       "      <td>316</td>\n",
       "    </tr>\n",
       "    <tr>\n",
       "      <th>4</th>\n",
       "      <td>Logitech MK120 Wired Keyboard and Mouse Combo ...</td>\n",
       "      <td>https://www.amazon.com/Logitech-Keyboard-Windo...</td>\n",
       "      <td>Logitech</td>\n",
       "      <td>NaN</td>\n",
       "      <td>4.6</td>\n",
       "      <td>21152</td>\n",
       "      <td>Laptop, Personal Computer</td>\n",
       "      <td>Black</td>\n",
       "      <td>NaN</td>\n",
       "      <td>Usb</td>\n",
       "      <td>9</td>\n",
       "    </tr>\n",
       "  </tbody>\n",
       "</table>\n",
       "</div>"
      ],
      "text/plain": [
       "                                               Title  \\\n",
       "0  Computer Keyboard Wired,7-Color Rainbow LED Ba...   \n",
       "1  MARVO Large Print Backlit Keyboard, WK712 Wire...   \n",
       "2  X9 Wired Ergonomic Keyboard with Cushioned Wri...   \n",
       "3  Perixx PERIBOARD-106M, Wired Performance Full-...   \n",
       "4  Logitech MK120 Wired Keyboard and Mouse Combo ...   \n",
       "\n",
       "                                                Link             Brand  Price  \\\n",
       "0  https://www.amazon.com/sspa/click?ie=UTF8&spc=...          Acebaff   21.95   \n",
       "1  https://www.amazon.com/sspa/click?ie=UTF8&spc=...            MARVO   28.99   \n",
       "2  https://www.amazon.com/X9-Performance-Ergonomi...   X9 Performance   49.99   \n",
       "3  https://www.amazon.com/Perixx-PERIBOARD-106M-P...           Perixx   39.99   \n",
       "4  https://www.amazon.com/Logitech-Keyboard-Windo...         Logitech     NaN   \n",
       "\n",
       "   Review  Total Review                                 Compatible Devices  \\\n",
       "0     4.3           450   Windows 11/10/8/7/XP/VISTA, Mac OS, Chrome OS...   \n",
       "1     4.5           146                              Laptop, PC, Smart TV    \n",
       "2     4.4          1415     Laptop, PC, Lenovo, Dell, Linux, HP, Micros...   \n",
       "3     4.6          1442                                                PC    \n",
       "4     4.6         21152                         Laptop, Personal Computer    \n",
       "\n",
       "     Color  Number of Keys Connectivity Technology  Rank  \n",
       "0   Black            117.0                    USB    112  \n",
       "1   Black            109.0                  USB-A    277  \n",
       "2   Black            110.0                  USB-A     69  \n",
       "3   Beige            104.0                  Wired    316  \n",
       "4   Black              NaN                    Usb      9  "
      ]
     },
     "execution_count": 7,
     "metadata": {},
     "output_type": "execute_result"
    }
   ],
   "source": [
    "data.head()"
   ]
  },
  {
   "cell_type": "code",
   "execution_count": 8,
   "metadata": {},
   "outputs": [
    {
     "data": {
      "text/plain": [
       "Title                       0\n",
       "Link                        0\n",
       "Brand                       0\n",
       "Price                      59\n",
       "Review                      0\n",
       "Total Review                0\n",
       "Compatible Devices          0\n",
       "Color                       5\n",
       "Number of Keys             26\n",
       "Connectivity Technology     0\n",
       "Rank                        0\n",
       "dtype: int64"
      ]
     },
     "execution_count": 8,
     "metadata": {},
     "output_type": "execute_result"
    }
   ],
   "source": [
    "data.isnull().sum()"
   ]
  },
  {
   "cell_type": "code",
   "execution_count": 9,
   "metadata": {},
   "outputs": [],
   "source": [
    "data[\"Price\"] = data[\"Price\"].replace(np.nan,data[\"Price\"].mean())"
   ]
  },
  {
   "cell_type": "code",
   "execution_count": 10,
   "metadata": {},
   "outputs": [],
   "source": [
    "data[\"Number of Keys\"] = data[\"Number of Keys\"].replace(np.nan,data[\"Number of Keys\"].mean()).astype(int)"
   ]
  },
  {
   "cell_type": "code",
   "execution_count": 11,
   "metadata": {},
   "outputs": [],
   "source": [
    "data.fillna({\"Color\":data[\"Color\"].mode()[0]},inplace=True)"
   ]
  },
  {
   "cell_type": "code",
   "execution_count": 12,
   "metadata": {},
   "outputs": [
    {
     "name": "stdout",
     "output_type": "stream",
     "text": [
      "<class 'pandas.core.frame.DataFrame'>\n",
      "Index: 311 entries, 0 to 310\n",
      "Data columns (total 11 columns):\n",
      " #   Column                   Non-Null Count  Dtype  \n",
      "---  ------                   --------------  -----  \n",
      " 0   Title                    311 non-null    object \n",
      " 1   Link                     311 non-null    object \n",
      " 2   Brand                    311 non-null    object \n",
      " 3   Price                    311 non-null    float64\n",
      " 4   Review                   311 non-null    float64\n",
      " 5   Total Review             311 non-null    int64  \n",
      " 6   Compatible Devices       311 non-null    object \n",
      " 7   Color                    311 non-null    object \n",
      " 8   Number of Keys           311 non-null    int64  \n",
      " 9   Connectivity Technology  311 non-null    object \n",
      " 10  Rank                     311 non-null    int64  \n",
      "dtypes: float64(2), int64(3), object(6)\n",
      "memory usage: 29.2+ KB\n"
     ]
    }
   ],
   "source": [
    "data.info()"
   ]
  },
  {
   "cell_type": "code",
   "execution_count": 13,
   "metadata": {},
   "outputs": [
    {
     "data": {
      "text/plain": [
       "np.int64(1)"
      ]
     },
     "execution_count": 13,
     "metadata": {},
     "output_type": "execute_result"
    }
   ],
   "source": [
    "data.duplicated().sum()"
   ]
  },
  {
   "cell_type": "code",
   "execution_count": 14,
   "metadata": {},
   "outputs": [],
   "source": [
    "data.drop_duplicates(inplace=True)"
   ]
  },
  {
   "cell_type": "code",
   "execution_count": 15,
   "metadata": {},
   "outputs": [
    {
     "data": {
      "text/plain": [
       "np.int64(0)"
      ]
     },
     "execution_count": 15,
     "metadata": {},
     "output_type": "execute_result"
    }
   ],
   "source": [
    "data.duplicated().sum()"
   ]
  },
  {
   "cell_type": "markdown",
   "metadata": {},
   "source": [
    "### Exploratory Data Analysis"
   ]
  },
  {
   "cell_type": "markdown",
   "metadata": {},
   "source": [
    "##### 1. **Calculate Average, Min, Max, Mean Price of Each Brand**\n",
    "   - **Objective**: Determine the pricing statistics for each brand.\n",
    "   - **Method**: Use groupby operations to aggregate statistics for each brand."
   ]
  },
  {
   "cell_type": "code",
   "execution_count": 16,
   "metadata": {},
   "outputs": [
    {
     "data": {
      "text/plain": [
       "array(['Acebaff', 'MARVO', 'X9 Performance', 'Perixx', 'Logitech',\n",
       "       'Macally', 'HP', 'EVGA', 'Amazon Basics', 'SABLUTE', 'Microsoft',\n",
       "       'Azio', 'SteelSeries', 'Razer', 'Cherry', 'ROCCAT', 'LIZRROT',\n",
       "       'MOWUX', 'KOPJIPPOM', 'Atelus', 'Soueto', 'Arteck', 'TopMate',\n",
       "       'HeengYanson', 'JOYACCESS', 'Lenovo', 'Fosmon', 'MANHATTAN',\n",
       "       'FOPETT', 'Nulea'], dtype=object)"
      ]
     },
     "execution_count": 16,
     "metadata": {},
     "output_type": "execute_result"
    }
   ],
   "source": [
    "data[\"Brand\"] = data[\"Brand\"].str.strip()\n",
    "data[\"Brand\"].unique()"
   ]
  },
  {
   "cell_type": "code",
   "execution_count": 17,
   "metadata": {},
   "outputs": [
    {
     "data": {
      "text/html": [
       "<div>\n",
       "<style scoped>\n",
       "    .dataframe tbody tr th:only-of-type {\n",
       "        vertical-align: middle;\n",
       "    }\n",
       "\n",
       "    .dataframe tbody tr th {\n",
       "        vertical-align: top;\n",
       "    }\n",
       "\n",
       "    .dataframe thead th {\n",
       "        text-align: right;\n",
       "    }\n",
       "</style>\n",
       "<table border=\"1\" class=\"dataframe\">\n",
       "  <thead>\n",
       "    <tr style=\"text-align: right;\">\n",
       "      <th></th>\n",
       "      <th>Brand</th>\n",
       "      <th>min</th>\n",
       "      <th>max</th>\n",
       "      <th>mean</th>\n",
       "      <th>count</th>\n",
       "    </tr>\n",
       "  </thead>\n",
       "  <tbody>\n",
       "    <tr>\n",
       "      <th>0</th>\n",
       "      <td>Acebaff</td>\n",
       "      <td>20.99000</td>\n",
       "      <td>21.95000</td>\n",
       "      <td>21.52</td>\n",
       "      <td>20</td>\n",
       "    </tr>\n",
       "    <tr>\n",
       "      <th>1</th>\n",
       "      <td>Amazon Basics</td>\n",
       "      <td>16.82000</td>\n",
       "      <td>19.54000</td>\n",
       "      <td>18.25</td>\n",
       "      <td>19</td>\n",
       "    </tr>\n",
       "    <tr>\n",
       "      <th>2</th>\n",
       "      <td>Arteck</td>\n",
       "      <td>35.99000</td>\n",
       "      <td>54.99000</td>\n",
       "      <td>50.24</td>\n",
       "      <td>4</td>\n",
       "    </tr>\n",
       "    <tr>\n",
       "      <th>3</th>\n",
       "      <td>Atelus</td>\n",
       "      <td>19.99000</td>\n",
       "      <td>23.99000</td>\n",
       "      <td>21.99</td>\n",
       "      <td>2</td>\n",
       "    </tr>\n",
       "    <tr>\n",
       "      <th>4</th>\n",
       "      <td>Azio</td>\n",
       "      <td>97.42000</td>\n",
       "      <td>97.42000</td>\n",
       "      <td>97.42</td>\n",
       "      <td>10</td>\n",
       "    </tr>\n",
       "    <tr>\n",
       "      <th>5</th>\n",
       "      <td>Cherry</td>\n",
       "      <td>84.27000</td>\n",
       "      <td>84.27000</td>\n",
       "      <td>84.27</td>\n",
       "      <td>10</td>\n",
       "    </tr>\n",
       "    <tr>\n",
       "      <th>6</th>\n",
       "      <td>EVGA</td>\n",
       "      <td>59.99000</td>\n",
       "      <td>59.99000</td>\n",
       "      <td>59.99</td>\n",
       "      <td>9</td>\n",
       "    </tr>\n",
       "    <tr>\n",
       "      <th>7</th>\n",
       "      <td>FOPETT</td>\n",
       "      <td>37.99000</td>\n",
       "      <td>37.99000</td>\n",
       "      <td>37.99</td>\n",
       "      <td>1</td>\n",
       "    </tr>\n",
       "    <tr>\n",
       "      <th>8</th>\n",
       "      <td>Fosmon</td>\n",
       "      <td>29.98000</td>\n",
       "      <td>29.98000</td>\n",
       "      <td>29.98</td>\n",
       "      <td>1</td>\n",
       "    </tr>\n",
       "    <tr>\n",
       "      <th>9</th>\n",
       "      <td>HP</td>\n",
       "      <td>49.04496</td>\n",
       "      <td>49.04496</td>\n",
       "      <td>49.04</td>\n",
       "      <td>10</td>\n",
       "    </tr>\n",
       "    <tr>\n",
       "      <th>10</th>\n",
       "      <td>HeengYanson</td>\n",
       "      <td>25.99000</td>\n",
       "      <td>25.99000</td>\n",
       "      <td>25.99</td>\n",
       "      <td>4</td>\n",
       "    </tr>\n",
       "    <tr>\n",
       "      <th>11</th>\n",
       "      <td>JOYACCESS</td>\n",
       "      <td>23.99000</td>\n",
       "      <td>23.99000</td>\n",
       "      <td>23.99</td>\n",
       "      <td>2</td>\n",
       "    </tr>\n",
       "    <tr>\n",
       "      <th>12</th>\n",
       "      <td>KOPJIPPOM</td>\n",
       "      <td>25.99000</td>\n",
       "      <td>28.99000</td>\n",
       "      <td>28.42</td>\n",
       "      <td>7</td>\n",
       "    </tr>\n",
       "    <tr>\n",
       "      <th>13</th>\n",
       "      <td>LIZRROT</td>\n",
       "      <td>55.99000</td>\n",
       "      <td>55.99000</td>\n",
       "      <td>55.99</td>\n",
       "      <td>3</td>\n",
       "    </tr>\n",
       "    <tr>\n",
       "      <th>14</th>\n",
       "      <td>Lenovo</td>\n",
       "      <td>39.99000</td>\n",
       "      <td>39.99000</td>\n",
       "      <td>39.99</td>\n",
       "      <td>1</td>\n",
       "    </tr>\n",
       "    <tr>\n",
       "      <th>15</th>\n",
       "      <td>Logitech</td>\n",
       "      <td>39.98000</td>\n",
       "      <td>97.99000</td>\n",
       "      <td>57.89</td>\n",
       "      <td>87</td>\n",
       "    </tr>\n",
       "    <tr>\n",
       "      <th>16</th>\n",
       "      <td>MANHATTAN</td>\n",
       "      <td>11.49000</td>\n",
       "      <td>11.49000</td>\n",
       "      <td>11.49</td>\n",
       "      <td>1</td>\n",
       "    </tr>\n",
       "    <tr>\n",
       "      <th>17</th>\n",
       "      <td>MARVO</td>\n",
       "      <td>28.99000</td>\n",
       "      <td>28.99000</td>\n",
       "      <td>28.99</td>\n",
       "      <td>10</td>\n",
       "    </tr>\n",
       "    <tr>\n",
       "      <th>18</th>\n",
       "      <td>MOWUX</td>\n",
       "      <td>23.99000</td>\n",
       "      <td>28.04000</td>\n",
       "      <td>26.02</td>\n",
       "      <td>4</td>\n",
       "    </tr>\n",
       "    <tr>\n",
       "      <th>19</th>\n",
       "      <td>Macally</td>\n",
       "      <td>49.99000</td>\n",
       "      <td>49.99000</td>\n",
       "      <td>49.99</td>\n",
       "      <td>10</td>\n",
       "    </tr>\n",
       "    <tr>\n",
       "      <th>20</th>\n",
       "      <td>Microsoft</td>\n",
       "      <td>33.70000</td>\n",
       "      <td>33.70000</td>\n",
       "      <td>33.70</td>\n",
       "      <td>10</td>\n",
       "    </tr>\n",
       "    <tr>\n",
       "      <th>21</th>\n",
       "      <td>Nulea</td>\n",
       "      <td>59.99000</td>\n",
       "      <td>59.99000</td>\n",
       "      <td>59.99</td>\n",
       "      <td>1</td>\n",
       "    </tr>\n",
       "    <tr>\n",
       "      <th>22</th>\n",
       "      <td>Perixx</td>\n",
       "      <td>29.99000</td>\n",
       "      <td>39.99000</td>\n",
       "      <td>34.73</td>\n",
       "      <td>19</td>\n",
       "    </tr>\n",
       "    <tr>\n",
       "      <th>23</th>\n",
       "      <td>ROCCAT</td>\n",
       "      <td>34.99000</td>\n",
       "      <td>34.99000</td>\n",
       "      <td>34.99</td>\n",
       "      <td>10</td>\n",
       "    </tr>\n",
       "    <tr>\n",
       "      <th>24</th>\n",
       "      <td>Razer</td>\n",
       "      <td>99.99000</td>\n",
       "      <td>99.99000</td>\n",
       "      <td>99.99</td>\n",
       "      <td>9</td>\n",
       "    </tr>\n",
       "    <tr>\n",
       "      <th>25</th>\n",
       "      <td>SABLUTE</td>\n",
       "      <td>24.99000</td>\n",
       "      <td>27.99000</td>\n",
       "      <td>25.85</td>\n",
       "      <td>14</td>\n",
       "    </tr>\n",
       "    <tr>\n",
       "      <th>26</th>\n",
       "      <td>Soueto</td>\n",
       "      <td>35.99000</td>\n",
       "      <td>39.99000</td>\n",
       "      <td>36.49</td>\n",
       "      <td>8</td>\n",
       "    </tr>\n",
       "    <tr>\n",
       "      <th>27</th>\n",
       "      <td>SteelSeries</td>\n",
       "      <td>139.99000</td>\n",
       "      <td>139.99000</td>\n",
       "      <td>139.99</td>\n",
       "      <td>10</td>\n",
       "    </tr>\n",
       "    <tr>\n",
       "      <th>28</th>\n",
       "      <td>TopMate</td>\n",
       "      <td>34.77000</td>\n",
       "      <td>34.77000</td>\n",
       "      <td>34.77</td>\n",
       "      <td>3</td>\n",
       "    </tr>\n",
       "    <tr>\n",
       "      <th>29</th>\n",
       "      <td>X9 Performance</td>\n",
       "      <td>25.15000</td>\n",
       "      <td>49.99000</td>\n",
       "      <td>29.67</td>\n",
       "      <td>11</td>\n",
       "    </tr>\n",
       "  </tbody>\n",
       "</table>\n",
       "</div>"
      ],
      "text/plain": [
       "             Brand        min        max    mean  count\n",
       "0          Acebaff   20.99000   21.95000   21.52     20\n",
       "1    Amazon Basics   16.82000   19.54000   18.25     19\n",
       "2           Arteck   35.99000   54.99000   50.24      4\n",
       "3           Atelus   19.99000   23.99000   21.99      2\n",
       "4             Azio   97.42000   97.42000   97.42     10\n",
       "5           Cherry   84.27000   84.27000   84.27     10\n",
       "6             EVGA   59.99000   59.99000   59.99      9\n",
       "7           FOPETT   37.99000   37.99000   37.99      1\n",
       "8           Fosmon   29.98000   29.98000   29.98      1\n",
       "9               HP   49.04496   49.04496   49.04     10\n",
       "10     HeengYanson   25.99000   25.99000   25.99      4\n",
       "11       JOYACCESS   23.99000   23.99000   23.99      2\n",
       "12       KOPJIPPOM   25.99000   28.99000   28.42      7\n",
       "13         LIZRROT   55.99000   55.99000   55.99      3\n",
       "14          Lenovo   39.99000   39.99000   39.99      1\n",
       "15        Logitech   39.98000   97.99000   57.89     87\n",
       "16       MANHATTAN   11.49000   11.49000   11.49      1\n",
       "17           MARVO   28.99000   28.99000   28.99     10\n",
       "18           MOWUX   23.99000   28.04000   26.02      4\n",
       "19         Macally   49.99000   49.99000   49.99     10\n",
       "20       Microsoft   33.70000   33.70000   33.70     10\n",
       "21           Nulea   59.99000   59.99000   59.99      1\n",
       "22          Perixx   29.99000   39.99000   34.73     19\n",
       "23          ROCCAT   34.99000   34.99000   34.99     10\n",
       "24           Razer   99.99000   99.99000   99.99      9\n",
       "25         SABLUTE   24.99000   27.99000   25.85     14\n",
       "26          Soueto   35.99000   39.99000   36.49      8\n",
       "27     SteelSeries  139.99000  139.99000  139.99     10\n",
       "28         TopMate   34.77000   34.77000   34.77      3\n",
       "29  X9 Performance   25.15000   49.99000   29.67     11"
      ]
     },
     "execution_count": 17,
     "metadata": {},
     "output_type": "execute_result"
    }
   ],
   "source": [
    "brand_data = data.groupby(\"Brand\")[\"Price\"].agg([\"min\",\"max\",\"mean\",\"count\"]).reset_index()\n",
    "brand_data[\"mean\"] = round(brand_data[\"mean\"],2)\n",
    "brand_data"
   ]
  },
  {
   "cell_type": "code",
   "execution_count": 18,
   "metadata": {},
   "outputs": [
    {
     "name": "stdout",
     "output_type": "stream",
     "text": [
      "        Brand    min    max   mean  count\n",
      "16  MANHATTAN  11.49  11.49  11.49      1\n",
      "          Brand     min     max    mean  count\n",
      "27  SteelSeries  139.99  139.99  139.99     10\n"
     ]
    }
   ],
   "source": [
    "print(brand_data[brand_data[\"min\"] == brand_data[\"min\"].min()])\n",
    "print(brand_data[brand_data[\"max\"] == brand_data[\"max\"].max()])"
   ]
  },
  {
   "cell_type": "code",
   "execution_count": 19,
   "metadata": {},
   "outputs": [
    {
     "data": {
      "image/png": "[encoded data removed]",
      "text/plain": [
       "<Figure size 1000x600 with 2 Axes>"
      ]
     },
     "metadata": {},
     "output_type": "display_data"
    }
   ],
   "source": [
    "fig,ax = plt.subplots(1,2,figsize = (10,6))\n",
    "sns.kdeplot(data=data, x = \"Price\",ax=ax[0])\n",
    "ax[0].set_title(\"Distribution of Price\")\n",
    "\n",
    "sns.countplot(data=data,y=\"Brand\",ax=ax[1],order=data[\"Brand\"].value_counts(ascending=False).index)\n",
    "ax[1].set_title(\"Distribution of Brand\")\n",
    "ax[1].set_xlabel(\"Frequency\")\n",
    "ax[1].tick_params(axis='y', labelsize=8)\n",
    "\n",
    "# px.treemap(data = data,path=\"Brand\",values=\"Price\",ax=ax[1,(0,1)])\n",
    "plt.tight_layout()\n",
    "plt.show()\n",
    "# data_min"
   ]
  },
  {
   "cell_type": "code",
   "execution_count": 20,
   "metadata": {},
   "outputs": [
    {
     "data": {
      "application/vnd.plotly.v1+json": {
       "config": {
        "plotlyServerURL": "https://plot.ly"
       },
       "data": [
        {
         "branchvalues": "total",
         "domain": {
          "x": [
           0,
           1
          ],
          "y": [
           0,
           1
          ]
         },
         "hovertemplate": "labels=%{label}<br>Price=%{value}<br>parent=%{parent}<br>id=%{id}<extra></extra>",
         "ids": [
          "Acebaff",
          "Amazon Basics",
          "Arteck",
          "Atelus",
          "Azio",
          "Cherry",
          "EVGA",
          "FOPETT",
          "Fosmon",
          "HP",
          "HeengYanson",
          "JOYACCESS",
          "KOPJIPPOM",
          "LIZRROT",
          "Lenovo",
          "Logitech",
          "MANHATTAN",
          "MARVO",
          "MOWUX",
          "Macally",
          "Microsoft",
          "Nulea",
          "Perixx",
          "ROCCAT",
          "Razer",
          "SABLUTE",
          "Soueto",
          "SteelSeries",
          "TopMate",
          "X9 Performance"
         ],
         "labels": [
          "Acebaff",
          "Amazon Basics",
          "Arteck",
          "Atelus",
          "Azio",
          "Cherry",
          "EVGA",
          "FOPETT",
          "Fosmon",
          "HP",
          "HeengYanson",
          "JOYACCESS",
          "KOPJIPPOM",
          "LIZRROT",
          "Lenovo",
          "Logitech",
          "MANHATTAN",
          "MARVO",
          "MOWUX",
          "Macally",
          "Microsoft",
          "Nulea",
          "Perixx",
          "ROCCAT",
          "Razer",
          "SABLUTE",
          "Soueto",
          "SteelSeries",
          "TopMate",
          "X9 Performance"
         ],
         "marker": {
          "cornerradius": 5
         },
         "name": "",
         "parents": [
          "",
          "",
          "",
          "",
          "",
          "",
          "",
          "",
          "",
          "",
          "",
          "",
          "",
          "",
          "",
          "",
          "",
          "",
          "",
          "",
          "",
          "",
          "",
          "",
          "",
          "",
          "",
          "",
          "",
          ""
         ],
         "type": "treemap",
         "values": [
          430.35999999999996,
          346.78,
          200.96,
          43.98,
          974.2,
          842.6999999999999,
          539.91,
          37.99,
          29.98,
          490.4496031746031,
          103.96,
          47.98,
          198.92999999999998,
          167.97,
          39.99,
          5036.573055555555,
          11.49,
          289.9,
          104.06,
          499.90000000000003,
          337,
          59.99,
          659.8100000000001,
          349.90000000000003,
          899.91,
          361.85999999999996,
          291.92,
          1399.9,
          104.31,
          326.33
         ]
        }
       ],
       "layout": {
        "height": 600,
        "legend": {
         "tracegroupgap": 0
        },
        "margin": {
         "t": 60
        },
        "template": {
         "data": {
          "bar": [
           {
            "error_x": {
             "color": "#2a3f5f"
            },
            "error_y": {
             "color": "#2a3f5f"
            },
            "marker": {
             "line": {
              "color": "#E5ECF6",
              "width": 0.5
             },
             "pattern": {
              "fillmode": "overlay",
              "size": 10,
              "solidity": 0.2
             }
            },
            "type": "bar"
           }
          ],
          "barpolar": [
           {
            "marker": {
             "line": {
              "color": "#E5ECF6",
              "width": 0.5
             },
             "pattern": {
              "fillmode": "overlay",
              "size": 10,
              "solidity": 0.2
             }
            },
            "type": "barpolar"
           }
          ],
          "carpet": [
           {
            "aaxis": {
             "endlinecolor": "#2a3f5f",
             "gridcolor": "white",
             "linecolor": "white",
             "minorgridcolor": "white",
             "startlinecolor": "#2a3f5f"
            },
            "baxis": {
             "endlinecolor": "#2a3f5f",
             "gridcolor": "white",
             "linecolor": "white",
             "minorgridcolor": "white",
             "startlinecolor": "#2a3f5f"
            },
            "type": "carpet"
           }
          ],
          "choropleth": [
           {
            "colorbar": {
             "outlinewidth": 0,
             "ticks": ""
            },
            "type": "choropleth"
           }
          ],
          "contour": [
           {
            "colorbar": {
             "outlinewidth": 0,
             "ticks": ""
            },
            "colorscale": [
             [
              0,
              "#0d0887"
             ],
             [
              0.1111111111111111,
              "#46039f"
             ],
             [
              0.2222222222222222,
              "#7201a8"
             ],
             [
              0.3333333333333333,
              "#9c179e"
             ],
             [
              0.4444444444444444,
              "#bd3786"
             ],
             [
              0.5555555555555556,
              "#d8576b"
             ],
             [
              0.6666666666666666,
              "#ed7953"
             ],
             [
              0.7777777777777778,
              "#fb9f3a"
             ],
             [
              0.8888888888888888,
              "#fdca26"
             ],
             [
              1,
              "#f0f921"
             ]
            ],
            "type": "contour"
           }
          ],
          "contourcarpet": [
           {
            "colorbar": {
             "outlinewidth": 0,
             "ticks": ""
            },
            "type": "contourcarpet"
           }
          ],
          "heatmap": [
           {
            "colorbar": {
             "outlinewidth": 0,
             "ticks": ""
            },
            "colorscale": [
             [
              0,
              "#0d0887"
             ],
             [
              0.1111111111111111,
              "#46039f"
             ],
             [
              0.2222222222222222,
              "#7201a8"
             ],
             [
              0.3333333333333333,
              "#9c179e"
             ],
             [
              0.4444444444444444,
              "#bd3786"
             ],
             [
              0.5555555555555556,
              "#d8576b"
             ],
             [
              0.6666666666666666,
              "#ed7953"
             ],
             [
              0.7777777777777778,
              "#fb9f3a"
             ],
             [
              0.8888888888888888,
              "#fdca26"
             ],
             [
              1,
              "#f0f921"
             ]
            ],
            "type": "heatmap"
           }
          ],
          "heatmapgl": [
           {
            "colorbar": {
             "outlinewidth": 0,
             "ticks": ""
            },
            "colorscale": [
             [
              0,
              "#0d0887"
             ],
             [
              0.1111111111111111,
              "#46039f"
             ],
             [
              0.2222222222222222,
              "#7201a8"
             ],
             [
              0.3333333333333333,
              "#9c179e"
             ],
             [
              0.4444444444444444,
              "#bd3786"
             ],
             [
              0.5555555555555556,
              "#d8576b"
             ],
             [
              0.6666666666666666,
              "#ed7953"
             ],
             [
              0.7777777777777778,
              "#fb9f3a"
             ],
             [
              0.8888888888888888,
              "#fdca26"
             ],
             [
              1,
              "#f0f921"
             ]
            ],
            "type": "heatmapgl"
           }
          ],
          "histogram": [
           {
            "marker": {
             "pattern": {
              "fillmode": "overlay",
              "size": 10,
              "solidity": 0.2
             }
            },
            "type": "histogram"
           }
          ],
          "histogram2d": [
           {
            "colorbar": {
             "outlinewidth": 0,
             "ticks": ""
            },
            "colorscale": [
             [
              0,
              "#0d0887"
             ],
             [
              0.1111111111111111,
              "#46039f"
             ],
             [
              0.2222222222222222,
              "#7201a8"
             ],
             [
              0.3333333333333333,
              "#9c179e"
             ],
             [
              0.4444444444444444,
              "#bd3786"
             ],
             [
              0.5555555555555556,
              "#d8576b"
             ],
             [
              0.6666666666666666,
              "#ed7953"
             ],
             [
              0.7777777777777778,
              "#fb9f3a"
             ],
             [
              0.8888888888888888,
              "#fdca26"
             ],
             [
              1,
              "#f0f921"
             ]
            ],
            "type": "histogram2d"
           }
          ],
          "histogram2dcontour": [
           {
            "colorbar": {
             "outlinewidth": 0,
             "ticks": ""
            },
            "colorscale": [
             [
              0,
              "#0d0887"
             ],
             [
              0.1111111111111111,
              "#46039f"
             ],
             [
              0.2222222222222222,
              "#7201a8"
             ],
             [
              0.3333333333333333,
              "#9c179e"
             ],
             [
              0.4444444444444444,
              "#bd3786"
             ],
             [
              0.5555555555555556,
              "#d8576b"
             ],
             [
              0.6666666666666666,
              "#ed7953"
             ],
             [
              0.7777777777777778,
              "#fb9f3a"
             ],
             [
              0.8888888888888888,
              "#fdca26"
             ],
             [
              1,
              "#f0f921"
             ]
            ],
            "type": "histogram2dcontour"
           }
          ],
          "mesh3d": [
           {
            "colorbar": {
             "outlinewidth": 0,
             "ticks": ""
            },
            "type": "mesh3d"
           }
          ],
          "parcoords": [
           {
            "line": {
             "colorbar": {
              "outlinewidth": 0,
              "ticks": ""
             }
            },
            "type": "parcoords"
           }
          ],
          "pie": [
           {
            "automargin": true,
            "type": "pie"
           }
          ],
          "scatter": [
           {
            "fillpattern": {
             "fillmode": "overlay",
             "size": 10,
             "solidity": 0.2
            },
            "type": "scatter"
           }
          ],
          "scatter3d": [
           {
            "line": {
             "colorbar": {
              "outlinewidth": 0,
              "ticks": ""
             }
            },
            "marker": {
             "colorbar": {
              "outlinewidth": 0,
              "ticks": ""
             }
            },
            "type": "scatter3d"
           }
          ],
          "scattercarpet": [
           {
            "marker": {
             "colorbar": {
              "outlinewidth": 0,
              "ticks": ""
             }
            },
            "type": "scattercarpet"
           }
          ],
          "scattergeo": [
           {
            "marker": {
             "colorbar": {
              "outlinewidth": 0,
              "ticks": ""
             }
            },
            "type": "scattergeo"
           }
          ],
          "scattergl": [
           {
            "marker": {
             "colorbar": {
              "outlinewidth": 0,
              "ticks": ""
             }
            },
            "type": "scattergl"
           }
          ],
          "scattermapbox": [
           {
            "marker": {
             "colorbar": {
              "outlinewidth": 0,
              "ticks": ""
             }
            },
            "type": "scattermapbox"
           }
          ],
          "scatterpolar": [
           {
            "marker": {
             "colorbar": {
              "outlinewidth": 0,
              "ticks": ""
             }
            },
            "type": "scatterpolar"
           }
          ],
          "scatterpolargl": [
           {
            "marker": {
             "colorbar": {
              "outlinewidth": 0,
              "ticks": ""
             }
            },
            "type": "scatterpolargl"
           }
          ],
          "scatterternary": [
           {
            "marker": {
             "colorbar": {
              "outlinewidth": 0,
              "ticks": ""
             }
            },
            "type": "scatterternary"
           }
          ],
          "surface": [
           {
            "colorbar": {
             "outlinewidth": 0,
             "ticks": ""
            },
            "colorscale": [
             [
              0,
              "#0d0887"
             ],
             [
              0.1111111111111111,
              "#46039f"
             ],
             [
              0.2222222222222222,
              "#7201a8"
             ],
             [
              0.3333333333333333,
              "#9c179e"
             ],
             [
              0.4444444444444444,
              "#bd3786"
             ],
             [
              0.5555555555555556,
              "#d8576b"
             ],
             [
              0.6666666666666666,
              "#ed7953"
             ],
             [
              0.7777777777777778,
              "#fb9f3a"
             ],
             [
              0.8888888888888888,
              "#fdca26"
             ],
             [
              1,
              "#f0f921"
             ]
            ],
            "type": "surface"
           }
          ],
          "table": [
           {
            "cells": {
             "fill": {
              "color": "#EBF0F8"
             },
             "line": {
              "color": "white"
             }
            },
            "header": {
             "fill": {
              "color": "#C8D4E3"
             },
             "line": {
              "color": "white"
             }
            },
            "type": "table"
           }
          ]
         },
         "layout": {
          "annotationdefaults": {
           "arrowcolor": "#2a3f5f",
           "arrowhead": 0,
           "arrowwidth": 1
          },
          "autotypenumbers": "strict",
          "coloraxis": {
           "colorbar": {
            "outlinewidth": 0,
            "ticks": ""
           }
          },
          "colorscale": {
           "diverging": [
            [
             0,
             "#8e0152"
            ],
            [
             0.1,
             "#c51b7d"
            ],
            [
             0.2,
             "#de77ae"
            ],
            [
             0.3,
             "#f1b6da"
            ],
            [
             0.4,
             "#fde0ef"
            ],
            [
             0.5,
             "#f7f7f7"
            ],
            [
             0.6,
             "#e6f5d0"
            ],
            [
             0.7,
             "#b8e186"
            ],
            [
             0.8,
             "#7fbc41"
            ],
            [
             0.9,
             "#4d9221"
            ],
            [
             1,
             "#276419"
            ]
           ],
           "sequential": [
            [
             0,
             "#0d0887"
            ],
            [
             0.1111111111111111,
             "#46039f"
            ],
            [
             0.2222222222222222,
             "#7201a8"
            ],
            [
             0.3333333333333333,
             "#9c179e"
            ],
            [
             0.4444444444444444,
             "#bd3786"
            ],
            [
             0.5555555555555556,
             "#d8576b"
            ],
            [
             0.6666666666666666,
             "#ed7953"
            ],
            [
             0.7777777777777778,
             "#fb9f3a"
            ],
            [
             0.8888888888888888,
             "#fdca26"
            ],
            [
             1,
             "#f0f921"
            ]
           ],
           "sequentialminus": [
            [
             0,
             "#0d0887"
            ],
            [
             0.1111111111111111,
             "#46039f"
            ],
            [
             0.2222222222222222,
             "#7201a8"
            ],
            [
             0.3333333333333333,
             "#9c179e"
            ],
            [
             0.4444444444444444,
             "#bd3786"
            ],
            [
             0.5555555555555556,
             "#d8576b"
            ],
            [
             0.6666666666666666,
             "#ed7953"
            ],
            [
             0.7777777777777778,
             "#fb9f3a"
            ],
            [
             0.8888888888888888,
             "#fdca26"
            ],
            [
             1,
             "#f0f921"
            ]
           ]
          },
          "colorway": [
           "#636efa",
           "#EF553B",
           "#00cc96",
           "#ab63fa",
           "#FFA15A",
           "#19d3f3",
           "#FF6692",
           "#B6E880",
           "#FF97FF",
           "#FECB52"
          ],
          "font": {
           "color": "#2a3f5f"
          },
          "geo": {
           "bgcolor": "white",
           "lakecolor": "white",
           "landcolor": "#E5ECF6",
           "showlakes": true,
           "showland": true,
           "subunitcolor": "white"
          },
          "hoverlabel": {
           "align": "left"
          },
          "hovermode": "closest",
          "mapbox": {
           "style": "light"
          },
          "paper_bgcolor": "white",
          "plot_bgcolor": "#E5ECF6",
          "polar": {
           "angularaxis": {
            "gridcolor": "white",
            "linecolor": "white",
            "ticks": ""
           },
           "bgcolor": "#E5ECF6",
           "radialaxis": {
            "gridcolor": "white",
            "linecolor": "white",
            "ticks": ""
           }
          },
          "scene": {
           "xaxis": {
            "backgroundcolor": "#E5ECF6",
            "gridcolor": "white",
            "gridwidth": 2,
            "linecolor": "white",
            "showbackground": true,
            "ticks": "",
            "zerolinecolor": "white"
           },
           "yaxis": {
            "backgroundcolor": "#E5ECF6",
            "gridcolor": "white",
            "gridwidth": 2,
            "linecolor": "white",
            "showbackground": true,
            "ticks": "",
            "zerolinecolor": "white"
           },
           "zaxis": {
            "backgroundcolor": "#E5ECF6",
            "gridcolor": "white",
            "gridwidth": 2,
            "linecolor": "white",
            "showbackground": true,
            "ticks": "",
            "zerolinecolor": "white"
           }
          },
          "shapedefaults": {
           "line": {
            "color": "#2a3f5f"
           }
          },
          "ternary": {
           "aaxis": {
            "gridcolor": "white",
            "linecolor": "white",
            "ticks": ""
           },
           "baxis": {
            "gridcolor": "white",
            "linecolor": "white",
            "ticks": ""
           },
           "bgcolor": "#E5ECF6",
           "caxis": {
            "gridcolor": "white",
            "linecolor": "white",
            "ticks": ""
           }
          },
          "title": {
           "x": 0.05
          },
          "xaxis": {
           "automargin": true,
           "gridcolor": "white",
           "linecolor": "white",
           "ticks": "",
           "title": {
            "standoff": 15
           },
           "zerolinecolor": "white",
           "zerolinewidth": 2
          },
          "yaxis": {
           "automargin": true,
           "gridcolor": "white",
           "linecolor": "white",
           "ticks": "",
           "title": {
            "standoff": 15
           },
           "zerolinecolor": "white",
           "zerolinewidth": 2
          }
         }
        },
        "width": 1000
       }
      }
     },
     "metadata": {},
     "output_type": "display_data"
    }
   ],
   "source": [
    "fig = px.treemap(data, path=[\"Brand\"], values=\"Price\",width=1000,height=600)\n",
    "fig.update_traces(marker=dict(cornerradius=5))\n",
    "# fig.write_image('treemap.png')\n",
    "fig.show()\n",
    "# Image('treemap.png')"
   ]
  },
  {
   "cell_type": "markdown",
   "metadata": {},
   "source": [
    "<b> General evaluations\n",
    "\n",
    "1. **Price**\n",
    "   - Prices range from $25 to $50.\n",
    "   - The maximum price is $139.99, which belongs to the SteelSeries brand, but the minimum price for this brand is also $139.99.\n",
    "   - The minimum price is $11.49, which belongs to the MANHATTAN brand, and the maximum price for this brand is also $11.49.\n",
    "     -> Brands with minimum prices equal to their maximum prices suggest that all products from these brands are priced the same.\n",
    "\n",
    "2. **Brand**\n",
    "   - Logitech is the brand with the most products sold on Amazon and the highest total keyboard price.\n",
    "   - Lenovo, Fosmon, MANHATTAN, FOPETT, and Nulea are brands with fewer products available on Amazon."
   ]
  },
  {
   "cell_type": "markdown",
   "metadata": {},
   "source": [
    "##### 2. **Calculate Average, Min, Max, Mean Review of Each Brand**\n",
    "   - **Objective**: Analyze review statistics for each brand.\n",
    "   - **Method**: Group data by brand and compute the required statistics for reviews."
   ]
  },
  {
   "cell_type": "code",
   "execution_count": 21,
   "metadata": {},
   "outputs": [
    {
     "data": {
      "text/html": [
       "<div>\n",
       "<style scoped>\n",
       "    .dataframe tbody tr th:only-of-type {\n",
       "        vertical-align: middle;\n",
       "    }\n",
       "\n",
       "    .dataframe tbody tr th {\n",
       "        vertical-align: top;\n",
       "    }\n",
       "\n",
       "    .dataframe thead th {\n",
       "        text-align: right;\n",
       "    }\n",
       "</style>\n",
       "<table border=\"1\" class=\"dataframe\">\n",
       "  <thead>\n",
       "    <tr style=\"text-align: right;\">\n",
       "      <th></th>\n",
       "      <th>Brand</th>\n",
       "      <th>min</th>\n",
       "      <th>max</th>\n",
       "      <th>count</th>\n",
       "      <th>mean</th>\n",
       "    </tr>\n",
       "  </thead>\n",
       "  <tbody>\n",
       "    <tr>\n",
       "      <th>11</th>\n",
       "      <td>JOYACCESS</td>\n",
       "      <td>4.0</td>\n",
       "      <td>4.0</td>\n",
       "      <td>2</td>\n",
       "      <td>4.00</td>\n",
       "    </tr>\n",
       "    <tr>\n",
       "      <th>1</th>\n",
       "      <td>Amazon Basics</td>\n",
       "      <td>4.0</td>\n",
       "      <td>4.1</td>\n",
       "      <td>19</td>\n",
       "      <td>4.05</td>\n",
       "    </tr>\n",
       "    <tr>\n",
       "      <th>22</th>\n",
       "      <td>Perixx</td>\n",
       "      <td>4.0</td>\n",
       "      <td>4.6</td>\n",
       "      <td>19</td>\n",
       "      <td>4.28</td>\n",
       "    </tr>\n",
       "    <tr>\n",
       "      <th>8</th>\n",
       "      <td>Fosmon</td>\n",
       "      <td>4.1</td>\n",
       "      <td>4.1</td>\n",
       "      <td>1</td>\n",
       "      <td>4.10</td>\n",
       "    </tr>\n",
       "    <tr>\n",
       "      <th>15</th>\n",
       "      <td>Logitech</td>\n",
       "      <td>4.1</td>\n",
       "      <td>4.6</td>\n",
       "      <td>87</td>\n",
       "      <td>4.48</td>\n",
       "    </tr>\n",
       "    <tr>\n",
       "      <th>16</th>\n",
       "      <td>MANHATTAN</td>\n",
       "      <td>4.2</td>\n",
       "      <td>4.2</td>\n",
       "      <td>1</td>\n",
       "      <td>4.20</td>\n",
       "    </tr>\n",
       "    <tr>\n",
       "      <th>19</th>\n",
       "      <td>Macally</td>\n",
       "      <td>4.2</td>\n",
       "      <td>4.2</td>\n",
       "      <td>10</td>\n",
       "      <td>4.20</td>\n",
       "    </tr>\n",
       "    <tr>\n",
       "      <th>28</th>\n",
       "      <td>TopMate</td>\n",
       "      <td>4.2</td>\n",
       "      <td>4.2</td>\n",
       "      <td>3</td>\n",
       "      <td>4.20</td>\n",
       "    </tr>\n",
       "    <tr>\n",
       "      <th>26</th>\n",
       "      <td>Soueto</td>\n",
       "      <td>4.2</td>\n",
       "      <td>5.0</td>\n",
       "      <td>8</td>\n",
       "      <td>4.30</td>\n",
       "    </tr>\n",
       "    <tr>\n",
       "      <th>0</th>\n",
       "      <td>Acebaff</td>\n",
       "      <td>4.3</td>\n",
       "      <td>4.3</td>\n",
       "      <td>20</td>\n",
       "      <td>4.30</td>\n",
       "    </tr>\n",
       "    <tr>\n",
       "      <th>7</th>\n",
       "      <td>FOPETT</td>\n",
       "      <td>4.3</td>\n",
       "      <td>4.3</td>\n",
       "      <td>1</td>\n",
       "      <td>4.30</td>\n",
       "    </tr>\n",
       "    <tr>\n",
       "      <th>24</th>\n",
       "      <td>Razer</td>\n",
       "      <td>4.3</td>\n",
       "      <td>4.3</td>\n",
       "      <td>9</td>\n",
       "      <td>4.30</td>\n",
       "    </tr>\n",
       "    <tr>\n",
       "      <th>6</th>\n",
       "      <td>EVGA</td>\n",
       "      <td>4.4</td>\n",
       "      <td>4.4</td>\n",
       "      <td>9</td>\n",
       "      <td>4.40</td>\n",
       "    </tr>\n",
       "    <tr>\n",
       "      <th>9</th>\n",
       "      <td>HP</td>\n",
       "      <td>4.4</td>\n",
       "      <td>4.4</td>\n",
       "      <td>10</td>\n",
       "      <td>4.40</td>\n",
       "    </tr>\n",
       "    <tr>\n",
       "      <th>20</th>\n",
       "      <td>Microsoft</td>\n",
       "      <td>4.4</td>\n",
       "      <td>4.4</td>\n",
       "      <td>10</td>\n",
       "      <td>4.40</td>\n",
       "    </tr>\n",
       "    <tr>\n",
       "      <th>21</th>\n",
       "      <td>Nulea</td>\n",
       "      <td>4.4</td>\n",
       "      <td>4.4</td>\n",
       "      <td>1</td>\n",
       "      <td>4.40</td>\n",
       "    </tr>\n",
       "    <tr>\n",
       "      <th>25</th>\n",
       "      <td>SABLUTE</td>\n",
       "      <td>4.4</td>\n",
       "      <td>4.4</td>\n",
       "      <td>14</td>\n",
       "      <td>4.40</td>\n",
       "    </tr>\n",
       "    <tr>\n",
       "      <th>2</th>\n",
       "      <td>Arteck</td>\n",
       "      <td>4.4</td>\n",
       "      <td>4.5</td>\n",
       "      <td>4</td>\n",
       "      <td>4.43</td>\n",
       "    </tr>\n",
       "    <tr>\n",
       "      <th>29</th>\n",
       "      <td>X9 Performance</td>\n",
       "      <td>4.4</td>\n",
       "      <td>4.5</td>\n",
       "      <td>11</td>\n",
       "      <td>4.48</td>\n",
       "    </tr>\n",
       "    <tr>\n",
       "      <th>3</th>\n",
       "      <td>Atelus</td>\n",
       "      <td>4.5</td>\n",
       "      <td>4.5</td>\n",
       "      <td>2</td>\n",
       "      <td>4.50</td>\n",
       "    </tr>\n",
       "    <tr>\n",
       "      <th>4</th>\n",
       "      <td>Azio</td>\n",
       "      <td>4.5</td>\n",
       "      <td>4.5</td>\n",
       "      <td>10</td>\n",
       "      <td>4.50</td>\n",
       "    </tr>\n",
       "    <tr>\n",
       "      <th>5</th>\n",
       "      <td>Cherry</td>\n",
       "      <td>4.5</td>\n",
       "      <td>4.5</td>\n",
       "      <td>10</td>\n",
       "      <td>4.50</td>\n",
       "    </tr>\n",
       "    <tr>\n",
       "      <th>12</th>\n",
       "      <td>KOPJIPPOM</td>\n",
       "      <td>4.5</td>\n",
       "      <td>4.5</td>\n",
       "      <td>7</td>\n",
       "      <td>4.50</td>\n",
       "    </tr>\n",
       "    <tr>\n",
       "      <th>13</th>\n",
       "      <td>LIZRROT</td>\n",
       "      <td>4.5</td>\n",
       "      <td>4.5</td>\n",
       "      <td>3</td>\n",
       "      <td>4.50</td>\n",
       "    </tr>\n",
       "    <tr>\n",
       "      <th>14</th>\n",
       "      <td>Lenovo</td>\n",
       "      <td>4.5</td>\n",
       "      <td>4.5</td>\n",
       "      <td>1</td>\n",
       "      <td>4.50</td>\n",
       "    </tr>\n",
       "    <tr>\n",
       "      <th>17</th>\n",
       "      <td>MARVO</td>\n",
       "      <td>4.5</td>\n",
       "      <td>4.5</td>\n",
       "      <td>10</td>\n",
       "      <td>4.50</td>\n",
       "    </tr>\n",
       "    <tr>\n",
       "      <th>18</th>\n",
       "      <td>MOWUX</td>\n",
       "      <td>4.5</td>\n",
       "      <td>4.5</td>\n",
       "      <td>4</td>\n",
       "      <td>4.50</td>\n",
       "    </tr>\n",
       "    <tr>\n",
       "      <th>23</th>\n",
       "      <td>ROCCAT</td>\n",
       "      <td>4.6</td>\n",
       "      <td>4.6</td>\n",
       "      <td>10</td>\n",
       "      <td>4.60</td>\n",
       "    </tr>\n",
       "    <tr>\n",
       "      <th>27</th>\n",
       "      <td>SteelSeries</td>\n",
       "      <td>4.6</td>\n",
       "      <td>4.6</td>\n",
       "      <td>10</td>\n",
       "      <td>4.60</td>\n",
       "    </tr>\n",
       "    <tr>\n",
       "      <th>10</th>\n",
       "      <td>HeengYanson</td>\n",
       "      <td>4.7</td>\n",
       "      <td>4.7</td>\n",
       "      <td>4</td>\n",
       "      <td>4.70</td>\n",
       "    </tr>\n",
       "  </tbody>\n",
       "</table>\n",
       "</div>"
      ],
      "text/plain": [
       "             Brand  min  max  count  mean\n",
       "11       JOYACCESS  4.0  4.0      2  4.00\n",
       "1    Amazon Basics  4.0  4.1     19  4.05\n",
       "22          Perixx  4.0  4.6     19  4.28\n",
       "8           Fosmon  4.1  4.1      1  4.10\n",
       "15        Logitech  4.1  4.6     87  4.48\n",
       "16       MANHATTAN  4.2  4.2      1  4.20\n",
       "19         Macally  4.2  4.2     10  4.20\n",
       "28         TopMate  4.2  4.2      3  4.20\n",
       "26          Soueto  4.2  5.0      8  4.30\n",
       "0          Acebaff  4.3  4.3     20  4.30\n",
       "7           FOPETT  4.3  4.3      1  4.30\n",
       "24           Razer  4.3  4.3      9  4.30\n",
       "6             EVGA  4.4  4.4      9  4.40\n",
       "9               HP  4.4  4.4     10  4.40\n",
       "20       Microsoft  4.4  4.4     10  4.40\n",
       "21           Nulea  4.4  4.4      1  4.40\n",
       "25         SABLUTE  4.4  4.4     14  4.40\n",
       "2           Arteck  4.4  4.5      4  4.43\n",
       "29  X9 Performance  4.4  4.5     11  4.48\n",
       "3           Atelus  4.5  4.5      2  4.50\n",
       "4             Azio  4.5  4.5     10  4.50\n",
       "5           Cherry  4.5  4.5     10  4.50\n",
       "12       KOPJIPPOM  4.5  4.5      7  4.50\n",
       "13         LIZRROT  4.5  4.5      3  4.50\n",
       "14          Lenovo  4.5  4.5      1  4.50\n",
       "17           MARVO  4.5  4.5     10  4.50\n",
       "18           MOWUX  4.5  4.5      4  4.50\n",
       "23          ROCCAT  4.6  4.6     10  4.60\n",
       "27     SteelSeries  4.6  4.6     10  4.60\n",
       "10     HeengYanson  4.7  4.7      4  4.70"
      ]
     },
     "execution_count": 21,
     "metadata": {},
     "output_type": "execute_result"
    }
   ],
   "source": [
    "review_data = data.groupby(\"Brand\")[\"Review\"].agg([\"min\",\"max\",\"count\",\"mean\"]).reset_index()\n",
    "review_data[\"mean\"] = review_data[\"mean\"].round(2)\n",
    "review_data.sort_values(by=[\"min\",\"max\"],ascending=(True,True))"
   ]
  },
  {
   "cell_type": "markdown",
   "metadata": {},
   "source": [
    "<b> General evaluations\n",
    "- All brands have ratings above 4 out of 5.\n",
    "- The lowest rating is 4.0 for the Perixx brand, which supplies 19 products on Amazon, with a maximum rating of 4.6.\n",
    "- Soueto is a brand with a maximum rating of 5.0, offering 8 products with an average rating of 4.3.\n",
    "- The highest average rating is 4.7 for the HeengYanson brand, which supplies only 4 products on Amazon, with an average price of about $25.\n"
   ]
  },
  {
   "cell_type": "markdown",
   "metadata": {},
   "source": [
    "##### 3. **Calculate Average, Min, Max, Mean Rank of Each Brand**\n",
    "   - **Objective**: Evaluate ranking statistics for each brand.\n",
    "   - **Method**: Similar to the previous tasks, use groupby to aggregate rank statistics."
   ]
  },
  {
   "cell_type": "code",
   "execution_count": 22,
   "metadata": {},
   "outputs": [
    {
     "data": {
      "text/html": [
       "<div>\n",
       "<style scoped>\n",
       "    .dataframe tbody tr th:only-of-type {\n",
       "        vertical-align: middle;\n",
       "    }\n",
       "\n",
       "    .dataframe tbody tr th {\n",
       "        vertical-align: top;\n",
       "    }\n",
       "\n",
       "    .dataframe thead th {\n",
       "        text-align: right;\n",
       "    }\n",
       "</style>\n",
       "<table border=\"1\" class=\"dataframe\">\n",
       "  <thead>\n",
       "    <tr style=\"text-align: right;\">\n",
       "      <th></th>\n",
       "      <th>Brand</th>\n",
       "      <th>min</th>\n",
       "      <th>max</th>\n",
       "      <th>count</th>\n",
       "      <th>mean</th>\n",
       "    </tr>\n",
       "  </thead>\n",
       "  <tbody>\n",
       "    <tr>\n",
       "      <th>0</th>\n",
       "      <td>Acebaff</td>\n",
       "      <td>112</td>\n",
       "      <td>1497</td>\n",
       "      <td>20</td>\n",
       "      <td>735.25</td>\n",
       "    </tr>\n",
       "    <tr>\n",
       "      <th>1</th>\n",
       "      <td>Amazon Basics</td>\n",
       "      <td>1596</td>\n",
       "      <td>2215</td>\n",
       "      <td>19</td>\n",
       "      <td>1889.21</td>\n",
       "    </tr>\n",
       "    <tr>\n",
       "      <th>2</th>\n",
       "      <td>Arteck</td>\n",
       "      <td>55</td>\n",
       "      <td>62</td>\n",
       "      <td>4</td>\n",
       "      <td>60.25</td>\n",
       "    </tr>\n",
       "    <tr>\n",
       "      <th>3</th>\n",
       "      <td>Atelus</td>\n",
       "      <td>128</td>\n",
       "      <td>225</td>\n",
       "      <td>2</td>\n",
       "      <td>176.50</td>\n",
       "    </tr>\n",
       "    <tr>\n",
       "      <th>4</th>\n",
       "      <td>Azio</td>\n",
       "      <td>700</td>\n",
       "      <td>729</td>\n",
       "      <td>10</td>\n",
       "      <td>726.10</td>\n",
       "    </tr>\n",
       "    <tr>\n",
       "      <th>5</th>\n",
       "      <td>Cherry</td>\n",
       "      <td>248</td>\n",
       "      <td>248</td>\n",
       "      <td>10</td>\n",
       "      <td>248.00</td>\n",
       "    </tr>\n",
       "    <tr>\n",
       "      <th>6</th>\n",
       "      <td>EVGA</td>\n",
       "      <td>1571</td>\n",
       "      <td>1571</td>\n",
       "      <td>9</td>\n",
       "      <td>1571.00</td>\n",
       "    </tr>\n",
       "    <tr>\n",
       "      <th>7</th>\n",
       "      <td>FOPETT</td>\n",
       "      <td>422</td>\n",
       "      <td>422</td>\n",
       "      <td>1</td>\n",
       "      <td>422.00</td>\n",
       "    </tr>\n",
       "    <tr>\n",
       "      <th>8</th>\n",
       "      <td>Fosmon</td>\n",
       "      <td>28</td>\n",
       "      <td>28</td>\n",
       "      <td>1</td>\n",
       "      <td>28.00</td>\n",
       "    </tr>\n",
       "    <tr>\n",
       "      <th>9</th>\n",
       "      <td>HP</td>\n",
       "      <td>3</td>\n",
       "      <td>3</td>\n",
       "      <td>10</td>\n",
       "      <td>3.00</td>\n",
       "    </tr>\n",
       "    <tr>\n",
       "      <th>10</th>\n",
       "      <td>HeengYanson</td>\n",
       "      <td>304</td>\n",
       "      <td>304</td>\n",
       "      <td>4</td>\n",
       "      <td>304.00</td>\n",
       "    </tr>\n",
       "    <tr>\n",
       "      <th>11</th>\n",
       "      <td>JOYACCESS</td>\n",
       "      <td>2330</td>\n",
       "      <td>2348</td>\n",
       "      <td>2</td>\n",
       "      <td>2339.00</td>\n",
       "    </tr>\n",
       "    <tr>\n",
       "      <th>12</th>\n",
       "      <td>KOPJIPPOM</td>\n",
       "      <td>26</td>\n",
       "      <td>627</td>\n",
       "      <td>7</td>\n",
       "      <td>126.00</td>\n",
       "    </tr>\n",
       "    <tr>\n",
       "      <th>13</th>\n",
       "      <td>LIZRROT</td>\n",
       "      <td>366</td>\n",
       "      <td>375</td>\n",
       "      <td>3</td>\n",
       "      <td>372.00</td>\n",
       "    </tr>\n",
       "    <tr>\n",
       "      <th>14</th>\n",
       "      <td>Lenovo</td>\n",
       "      <td>253</td>\n",
       "      <td>253</td>\n",
       "      <td>1</td>\n",
       "      <td>253.00</td>\n",
       "    </tr>\n",
       "    <tr>\n",
       "      <th>15</th>\n",
       "      <td>Logitech</td>\n",
       "      <td>1</td>\n",
       "      <td>647</td>\n",
       "      <td>87</td>\n",
       "      <td>152.74</td>\n",
       "    </tr>\n",
       "    <tr>\n",
       "      <th>16</th>\n",
       "      <td>MANHATTAN</td>\n",
       "      <td>40</td>\n",
       "      <td>40</td>\n",
       "      <td>1</td>\n",
       "      <td>40.00</td>\n",
       "    </tr>\n",
       "    <tr>\n",
       "      <th>17</th>\n",
       "      <td>MARVO</td>\n",
       "      <td>277</td>\n",
       "      <td>277</td>\n",
       "      <td>10</td>\n",
       "      <td>277.00</td>\n",
       "    </tr>\n",
       "    <tr>\n",
       "      <th>18</th>\n",
       "      <td>MOWUX</td>\n",
       "      <td>33</td>\n",
       "      <td>342</td>\n",
       "      <td>4</td>\n",
       "      <td>179.75</td>\n",
       "    </tr>\n",
       "    <tr>\n",
       "      <th>19</th>\n",
       "      <td>Macally</td>\n",
       "      <td>203</td>\n",
       "      <td>214</td>\n",
       "      <td>10</td>\n",
       "      <td>212.90</td>\n",
       "    </tr>\n",
       "    <tr>\n",
       "      <th>20</th>\n",
       "      <td>Microsoft</td>\n",
       "      <td>185</td>\n",
       "      <td>185</td>\n",
       "      <td>10</td>\n",
       "      <td>185.00</td>\n",
       "    </tr>\n",
       "    <tr>\n",
       "      <th>21</th>\n",
       "      <td>Nulea</td>\n",
       "      <td>119</td>\n",
       "      <td>119</td>\n",
       "      <td>1</td>\n",
       "      <td>119.00</td>\n",
       "    </tr>\n",
       "    <tr>\n",
       "      <th>22</th>\n",
       "      <td>Perixx</td>\n",
       "      <td>316</td>\n",
       "      <td>2929</td>\n",
       "      <td>19</td>\n",
       "      <td>1695.05</td>\n",
       "    </tr>\n",
       "    <tr>\n",
       "      <th>23</th>\n",
       "      <td>ROCCAT</td>\n",
       "      <td>6511</td>\n",
       "      <td>6511</td>\n",
       "      <td>10</td>\n",
       "      <td>6511.00</td>\n",
       "    </tr>\n",
       "    <tr>\n",
       "      <th>24</th>\n",
       "      <td>Razer</td>\n",
       "      <td>3429</td>\n",
       "      <td>3429</td>\n",
       "      <td>9</td>\n",
       "      <td>3429.00</td>\n",
       "    </tr>\n",
       "    <tr>\n",
       "      <th>25</th>\n",
       "      <td>SABLUTE</td>\n",
       "      <td>27</td>\n",
       "      <td>44</td>\n",
       "      <td>14</td>\n",
       "      <td>39.14</td>\n",
       "    </tr>\n",
       "    <tr>\n",
       "      <th>26</th>\n",
       "      <td>Soueto</td>\n",
       "      <td>36</td>\n",
       "      <td>540</td>\n",
       "      <td>8</td>\n",
       "      <td>99.00</td>\n",
       "    </tr>\n",
       "    <tr>\n",
       "      <th>27</th>\n",
       "      <td>SteelSeries</td>\n",
       "      <td>77</td>\n",
       "      <td>77</td>\n",
       "      <td>10</td>\n",
       "      <td>77.00</td>\n",
       "    </tr>\n",
       "    <tr>\n",
       "      <th>28</th>\n",
       "      <td>TopMate</td>\n",
       "      <td>80</td>\n",
       "      <td>80</td>\n",
       "      <td>3</td>\n",
       "      <td>80.00</td>\n",
       "    </tr>\n",
       "    <tr>\n",
       "      <th>29</th>\n",
       "      <td>X9 Performance</td>\n",
       "      <td>69</td>\n",
       "      <td>102</td>\n",
       "      <td>11</td>\n",
       "      <td>96.18</td>\n",
       "    </tr>\n",
       "  </tbody>\n",
       "</table>\n",
       "</div>"
      ],
      "text/plain": [
       "             Brand   min   max  count     mean\n",
       "0          Acebaff   112  1497     20   735.25\n",
       "1    Amazon Basics  1596  2215     19  1889.21\n",
       "2           Arteck    55    62      4    60.25\n",
       "3           Atelus   128   225      2   176.50\n",
       "4             Azio   700   729     10   726.10\n",
       "5           Cherry   248   248     10   248.00\n",
       "6             EVGA  1571  1571      9  1571.00\n",
       "7           FOPETT   422   422      1   422.00\n",
       "8           Fosmon    28    28      1    28.00\n",
       "9               HP     3     3     10     3.00\n",
       "10     HeengYanson   304   304      4   304.00\n",
       "11       JOYACCESS  2330  2348      2  2339.00\n",
       "12       KOPJIPPOM    26   627      7   126.00\n",
       "13         LIZRROT   366   375      3   372.00\n",
       "14          Lenovo   253   253      1   253.00\n",
       "15        Logitech     1   647     87   152.74\n",
       "16       MANHATTAN    40    40      1    40.00\n",
       "17           MARVO   277   277     10   277.00\n",
       "18           MOWUX    33   342      4   179.75\n",
       "19         Macally   203   214     10   212.90\n",
       "20       Microsoft   185   185     10   185.00\n",
       "21           Nulea   119   119      1   119.00\n",
       "22          Perixx   316  2929     19  1695.05\n",
       "23          ROCCAT  6511  6511     10  6511.00\n",
       "24           Razer  3429  3429      9  3429.00\n",
       "25         SABLUTE    27    44     14    39.14\n",
       "26          Soueto    36   540      8    99.00\n",
       "27     SteelSeries    77    77     10    77.00\n",
       "28         TopMate    80    80      3    80.00\n",
       "29  X9 Performance    69   102     11    96.18"
      ]
     },
     "execution_count": 22,
     "metadata": {},
     "output_type": "execute_result"
    }
   ],
   "source": [
    "rank_data = data.groupby(\"Brand\")[\"Rank\"].agg([\"min\",\"max\",\"count\",\"mean\"]).reset_index()\n",
    "rank_data[\"mean\"] = rank_data[\"mean\"].round(2)\n",
    "rank_data"
   ]
  },
  {
   "cell_type": "code",
   "execution_count": 23,
   "metadata": {},
   "outputs": [
    {
     "data": {
      "image/png": "[encoded data removed]",
      "text/plain": [
       "<Figure size 1200x600 with 3 Axes>"
      ]
     },
     "metadata": {},
     "output_type": "display_data"
    }
   ],
   "source": [
    "plt.figure(figsize=(12,6))\n",
    "\n",
    "plt.subplot(2,1,1)\n",
    "sorted_brands = rank_data.sort_values(by='min', ascending=True)['Brand']\n",
    "sns.barplot(data=rank_data, x=\"Brand\", y=\"min\", errorbar=None, order=sorted_brands)\n",
    "plt.ylabel(\"Rank\")\n",
    "plt.xticks(rotation = 45,fontsize = 8)\n",
    "\n",
    "\n",
    "plt.subplot(2,2,3)\n",
    "sns.scatterplot(data=data,x=\"Price\",y=\"Review\")\n",
    "\n",
    "plt.subplot(2,2,4)\n",
    "sns.scatterplot(data=data,x=\"Rank\",y=\"Review\")\n",
    "\n",
    "plt.tight_layout()\n"
   ]
  },
  {
   "cell_type": "markdown",
   "metadata": {},
   "source": [
    "<b> General evaluations:\n",
    "- Logitech is the top brand, meaning they have products ranked #1 on Amazon, but they also have products with a rank of 647.\n",
    "- HP is in second position and maintains a consistent rank for all its products, with the minimum rank equal to the maximum rank.\n",
    "- ROCCAT is the brand with the lowest rank on Amazon, holding position #6511 with 10 products, with an average price of $34.99.\n",
    "- There are outliers in the two scatterplots. Ranks below 1000 tend to have the most reviews, and products priced in the range of $20 to $60 also tend to have the most reviews.\n",
    "  -> Higher rank generally corresponds to a lower price."
   ]
  },
  {
   "cell_type": "markdown",
   "metadata": {},
   "source": [
    "4. **Calculate Mean, Max, Min, Average of Each Brand’s Total Reviews (Units Sold)**\n",
    "<br> Because total reviews show the number of people who writing reviews -> considers columns as units sold temporarily\n",
    "   - **Objective**: Analyze sales data for each brand.\n",
    "   - **Method**: Aggregate total reviews (units sold) by brand and compute the required statistics."
   ]
  },
  {
   "cell_type": "code",
   "execution_count": 24,
   "metadata": {},
   "outputs": [
    {
     "data": {
      "text/html": [
       "<div>\n",
       "<style scoped>\n",
       "    .dataframe tbody tr th:only-of-type {\n",
       "        vertical-align: middle;\n",
       "    }\n",
       "\n",
       "    .dataframe tbody tr th {\n",
       "        vertical-align: top;\n",
       "    }\n",
       "\n",
       "    .dataframe thead th {\n",
       "        text-align: right;\n",
       "    }\n",
       "</style>\n",
       "<table border=\"1\" class=\"dataframe\">\n",
       "  <thead>\n",
       "    <tr style=\"text-align: right;\">\n",
       "      <th></th>\n",
       "      <th>Brand</th>\n",
       "      <th>min</th>\n",
       "      <th>max</th>\n",
       "      <th>count</th>\n",
       "      <th>mean</th>\n",
       "      <th>sum</th>\n",
       "    </tr>\n",
       "  </thead>\n",
       "  <tbody>\n",
       "    <tr>\n",
       "      <th>0</th>\n",
       "      <td>JOYACCESS</td>\n",
       "      <td>5</td>\n",
       "      <td>5</td>\n",
       "      <td>2</td>\n",
       "      <td>5.00</td>\n",
       "      <td>10</td>\n",
       "    </tr>\n",
       "    <tr>\n",
       "      <th>1</th>\n",
       "      <td>HeengYanson</td>\n",
       "      <td>29</td>\n",
       "      <td>29</td>\n",
       "      <td>4</td>\n",
       "      <td>29.00</td>\n",
       "      <td>116</td>\n",
       "    </tr>\n",
       "    <tr>\n",
       "      <th>2</th>\n",
       "      <td>LIZRROT</td>\n",
       "      <td>41</td>\n",
       "      <td>41</td>\n",
       "      <td>3</td>\n",
       "      <td>41.00</td>\n",
       "      <td>123</td>\n",
       "    </tr>\n",
       "    <tr>\n",
       "      <th>3</th>\n",
       "      <td>Razer</td>\n",
       "      <td>89</td>\n",
       "      <td>89</td>\n",
       "      <td>9</td>\n",
       "      <td>89.00</td>\n",
       "      <td>801</td>\n",
       "    </tr>\n",
       "    <tr>\n",
       "      <th>4</th>\n",
       "      <td>Cherry</td>\n",
       "      <td>88</td>\n",
       "      <td>89</td>\n",
       "      <td>10</td>\n",
       "      <td>88.70</td>\n",
       "      <td>887</td>\n",
       "    </tr>\n",
       "    <tr>\n",
       "      <th>5</th>\n",
       "      <td>Nulea</td>\n",
       "      <td>1075</td>\n",
       "      <td>1075</td>\n",
       "      <td>1</td>\n",
       "      <td>1075.00</td>\n",
       "      <td>1075</td>\n",
       "    </tr>\n",
       "    <tr>\n",
       "      <th>6</th>\n",
       "      <td>MARVO</td>\n",
       "      <td>146</td>\n",
       "      <td>146</td>\n",
       "      <td>10</td>\n",
       "      <td>146.00</td>\n",
       "      <td>1460</td>\n",
       "    </tr>\n",
       "    <tr>\n",
       "      <th>7</th>\n",
       "      <td>Atelus</td>\n",
       "      <td>907</td>\n",
       "      <td>907</td>\n",
       "      <td>2</td>\n",
       "      <td>907.00</td>\n",
       "      <td>1814</td>\n",
       "    </tr>\n",
       "    <tr>\n",
       "      <th>8</th>\n",
       "      <td>MOWUX</td>\n",
       "      <td>502</td>\n",
       "      <td>502</td>\n",
       "      <td>4</td>\n",
       "      <td>502.00</td>\n",
       "      <td>2008</td>\n",
       "    </tr>\n",
       "    <tr>\n",
       "      <th>9</th>\n",
       "      <td>Soueto</td>\n",
       "      <td>1</td>\n",
       "      <td>303</td>\n",
       "      <td>8</td>\n",
       "      <td>265.25</td>\n",
       "      <td>2122</td>\n",
       "    </tr>\n",
       "    <tr>\n",
       "      <th>10</th>\n",
       "      <td>FOPETT</td>\n",
       "      <td>2905</td>\n",
       "      <td>2905</td>\n",
       "      <td>1</td>\n",
       "      <td>2905.00</td>\n",
       "      <td>2905</td>\n",
       "    </tr>\n",
       "    <tr>\n",
       "      <th>11</th>\n",
       "      <td>Arteck</td>\n",
       "      <td>790</td>\n",
       "      <td>2272</td>\n",
       "      <td>4</td>\n",
       "      <td>1161.00</td>\n",
       "      <td>4644</td>\n",
       "    </tr>\n",
       "    <tr>\n",
       "      <th>12</th>\n",
       "      <td>Lenovo</td>\n",
       "      <td>5214</td>\n",
       "      <td>5214</td>\n",
       "      <td>1</td>\n",
       "      <td>5214.00</td>\n",
       "      <td>5214</td>\n",
       "    </tr>\n",
       "    <tr>\n",
       "      <th>13</th>\n",
       "      <td>MANHATTAN</td>\n",
       "      <td>6331</td>\n",
       "      <td>6331</td>\n",
       "      <td>1</td>\n",
       "      <td>6331.00</td>\n",
       "      <td>6331</td>\n",
       "    </tr>\n",
       "    <tr>\n",
       "      <th>14</th>\n",
       "      <td>Microsoft</td>\n",
       "      <td>731</td>\n",
       "      <td>731</td>\n",
       "      <td>10</td>\n",
       "      <td>731.00</td>\n",
       "      <td>7310</td>\n",
       "    </tr>\n",
       "    <tr>\n",
       "      <th>15</th>\n",
       "      <td>Acebaff</td>\n",
       "      <td>277</td>\n",
       "      <td>451</td>\n",
       "      <td>20</td>\n",
       "      <td>372.50</td>\n",
       "      <td>7450</td>\n",
       "    </tr>\n",
       "    <tr>\n",
       "      <th>16</th>\n",
       "      <td>Azio</td>\n",
       "      <td>846</td>\n",
       "      <td>846</td>\n",
       "      <td>10</td>\n",
       "      <td>846.00</td>\n",
       "      <td>8460</td>\n",
       "    </tr>\n",
       "    <tr>\n",
       "      <th>17</th>\n",
       "      <td>ROCCAT</td>\n",
       "      <td>934</td>\n",
       "      <td>934</td>\n",
       "      <td>10</td>\n",
       "      <td>934.00</td>\n",
       "      <td>9340</td>\n",
       "    </tr>\n",
       "    <tr>\n",
       "      <th>18</th>\n",
       "      <td>X9 Performance</td>\n",
       "      <td>913</td>\n",
       "      <td>1415</td>\n",
       "      <td>11</td>\n",
       "      <td>1004.27</td>\n",
       "      <td>11047</td>\n",
       "    </tr>\n",
       "    <tr>\n",
       "      <th>19</th>\n",
       "      <td>Fosmon</td>\n",
       "      <td>11975</td>\n",
       "      <td>11975</td>\n",
       "      <td>1</td>\n",
       "      <td>11975.00</td>\n",
       "      <td>11975</td>\n",
       "    </tr>\n",
       "    <tr>\n",
       "      <th>20</th>\n",
       "      <td>KOPJIPPOM</td>\n",
       "      <td>30</td>\n",
       "      <td>2419</td>\n",
       "      <td>7</td>\n",
       "      <td>1801.57</td>\n",
       "      <td>12611</td>\n",
       "    </tr>\n",
       "    <tr>\n",
       "      <th>21</th>\n",
       "      <td>SABLUTE</td>\n",
       "      <td>805</td>\n",
       "      <td>1487</td>\n",
       "      <td>14</td>\n",
       "      <td>1000.36</td>\n",
       "      <td>14005</td>\n",
       "    </tr>\n",
       "    <tr>\n",
       "      <th>22</th>\n",
       "      <td>Perixx</td>\n",
       "      <td>174</td>\n",
       "      <td>1442</td>\n",
       "      <td>19</td>\n",
       "      <td>774.63</td>\n",
       "      <td>14718</td>\n",
       "    </tr>\n",
       "    <tr>\n",
       "      <th>23</th>\n",
       "      <td>TopMate</td>\n",
       "      <td>6457</td>\n",
       "      <td>6457</td>\n",
       "      <td>3</td>\n",
       "      <td>6457.00</td>\n",
       "      <td>19371</td>\n",
       "    </tr>\n",
       "    <tr>\n",
       "      <th>24</th>\n",
       "      <td>EVGA</td>\n",
       "      <td>2425</td>\n",
       "      <td>2425</td>\n",
       "      <td>9</td>\n",
       "      <td>2425.00</td>\n",
       "      <td>21825</td>\n",
       "    </tr>\n",
       "    <tr>\n",
       "      <th>25</th>\n",
       "      <td>Macally</td>\n",
       "      <td>2388</td>\n",
       "      <td>2388</td>\n",
       "      <td>10</td>\n",
       "      <td>2388.00</td>\n",
       "      <td>23880</td>\n",
       "    </tr>\n",
       "    <tr>\n",
       "      <th>26</th>\n",
       "      <td>HP</td>\n",
       "      <td>3700</td>\n",
       "      <td>3701</td>\n",
       "      <td>10</td>\n",
       "      <td>3700.70</td>\n",
       "      <td>37007</td>\n",
       "    </tr>\n",
       "    <tr>\n",
       "      <th>27</th>\n",
       "      <td>SteelSeries</td>\n",
       "      <td>4714</td>\n",
       "      <td>4714</td>\n",
       "      <td>10</td>\n",
       "      <td>4714.00</td>\n",
       "      <td>47140</td>\n",
       "    </tr>\n",
       "    <tr>\n",
       "      <th>28</th>\n",
       "      <td>Amazon Basics</td>\n",
       "      <td>800</td>\n",
       "      <td>4995</td>\n",
       "      <td>19</td>\n",
       "      <td>3007.89</td>\n",
       "      <td>57150</td>\n",
       "    </tr>\n",
       "    <tr>\n",
       "      <th>29</th>\n",
       "      <td>Logitech</td>\n",
       "      <td>55</td>\n",
       "      <td>36809</td>\n",
       "      <td>87</td>\n",
       "      <td>6154.56</td>\n",
       "      <td>535447</td>\n",
       "    </tr>\n",
       "  </tbody>\n",
       "</table>\n",
       "</div>"
      ],
      "text/plain": [
       "             Brand    min    max  count      mean     sum\n",
       "0        JOYACCESS      5      5      2      5.00      10\n",
       "1      HeengYanson     29     29      4     29.00     116\n",
       "2          LIZRROT     41     41      3     41.00     123\n",
       "3            Razer     89     89      9     89.00     801\n",
       "4           Cherry     88     89     10     88.70     887\n",
       "5            Nulea   1075   1075      1   1075.00    1075\n",
       "6            MARVO    146    146     10    146.00    1460\n",
       "7           Atelus    907    907      2    907.00    1814\n",
       "8            MOWUX    502    502      4    502.00    2008\n",
       "9           Soueto      1    303      8    265.25    2122\n",
       "10          FOPETT   2905   2905      1   2905.00    2905\n",
       "11          Arteck    790   2272      4   1161.00    4644\n",
       "12          Lenovo   5214   5214      1   5214.00    5214\n",
       "13       MANHATTAN   6331   6331      1   6331.00    6331\n",
       "14       Microsoft    731    731     10    731.00    7310\n",
       "15         Acebaff    277    451     20    372.50    7450\n",
       "16            Azio    846    846     10    846.00    8460\n",
       "17          ROCCAT    934    934     10    934.00    9340\n",
       "18  X9 Performance    913   1415     11   1004.27   11047\n",
       "19          Fosmon  11975  11975      1  11975.00   11975\n",
       "20       KOPJIPPOM     30   2419      7   1801.57   12611\n",
       "21         SABLUTE    805   1487     14   1000.36   14005\n",
       "22          Perixx    174   1442     19    774.63   14718\n",
       "23         TopMate   6457   6457      3   6457.00   19371\n",
       "24            EVGA   2425   2425      9   2425.00   21825\n",
       "25         Macally   2388   2388     10   2388.00   23880\n",
       "26              HP   3700   3701     10   3700.70   37007\n",
       "27     SteelSeries   4714   4714     10   4714.00   47140\n",
       "28   Amazon Basics    800   4995     19   3007.89   57150\n",
       "29        Logitech     55  36809     87   6154.56  535447"
      ]
     },
     "execution_count": 24,
     "metadata": {},
     "output_type": "execute_result"
    }
   ],
   "source": [
    "data.rename(columns={\"Total Review\":\"Sold\"},inplace=True)\n",
    "sold_data = data.groupby(\"Brand\")[\"Sold\"].agg([\"min\",\"max\",\"count\",\"mean\",\"sum\"]).reset_index()\n",
    "sold_data[\"mean\"] = sold_data[\"mean\"].round(2)\n",
    "sold_data_sorted = sold_data.sort_values(by='sum',ascending=True,ignore_index=True)\n",
    "sold_data_sorted"
   ]
  },
  {
   "cell_type": "code",
   "execution_count": 25,
   "metadata": {},
   "outputs": [
    {
     "data": {
      "text/html": [
       "<div>\n",
       "<style scoped>\n",
       "    .dataframe tbody tr th:only-of-type {\n",
       "        vertical-align: middle;\n",
       "    }\n",
       "\n",
       "    .dataframe tbody tr th {\n",
       "        vertical-align: top;\n",
       "    }\n",
       "\n",
       "    .dataframe thead th {\n",
       "        text-align: right;\n",
       "    }\n",
       "</style>\n",
       "<table border=\"1\" class=\"dataframe\">\n",
       "  <thead>\n",
       "    <tr style=\"text-align: right;\">\n",
       "      <th></th>\n",
       "      <th>Title</th>\n",
       "      <th>Link</th>\n",
       "      <th>Brand</th>\n",
       "      <th>Price</th>\n",
       "      <th>Review</th>\n",
       "      <th>Sold</th>\n",
       "      <th>Compatible Devices</th>\n",
       "      <th>Color</th>\n",
       "      <th>Number of Keys</th>\n",
       "      <th>Connectivity Technology</th>\n",
       "      <th>Rank</th>\n",
       "    </tr>\n",
       "  </thead>\n",
       "  <tbody>\n",
       "    <tr>\n",
       "      <th>146</th>\n",
       "      <td>Logitech K400 Plus Wireless Touch With Easy Me...</td>\n",
       "      <td>https://www.amazon.com/Logitech-Wireless-Keybo...</td>\n",
       "      <td>Logitech</td>\n",
       "      <td>49.04496</td>\n",
       "      <td>4.5</td>\n",
       "      <td>36809</td>\n",
       "      <td>Laptop, PC, Smart TV, Tablet, Smartphone</td>\n",
       "      <td>Black</td>\n",
       "      <td>84</td>\n",
       "      <td>RF, Unifying Receiver</td>\n",
       "      <td>1</td>\n",
       "    </tr>\n",
       "  </tbody>\n",
       "</table>\n",
       "</div>"
      ],
      "text/plain": [
       "                                                 Title  \\\n",
       "146  Logitech K400 Plus Wireless Touch With Easy Me...   \n",
       "\n",
       "                                                  Link     Brand     Price  \\\n",
       "146  https://www.amazon.com/Logitech-Wireless-Keybo...  Logitech  49.04496   \n",
       "\n",
       "     Review   Sold                          Compatible Devices    Color  \\\n",
       "146     4.5  36809   Laptop, PC, Smart TV, Tablet, Smartphone    Black    \n",
       "\n",
       "     Number of Keys  Connectivity Technology  Rank  \n",
       "146              84   RF, Unifying Receiver      1  "
      ]
     },
     "execution_count": 25,
     "metadata": {},
     "output_type": "execute_result"
    }
   ],
   "source": [
    "data[data[\"Sold\"] == 36809]"
   ]
  },
  {
   "cell_type": "code",
   "execution_count": 26,
   "metadata": {},
   "outputs": [
    {
     "data": {
      "text/html": [
       "<div>\n",
       "<style scoped>\n",
       "    .dataframe tbody tr th:only-of-type {\n",
       "        vertical-align: middle;\n",
       "    }\n",
       "\n",
       "    .dataframe tbody tr th {\n",
       "        vertical-align: top;\n",
       "    }\n",
       "\n",
       "    .dataframe thead th {\n",
       "        text-align: right;\n",
       "    }\n",
       "</style>\n",
       "<table border=\"1\" class=\"dataframe\">\n",
       "  <thead>\n",
       "    <tr style=\"text-align: right;\">\n",
       "      <th></th>\n",
       "      <th>Title</th>\n",
       "      <th>Link</th>\n",
       "      <th>Brand</th>\n",
       "      <th>Price</th>\n",
       "      <th>Review</th>\n",
       "      <th>Sold</th>\n",
       "      <th>Compatible Devices</th>\n",
       "      <th>Color</th>\n",
       "      <th>Number of Keys</th>\n",
       "      <th>Connectivity Technology</th>\n",
       "      <th>Rank</th>\n",
       "    </tr>\n",
       "  </thead>\n",
       "  <tbody>\n",
       "    <tr>\n",
       "      <th>309</th>\n",
       "      <td>RGB Wireless Keyboard with 7-Color Backlit, Co...</td>\n",
       "      <td>https://www.amazon.com/sspa/click?ie=UTF8&amp;spc=...</td>\n",
       "      <td>Soueto</td>\n",
       "      <td>39.99</td>\n",
       "      <td>5.0</td>\n",
       "      <td>1</td>\n",
       "      <td>Laptop, Gaming Console, PC, Smart TV</td>\n",
       "      <td>Black</td>\n",
       "      <td>102</td>\n",
       "      <td>USB-A, USB-C</td>\n",
       "      <td>540</td>\n",
       "    </tr>\n",
       "  </tbody>\n",
       "</table>\n",
       "</div>"
      ],
      "text/plain": [
       "                                                 Title  \\\n",
       "309  RGB Wireless Keyboard with 7-Color Backlit, Co...   \n",
       "\n",
       "                                                  Link   Brand  Price  Review  \\\n",
       "309  https://www.amazon.com/sspa/click?ie=UTF8&spc=...  Soueto  39.99     5.0   \n",
       "\n",
       "     Sold                      Compatible Devices    Color  Number of Keys  \\\n",
       "309     1   Laptop, Gaming Console, PC, Smart TV    Black              102   \n",
       "\n",
       "    Connectivity Technology  Rank  \n",
       "309           USB-A, USB-C    540  "
      ]
     },
     "execution_count": 26,
     "metadata": {},
     "output_type": "execute_result"
    }
   ],
   "source": [
    "data[data[\"Sold\"] == 1]"
   ]
  },
  {
   "cell_type": "code",
   "execution_count": 27,
   "metadata": {},
   "outputs": [
    {
     "data": {
      "image/png": "[encoded data removed]",
      "text/plain": [
       "<Figure size 1200x600 with 2 Axes>"
      ]
     },
     "metadata": {},
     "output_type": "display_data"
    }
   ],
   "source": [
    "fig,ax = plt.subplots(1,2,figsize = (12,6))\n",
    "sns.barplot(sold_data_sorted.tail(10),x=\"sum\",y=\"Brand\",ax=ax[0])\n",
    "ax[0].set_xlabel(\"The total number of products sold\")\n",
    "ax[0].set_title(\"Top 10 Brands with the highest total number of products sold\")\n",
    "\n",
    "sns.regplot(data = data, x = \"Sold\", y = \"Price\",ax=ax[1])\n",
    "ax[1].set_title(\"Relationship between price and number of products sold\")\n",
    "plt.show()"
   ]
  },
  {
   "cell_type": "markdown",
   "metadata": {},
   "source": [
    "<b> General evaluations:\n",
    "- Logitech is the brand with the highest number of products sold (36,809) that have a 75% layout, priced at $49, and ranked 1.\n",
    "- Soueto is the brand with the lowest number of products sold—only 1 product—with a Tenkeyless layout, priced at $39.99, and ranked 540.\n",
    "- Price is not the main factor affecting the number of units sold; a lower price does not necessarily mean that the products will sell more."
   ]
  },
  {
   "cell_type": "markdown",
   "metadata": {},
   "source": [
    "5. **Count Number of Products of Each Brand and Each Connectivity Technology**\n",
    "   - **Objective**: Determine product counts for brands and connectivity technologies.\n",
    "   - **Method**: Use value counts or groupby to tally the number of products."
   ]
  },
  {
   "cell_type": "code",
   "execution_count": 28,
   "metadata": {},
   "outputs": [
    {
     "data": {
      "text/plain": [
       "Index(['Title', 'Link', 'Brand', 'Price', 'Review', 'Sold',\n",
       "       'Compatible Devices', 'Color', 'Number of Keys',\n",
       "       'Connectivity Technology', 'Rank'],\n",
       "      dtype='object')"
      ]
     },
     "execution_count": 28,
     "metadata": {},
     "output_type": "execute_result"
    }
   ],
   "source": [
    "data.columns"
   ]
  },
  {
   "cell_type": "code",
   "execution_count": 29,
   "metadata": {},
   "outputs": [
    {
     "data": {
      "text/plain": [
       "array([' USB ', ' USB-A ', ' Wired ', ' Usb ', ' Wireless, Bluetooth ',\n",
       "       ' wired ', ' Bluetooth ', ' wireless ', ' USB-A, USB 2.0 ',\n",
       "       ' USB only (Non-Bluetooth) ', ' Bluetooth, USB-C ', ' USB-C ',\n",
       "       ' RF, USB ', ' USB, USB-A ', ' Micro USB ', ' USB Wireless ',\n",
       "       ' Bluetooth, USB ', ' Wireless ', ' RF, Unifying Receiver ',\n",
       "       ' Bluetooth, 2.4G USB ', ' USB-A, USB-C '], dtype=object)"
      ]
     },
     "execution_count": 29,
     "metadata": {},
     "output_type": "execute_result"
    }
   ],
   "source": [
    "data[\"Connectivity Technology\"].unique()"
   ]
  },
  {
   "cell_type": "code",
   "execution_count": 30,
   "metadata": {},
   "outputs": [
    {
     "data": {
      "text/html": [
       "<div>\n",
       "<style scoped>\n",
       "    .dataframe tbody tr th:only-of-type {\n",
       "        vertical-align: middle;\n",
       "    }\n",
       "\n",
       "    .dataframe tbody tr th {\n",
       "        vertical-align: top;\n",
       "    }\n",
       "\n",
       "    .dataframe thead th {\n",
       "        text-align: right;\n",
       "    }\n",
       "</style>\n",
       "<table border=\"1\" class=\"dataframe\">\n",
       "  <thead>\n",
       "    <tr style=\"text-align: right;\">\n",
       "      <th></th>\n",
       "      <th>Brand</th>\n",
       "      <th>Review</th>\n",
       "      <th>Sold</th>\n",
       "      <th>Connectivity Technology</th>\n",
       "    </tr>\n",
       "  </thead>\n",
       "  <tbody>\n",
       "    <tr>\n",
       "      <th>0</th>\n",
       "      <td>Acebaff</td>\n",
       "      <td>4.3</td>\n",
       "      <td>450</td>\n",
       "      <td>USB</td>\n",
       "    </tr>\n",
       "    <tr>\n",
       "      <th>1</th>\n",
       "      <td>MARVO</td>\n",
       "      <td>4.5</td>\n",
       "      <td>146</td>\n",
       "      <td>USB-A</td>\n",
       "    </tr>\n",
       "    <tr>\n",
       "      <th>2</th>\n",
       "      <td>X9 Performance</td>\n",
       "      <td>4.4</td>\n",
       "      <td>1415</td>\n",
       "      <td>USB-A</td>\n",
       "    </tr>\n",
       "    <tr>\n",
       "      <th>3</th>\n",
       "      <td>Perixx</td>\n",
       "      <td>4.6</td>\n",
       "      <td>1442</td>\n",
       "      <td>Wired</td>\n",
       "    </tr>\n",
       "    <tr>\n",
       "      <th>4</th>\n",
       "      <td>Logitech</td>\n",
       "      <td>4.6</td>\n",
       "      <td>21152</td>\n",
       "      <td>Usb</td>\n",
       "    </tr>\n",
       "    <tr>\n",
       "      <th>...</th>\n",
       "      <td>...</td>\n",
       "      <td>...</td>\n",
       "      <td>...</td>\n",
       "      <td>...</td>\n",
       "    </tr>\n",
       "    <tr>\n",
       "      <th>306</th>\n",
       "      <td>Logitech</td>\n",
       "      <td>4.4</td>\n",
       "      <td>958</td>\n",
       "      <td>RF, USB</td>\n",
       "    </tr>\n",
       "    <tr>\n",
       "      <th>307</th>\n",
       "      <td>Arteck</td>\n",
       "      <td>4.4</td>\n",
       "      <td>791</td>\n",
       "      <td>USB Wireless</td>\n",
       "    </tr>\n",
       "    <tr>\n",
       "      <th>308</th>\n",
       "      <td>Acebaff</td>\n",
       "      <td>4.3</td>\n",
       "      <td>277</td>\n",
       "      <td>USB</td>\n",
       "    </tr>\n",
       "    <tr>\n",
       "      <th>309</th>\n",
       "      <td>Soueto</td>\n",
       "      <td>5.0</td>\n",
       "      <td>1</td>\n",
       "      <td>USB-A, USB-C</td>\n",
       "    </tr>\n",
       "    <tr>\n",
       "      <th>310</th>\n",
       "      <td>KOPJIPPOM</td>\n",
       "      <td>4.5</td>\n",
       "      <td>2419</td>\n",
       "      <td>USB, USB-A</td>\n",
       "    </tr>\n",
       "  </tbody>\n",
       "</table>\n",
       "<p>310 rows × 4 columns</p>\n",
       "</div>"
      ],
      "text/plain": [
       "              Brand  Review   Sold Connectivity Technology\n",
       "0           Acebaff     4.3    450                    USB \n",
       "1             MARVO     4.5    146                  USB-A \n",
       "2    X9 Performance     4.4   1415                  USB-A \n",
       "3            Perixx     4.6   1442                  Wired \n",
       "4          Logitech     4.6  21152                    Usb \n",
       "..              ...     ...    ...                     ...\n",
       "306        Logitech     4.4    958                RF, USB \n",
       "307          Arteck     4.4    791           USB Wireless \n",
       "308         Acebaff     4.3    277                    USB \n",
       "309          Soueto     5.0      1           USB-A, USB-C \n",
       "310       KOPJIPPOM     4.5   2419             USB, USB-A \n",
       "\n",
       "[310 rows x 4 columns]"
      ]
     },
     "execution_count": 30,
     "metadata": {},
     "output_type": "execute_result"
    }
   ],
   "source": [
    "connectivity = data[[\"Brand\",'Review', 'Sold','Connectivity Technology']]\n",
    "connectivity"
   ]
  },
  {
   "cell_type": "code",
   "execution_count": 31,
   "metadata": {},
   "outputs": [],
   "source": [
    "#function for change elements in column into binary\n",
    "def add_binary_columns(df,col_name,keywords):\n",
    "    for keyword in keywords:\n",
    "        df[keyword.capitalize()] = df[col_name].apply(lambda x: 1 if keyword.lower() in x.lower() else 0)\n",
    "    return df"
   ]
  },
  {
   "cell_type": "code",
   "execution_count": 32,
   "metadata": {},
   "outputs": [
    {
     "data": {
      "text/html": [
       "<div>\n",
       "<style scoped>\n",
       "    .dataframe tbody tr th:only-of-type {\n",
       "        vertical-align: middle;\n",
       "    }\n",
       "\n",
       "    .dataframe tbody tr th {\n",
       "        vertical-align: top;\n",
       "    }\n",
       "\n",
       "    .dataframe thead th {\n",
       "        text-align: right;\n",
       "    }\n",
       "</style>\n",
       "<table border=\"1\" class=\"dataframe\">\n",
       "  <thead>\n",
       "    <tr style=\"text-align: right;\">\n",
       "      <th></th>\n",
       "      <th>Brand</th>\n",
       "      <th>Review</th>\n",
       "      <th>Sold</th>\n",
       "      <th>Connectivity Technology</th>\n",
       "      <th>Usb</th>\n",
       "      <th>Wireless</th>\n",
       "      <th>Bluetooth</th>\n",
       "      <th>Rf</th>\n",
       "    </tr>\n",
       "  </thead>\n",
       "  <tbody>\n",
       "    <tr>\n",
       "      <th>0</th>\n",
       "      <td>Acebaff</td>\n",
       "      <td>4.3</td>\n",
       "      <td>450</td>\n",
       "      <td>USB</td>\n",
       "      <td>1</td>\n",
       "      <td>0</td>\n",
       "      <td>0</td>\n",
       "      <td>0</td>\n",
       "    </tr>\n",
       "    <tr>\n",
       "      <th>1</th>\n",
       "      <td>MARVO</td>\n",
       "      <td>4.5</td>\n",
       "      <td>146</td>\n",
       "      <td>USB-A</td>\n",
       "      <td>1</td>\n",
       "      <td>0</td>\n",
       "      <td>0</td>\n",
       "      <td>0</td>\n",
       "    </tr>\n",
       "    <tr>\n",
       "      <th>2</th>\n",
       "      <td>X9 Performance</td>\n",
       "      <td>4.4</td>\n",
       "      <td>1415</td>\n",
       "      <td>USB-A</td>\n",
       "      <td>1</td>\n",
       "      <td>0</td>\n",
       "      <td>0</td>\n",
       "      <td>0</td>\n",
       "    </tr>\n",
       "    <tr>\n",
       "      <th>3</th>\n",
       "      <td>Perixx</td>\n",
       "      <td>4.6</td>\n",
       "      <td>1442</td>\n",
       "      <td>Wired</td>\n",
       "      <td>0</td>\n",
       "      <td>0</td>\n",
       "      <td>0</td>\n",
       "      <td>0</td>\n",
       "    </tr>\n",
       "    <tr>\n",
       "      <th>4</th>\n",
       "      <td>Logitech</td>\n",
       "      <td>4.6</td>\n",
       "      <td>21152</td>\n",
       "      <td>Usb</td>\n",
       "      <td>1</td>\n",
       "      <td>0</td>\n",
       "      <td>0</td>\n",
       "      <td>0</td>\n",
       "    </tr>\n",
       "    <tr>\n",
       "      <th>...</th>\n",
       "      <td>...</td>\n",
       "      <td>...</td>\n",
       "      <td>...</td>\n",
       "      <td>...</td>\n",
       "      <td>...</td>\n",
       "      <td>...</td>\n",
       "      <td>...</td>\n",
       "      <td>...</td>\n",
       "    </tr>\n",
       "    <tr>\n",
       "      <th>306</th>\n",
       "      <td>Logitech</td>\n",
       "      <td>4.4</td>\n",
       "      <td>958</td>\n",
       "      <td>RF, USB</td>\n",
       "      <td>1</td>\n",
       "      <td>0</td>\n",
       "      <td>0</td>\n",
       "      <td>1</td>\n",
       "    </tr>\n",
       "    <tr>\n",
       "      <th>307</th>\n",
       "      <td>Arteck</td>\n",
       "      <td>4.4</td>\n",
       "      <td>791</td>\n",
       "      <td>USB Wireless</td>\n",
       "      <td>1</td>\n",
       "      <td>1</td>\n",
       "      <td>0</td>\n",
       "      <td>0</td>\n",
       "    </tr>\n",
       "    <tr>\n",
       "      <th>308</th>\n",
       "      <td>Acebaff</td>\n",
       "      <td>4.3</td>\n",
       "      <td>277</td>\n",
       "      <td>USB</td>\n",
       "      <td>1</td>\n",
       "      <td>0</td>\n",
       "      <td>0</td>\n",
       "      <td>0</td>\n",
       "    </tr>\n",
       "    <tr>\n",
       "      <th>309</th>\n",
       "      <td>Soueto</td>\n",
       "      <td>5.0</td>\n",
       "      <td>1</td>\n",
       "      <td>USB-A, USB-C</td>\n",
       "      <td>1</td>\n",
       "      <td>0</td>\n",
       "      <td>0</td>\n",
       "      <td>0</td>\n",
       "    </tr>\n",
       "    <tr>\n",
       "      <th>310</th>\n",
       "      <td>KOPJIPPOM</td>\n",
       "      <td>4.5</td>\n",
       "      <td>2419</td>\n",
       "      <td>USB, USB-A</td>\n",
       "      <td>1</td>\n",
       "      <td>0</td>\n",
       "      <td>0</td>\n",
       "      <td>0</td>\n",
       "    </tr>\n",
       "  </tbody>\n",
       "</table>\n",
       "<p>310 rows × 8 columns</p>\n",
       "</div>"
      ],
      "text/plain": [
       "              Brand  Review   Sold Connectivity Technology  Usb  Wireless  \\\n",
       "0           Acebaff     4.3    450                    USB     1         0   \n",
       "1             MARVO     4.5    146                  USB-A     1         0   \n",
       "2    X9 Performance     4.4   1415                  USB-A     1         0   \n",
       "3            Perixx     4.6   1442                  Wired     0         0   \n",
       "4          Logitech     4.6  21152                    Usb     1         0   \n",
       "..              ...     ...    ...                     ...  ...       ...   \n",
       "306        Logitech     4.4    958                RF, USB     1         0   \n",
       "307          Arteck     4.4    791           USB Wireless     1         1   \n",
       "308         Acebaff     4.3    277                    USB     1         0   \n",
       "309          Soueto     5.0      1           USB-A, USB-C     1         0   \n",
       "310       KOPJIPPOM     4.5   2419             USB, USB-A     1         0   \n",
       "\n",
       "     Bluetooth  Rf  \n",
       "0            0   0  \n",
       "1            0   0  \n",
       "2            0   0  \n",
       "3            0   0  \n",
       "4            0   0  \n",
       "..         ...  ..  \n",
       "306          0   1  \n",
       "307          0   0  \n",
       "308          0   0  \n",
       "309          0   0  \n",
       "310          0   0  \n",
       "\n",
       "[310 rows x 8 columns]"
      ]
     },
     "execution_count": 32,
     "metadata": {},
     "output_type": "execute_result"
    }
   ],
   "source": [
    "keywords = [\"usb\",\"wireless\",\"bluetooth\",\"rf\"]\n",
    "df = add_binary_columns(connectivity,'Connectivity Technology',keywords=keywords)\n",
    "df"
   ]
  },
  {
   "cell_type": "code",
   "execution_count": 33,
   "metadata": {},
   "outputs": [
    {
     "data": {
      "text/html": [
       "<div>\n",
       "<style scoped>\n",
       "    .dataframe tbody tr th:only-of-type {\n",
       "        vertical-align: middle;\n",
       "    }\n",
       "\n",
       "    .dataframe tbody tr th {\n",
       "        vertical-align: top;\n",
       "    }\n",
       "\n",
       "    .dataframe thead th {\n",
       "        text-align: right;\n",
       "    }\n",
       "</style>\n",
       "<table border=\"1\" class=\"dataframe\">\n",
       "  <thead>\n",
       "    <tr style=\"text-align: right;\">\n",
       "      <th></th>\n",
       "      <th>Brand</th>\n",
       "      <th>Usb</th>\n",
       "      <th>Wireless</th>\n",
       "      <th>Bluetooth</th>\n",
       "      <th>Rf</th>\n",
       "    </tr>\n",
       "  </thead>\n",
       "  <tbody>\n",
       "    <tr>\n",
       "      <th>0</th>\n",
       "      <td>Acebaff</td>\n",
       "      <td>20</td>\n",
       "      <td>0</td>\n",
       "      <td>0</td>\n",
       "      <td>0</td>\n",
       "    </tr>\n",
       "    <tr>\n",
       "      <th>1</th>\n",
       "      <td>Amazon Basics</td>\n",
       "      <td>19</td>\n",
       "      <td>0</td>\n",
       "      <td>19</td>\n",
       "      <td>0</td>\n",
       "    </tr>\n",
       "    <tr>\n",
       "      <th>2</th>\n",
       "      <td>Arteck</td>\n",
       "      <td>4</td>\n",
       "      <td>3</td>\n",
       "      <td>0</td>\n",
       "      <td>0</td>\n",
       "    </tr>\n",
       "    <tr>\n",
       "      <th>3</th>\n",
       "      <td>Atelus</td>\n",
       "      <td>2</td>\n",
       "      <td>0</td>\n",
       "      <td>0</td>\n",
       "      <td>0</td>\n",
       "    </tr>\n",
       "    <tr>\n",
       "      <th>4</th>\n",
       "      <td>Azio</td>\n",
       "      <td>0</td>\n",
       "      <td>0</td>\n",
       "      <td>0</td>\n",
       "      <td>0</td>\n",
       "    </tr>\n",
       "    <tr>\n",
       "      <th>5</th>\n",
       "      <td>Cherry</td>\n",
       "      <td>10</td>\n",
       "      <td>0</td>\n",
       "      <td>0</td>\n",
       "      <td>0</td>\n",
       "    </tr>\n",
       "    <tr>\n",
       "      <th>6</th>\n",
       "      <td>EVGA</td>\n",
       "      <td>9</td>\n",
       "      <td>0</td>\n",
       "      <td>0</td>\n",
       "      <td>0</td>\n",
       "    </tr>\n",
       "    <tr>\n",
       "      <th>7</th>\n",
       "      <td>FOPETT</td>\n",
       "      <td>1</td>\n",
       "      <td>0</td>\n",
       "      <td>0</td>\n",
       "      <td>0</td>\n",
       "    </tr>\n",
       "    <tr>\n",
       "      <th>8</th>\n",
       "      <td>Fosmon</td>\n",
       "      <td>0</td>\n",
       "      <td>1</td>\n",
       "      <td>0</td>\n",
       "      <td>0</td>\n",
       "    </tr>\n",
       "    <tr>\n",
       "      <th>9</th>\n",
       "      <td>HP</td>\n",
       "      <td>0</td>\n",
       "      <td>10</td>\n",
       "      <td>0</td>\n",
       "      <td>0</td>\n",
       "    </tr>\n",
       "    <tr>\n",
       "      <th>10</th>\n",
       "      <td>HeengYanson</td>\n",
       "      <td>4</td>\n",
       "      <td>0</td>\n",
       "      <td>0</td>\n",
       "      <td>0</td>\n",
       "    </tr>\n",
       "    <tr>\n",
       "      <th>11</th>\n",
       "      <td>JOYACCESS</td>\n",
       "      <td>0</td>\n",
       "      <td>0</td>\n",
       "      <td>2</td>\n",
       "      <td>0</td>\n",
       "    </tr>\n",
       "    <tr>\n",
       "      <th>12</th>\n",
       "      <td>KOPJIPPOM</td>\n",
       "      <td>7</td>\n",
       "      <td>0</td>\n",
       "      <td>0</td>\n",
       "      <td>0</td>\n",
       "    </tr>\n",
       "    <tr>\n",
       "      <th>13</th>\n",
       "      <td>LIZRROT</td>\n",
       "      <td>3</td>\n",
       "      <td>0</td>\n",
       "      <td>0</td>\n",
       "      <td>0</td>\n",
       "    </tr>\n",
       "    <tr>\n",
       "      <th>14</th>\n",
       "      <td>Lenovo</td>\n",
       "      <td>1</td>\n",
       "      <td>0</td>\n",
       "      <td>0</td>\n",
       "      <td>0</td>\n",
       "    </tr>\n",
       "    <tr>\n",
       "      <th>15</th>\n",
       "      <td>Logitech</td>\n",
       "      <td>56</td>\n",
       "      <td>0</td>\n",
       "      <td>36</td>\n",
       "      <td>11</td>\n",
       "    </tr>\n",
       "    <tr>\n",
       "      <th>16</th>\n",
       "      <td>MANHATTAN</td>\n",
       "      <td>1</td>\n",
       "      <td>0</td>\n",
       "      <td>0</td>\n",
       "      <td>0</td>\n",
       "    </tr>\n",
       "    <tr>\n",
       "      <th>17</th>\n",
       "      <td>MARVO</td>\n",
       "      <td>10</td>\n",
       "      <td>0</td>\n",
       "      <td>0</td>\n",
       "      <td>0</td>\n",
       "    </tr>\n",
       "    <tr>\n",
       "      <th>18</th>\n",
       "      <td>MOWUX</td>\n",
       "      <td>4</td>\n",
       "      <td>0</td>\n",
       "      <td>0</td>\n",
       "      <td>0</td>\n",
       "    </tr>\n",
       "    <tr>\n",
       "      <th>19</th>\n",
       "      <td>Macally</td>\n",
       "      <td>0</td>\n",
       "      <td>10</td>\n",
       "      <td>10</td>\n",
       "      <td>0</td>\n",
       "    </tr>\n",
       "    <tr>\n",
       "      <th>20</th>\n",
       "      <td>Microsoft</td>\n",
       "      <td>0</td>\n",
       "      <td>10</td>\n",
       "      <td>0</td>\n",
       "      <td>0</td>\n",
       "    </tr>\n",
       "    <tr>\n",
       "      <th>21</th>\n",
       "      <td>Nulea</td>\n",
       "      <td>1</td>\n",
       "      <td>0</td>\n",
       "      <td>1</td>\n",
       "      <td>0</td>\n",
       "    </tr>\n",
       "    <tr>\n",
       "      <th>22</th>\n",
       "      <td>Perixx</td>\n",
       "      <td>10</td>\n",
       "      <td>0</td>\n",
       "      <td>0</td>\n",
       "      <td>0</td>\n",
       "    </tr>\n",
       "    <tr>\n",
       "      <th>23</th>\n",
       "      <td>ROCCAT</td>\n",
       "      <td>0</td>\n",
       "      <td>0</td>\n",
       "      <td>0</td>\n",
       "      <td>0</td>\n",
       "    </tr>\n",
       "    <tr>\n",
       "      <th>24</th>\n",
       "      <td>Razer</td>\n",
       "      <td>9</td>\n",
       "      <td>0</td>\n",
       "      <td>0</td>\n",
       "      <td>0</td>\n",
       "    </tr>\n",
       "    <tr>\n",
       "      <th>25</th>\n",
       "      <td>SABLUTE</td>\n",
       "      <td>14</td>\n",
       "      <td>0</td>\n",
       "      <td>0</td>\n",
       "      <td>0</td>\n",
       "    </tr>\n",
       "    <tr>\n",
       "      <th>26</th>\n",
       "      <td>Soueto</td>\n",
       "      <td>8</td>\n",
       "      <td>0</td>\n",
       "      <td>0</td>\n",
       "      <td>0</td>\n",
       "    </tr>\n",
       "    <tr>\n",
       "      <th>27</th>\n",
       "      <td>SteelSeries</td>\n",
       "      <td>10</td>\n",
       "      <td>0</td>\n",
       "      <td>0</td>\n",
       "      <td>0</td>\n",
       "    </tr>\n",
       "    <tr>\n",
       "      <th>28</th>\n",
       "      <td>TopMate</td>\n",
       "      <td>3</td>\n",
       "      <td>0</td>\n",
       "      <td>0</td>\n",
       "      <td>0</td>\n",
       "    </tr>\n",
       "    <tr>\n",
       "      <th>29</th>\n",
       "      <td>X9 Performance</td>\n",
       "      <td>11</td>\n",
       "      <td>0</td>\n",
       "      <td>0</td>\n",
       "      <td>0</td>\n",
       "    </tr>\n",
       "  </tbody>\n",
       "</table>\n",
       "</div>"
      ],
      "text/plain": [
       "             Brand  Usb  Wireless  Bluetooth  Rf\n",
       "0          Acebaff   20         0          0   0\n",
       "1    Amazon Basics   19         0         19   0\n",
       "2           Arteck    4         3          0   0\n",
       "3           Atelus    2         0          0   0\n",
       "4             Azio    0         0          0   0\n",
       "5           Cherry   10         0          0   0\n",
       "6             EVGA    9         0          0   0\n",
       "7           FOPETT    1         0          0   0\n",
       "8           Fosmon    0         1          0   0\n",
       "9               HP    0        10          0   0\n",
       "10     HeengYanson    4         0          0   0\n",
       "11       JOYACCESS    0         0          2   0\n",
       "12       KOPJIPPOM    7         0          0   0\n",
       "13         LIZRROT    3         0          0   0\n",
       "14          Lenovo    1         0          0   0\n",
       "15        Logitech   56         0         36  11\n",
       "16       MANHATTAN    1         0          0   0\n",
       "17           MARVO   10         0          0   0\n",
       "18           MOWUX    4         0          0   0\n",
       "19         Macally    0        10         10   0\n",
       "20       Microsoft    0        10          0   0\n",
       "21           Nulea    1         0          1   0\n",
       "22          Perixx   10         0          0   0\n",
       "23          ROCCAT    0         0          0   0\n",
       "24           Razer    9         0          0   0\n",
       "25         SABLUTE   14         0          0   0\n",
       "26          Soueto    8         0          0   0\n",
       "27     SteelSeries   10         0          0   0\n",
       "28         TopMate    3         0          0   0\n",
       "29  X9 Performance   11         0          0   0"
      ]
     },
     "execution_count": 33,
     "metadata": {},
     "output_type": "execute_result"
    }
   ],
   "source": [
    "brand_connect_tech = df.groupby(\"Brand\")[[\"Usb\",\"Wireless\",\"Bluetooth\",\"Rf\"]].sum().reset_index()\n",
    "brand_connect_tech"
   ]
  },
  {
   "cell_type": "code",
   "execution_count": 34,
   "metadata": {},
   "outputs": [
    {
     "data": {
      "text/html": [
       "<div>\n",
       "<style scoped>\n",
       "    .dataframe tbody tr th:only-of-type {\n",
       "        vertical-align: middle;\n",
       "    }\n",
       "\n",
       "    .dataframe tbody tr th {\n",
       "        vertical-align: top;\n",
       "    }\n",
       "\n",
       "    .dataframe thead th {\n",
       "        text-align: right;\n",
       "    }\n",
       "</style>\n",
       "<table border=\"1\" class=\"dataframe\">\n",
       "  <thead>\n",
       "    <tr style=\"text-align: right;\">\n",
       "      <th></th>\n",
       "      <th>Category</th>\n",
       "      <th>Count</th>\n",
       "    </tr>\n",
       "  </thead>\n",
       "  <tbody>\n",
       "    <tr>\n",
       "      <th>0</th>\n",
       "      <td>Rf</td>\n",
       "      <td>11</td>\n",
       "    </tr>\n",
       "    <tr>\n",
       "      <th>1</th>\n",
       "      <td>Wireless</td>\n",
       "      <td>34</td>\n",
       "    </tr>\n",
       "    <tr>\n",
       "      <th>2</th>\n",
       "      <td>Bluetooth</td>\n",
       "      <td>68</td>\n",
       "    </tr>\n",
       "    <tr>\n",
       "      <th>3</th>\n",
       "      <td>Usb</td>\n",
       "      <td>217</td>\n",
       "    </tr>\n",
       "  </tbody>\n",
       "</table>\n",
       "</div>"
      ],
      "text/plain": [
       "    Category  Count\n",
       "0         Rf     11\n",
       "1   Wireless     34\n",
       "2  Bluetooth     68\n",
       "3        Usb    217"
      ]
     },
     "execution_count": 34,
     "metadata": {},
     "output_type": "execute_result"
    }
   ],
   "source": [
    "data_tech = df[[\"Usb\",\"Wireless\",\"Bluetooth\",\"Rf\"]].sum().reset_index()\n",
    "data_tech.columns = [\"Category\", \"Count\"]\n",
    "data_tech.sort_values(by=\"Count\",ignore_index=True)"
   ]
  },
  {
   "cell_type": "markdown",
   "metadata": {},
   "source": [
    "<b> General evaluations:\n",
    "- USB is the primary connectivity technology, and Bluetooth is the second.\n",
    "- According to the data above, the major brand Logitech also sells more products that connect via USB compared to others."
   ]
  },
  {
   "cell_type": "markdown",
   "metadata": {},
   "source": [
    "6. **Analyze Keyboard Data**\n",
    "   - **Add Layout Column**: Categorize keyboards by layout type based on key count.\n",
    "   - **Find Most Common Layout**: Identify the most frequent keyboard layout.\n",
    "   - **Sum Layouts by Brand**: Aggregate layout counts for each brand.\n",
    "   - **Identify Most Popular Color**: Determine the most frequent color.\n"
   ]
  },
  {
   "cell_type": "code",
   "execution_count": 35,
   "metadata": {},
   "outputs": [
    {
     "data": {
      "text/html": [
       "<div>\n",
       "<style scoped>\n",
       "    .dataframe tbody tr th:only-of-type {\n",
       "        vertical-align: middle;\n",
       "    }\n",
       "\n",
       "    .dataframe tbody tr th {\n",
       "        vertical-align: top;\n",
       "    }\n",
       "\n",
       "    .dataframe thead th {\n",
       "        text-align: right;\n",
       "    }\n",
       "</style>\n",
       "<table border=\"1\" class=\"dataframe\">\n",
       "  <thead>\n",
       "    <tr style=\"text-align: right;\">\n",
       "      <th></th>\n",
       "      <th>Title</th>\n",
       "      <th>Link</th>\n",
       "      <th>Brand</th>\n",
       "      <th>Price</th>\n",
       "      <th>Review</th>\n",
       "      <th>Sold</th>\n",
       "      <th>Compatible Devices</th>\n",
       "      <th>Color</th>\n",
       "      <th>Number of Keys</th>\n",
       "      <th>Connectivity Technology</th>\n",
       "      <th>Rank</th>\n",
       "      <th>Layout</th>\n",
       "    </tr>\n",
       "  </thead>\n",
       "  <tbody>\n",
       "    <tr>\n",
       "      <th>0</th>\n",
       "      <td>Computer Keyboard Wired,7-Color Rainbow LED Ba...</td>\n",
       "      <td>https://www.amazon.com/sspa/click?ie=UTF8&amp;spc=...</td>\n",
       "      <td>Acebaff</td>\n",
       "      <td>21.95000</td>\n",
       "      <td>4.3</td>\n",
       "      <td>450</td>\n",
       "      <td>Windows 11/10/8/7/XP/VISTA, Mac OS, Chrome OS...</td>\n",
       "      <td>Black</td>\n",
       "      <td>117</td>\n",
       "      <td>USB</td>\n",
       "      <td>112</td>\n",
       "      <td>Full Size</td>\n",
       "    </tr>\n",
       "    <tr>\n",
       "      <th>1</th>\n",
       "      <td>MARVO Large Print Backlit Keyboard, WK712 Wire...</td>\n",
       "      <td>https://www.amazon.com/sspa/click?ie=UTF8&amp;spc=...</td>\n",
       "      <td>MARVO</td>\n",
       "      <td>28.99000</td>\n",
       "      <td>4.5</td>\n",
       "      <td>146</td>\n",
       "      <td>Laptop, PC, Smart TV</td>\n",
       "      <td>Black</td>\n",
       "      <td>109</td>\n",
       "      <td>USB-A</td>\n",
       "      <td>277</td>\n",
       "      <td>Full Size</td>\n",
       "    </tr>\n",
       "    <tr>\n",
       "      <th>2</th>\n",
       "      <td>X9 Wired Ergonomic Keyboard with Cushioned Wri...</td>\n",
       "      <td>https://www.amazon.com/X9-Performance-Ergonomi...</td>\n",
       "      <td>X9 Performance</td>\n",
       "      <td>49.99000</td>\n",
       "      <td>4.4</td>\n",
       "      <td>1415</td>\n",
       "      <td>Laptop, PC, Lenovo, Dell, Linux, HP, Micros...</td>\n",
       "      <td>Black</td>\n",
       "      <td>110</td>\n",
       "      <td>USB-A</td>\n",
       "      <td>69</td>\n",
       "      <td>Full Size</td>\n",
       "    </tr>\n",
       "    <tr>\n",
       "      <th>3</th>\n",
       "      <td>Perixx PERIBOARD-106M, Wired Performance Full-...</td>\n",
       "      <td>https://www.amazon.com/Perixx-PERIBOARD-106M-P...</td>\n",
       "      <td>Perixx</td>\n",
       "      <td>39.99000</td>\n",
       "      <td>4.6</td>\n",
       "      <td>1442</td>\n",
       "      <td>PC</td>\n",
       "      <td>Beige</td>\n",
       "      <td>104</td>\n",
       "      <td>Wired</td>\n",
       "      <td>316</td>\n",
       "      <td>Full Size</td>\n",
       "    </tr>\n",
       "    <tr>\n",
       "      <th>4</th>\n",
       "      <td>Logitech MK120 Wired Keyboard and Mouse Combo ...</td>\n",
       "      <td>https://www.amazon.com/Logitech-Keyboard-Windo...</td>\n",
       "      <td>Logitech</td>\n",
       "      <td>49.04496</td>\n",
       "      <td>4.6</td>\n",
       "      <td>21152</td>\n",
       "      <td>Laptop, Personal Computer</td>\n",
       "      <td>Black</td>\n",
       "      <td>96</td>\n",
       "      <td>Usb</td>\n",
       "      <td>9</td>\n",
       "      <td>Tenkeyless</td>\n",
       "    </tr>\n",
       "    <tr>\n",
       "      <th>...</th>\n",
       "      <td>...</td>\n",
       "      <td>...</td>\n",
       "      <td>...</td>\n",
       "      <td>...</td>\n",
       "      <td>...</td>\n",
       "      <td>...</td>\n",
       "      <td>...</td>\n",
       "      <td>...</td>\n",
       "      <td>...</td>\n",
       "      <td>...</td>\n",
       "      <td>...</td>\n",
       "      <td>...</td>\n",
       "    </tr>\n",
       "    <tr>\n",
       "      <th>306</th>\n",
       "      <td>Logitech K350 Keyboard - Wireless Connectivity...</td>\n",
       "      <td>https://www.amazon.com/Logitech-K350-Keyboard-...</td>\n",
       "      <td>Logitech</td>\n",
       "      <td>75.19000</td>\n",
       "      <td>4.4</td>\n",
       "      <td>958</td>\n",
       "      <td>PC</td>\n",
       "      <td>Black</td>\n",
       "      <td>17</td>\n",
       "      <td>RF, USB</td>\n",
       "      <td>320</td>\n",
       "      <td>40%</td>\n",
       "    </tr>\n",
       "    <tr>\n",
       "      <th>307</th>\n",
       "      <td>Arteck Split Ergonomic Keyboard with Cushioned...</td>\n",
       "      <td>https://www.amazon.com/Arteck-Ergonomic-Keyboa...</td>\n",
       "      <td>Arteck</td>\n",
       "      <td>54.99000</td>\n",
       "      <td>4.4</td>\n",
       "      <td>791</td>\n",
       "      <td>Computers, Laptop, PC, Desktop</td>\n",
       "      <td>Black</td>\n",
       "      <td>102</td>\n",
       "      <td>USB Wireless</td>\n",
       "      <td>62</td>\n",
       "      <td>Tenkeyless</td>\n",
       "    </tr>\n",
       "    <tr>\n",
       "      <th>308</th>\n",
       "      <td>Gaming Keyboard with Large Print Keys, 7-Color...</td>\n",
       "      <td>https://www.amazon.com/sspa/click?ie=UTF8&amp;spc=...</td>\n",
       "      <td>Acebaff</td>\n",
       "      <td>20.99000</td>\n",
       "      <td>4.3</td>\n",
       "      <td>277</td>\n",
       "      <td>Windows 11/10/8/7/XP/VISTA, Mac OS, Chrome OS...</td>\n",
       "      <td>Black</td>\n",
       "      <td>104</td>\n",
       "      <td>USB</td>\n",
       "      <td>1497</td>\n",
       "      <td>Full Size</td>\n",
       "    </tr>\n",
       "    <tr>\n",
       "      <th>309</th>\n",
       "      <td>RGB Wireless Keyboard with 7-Color Backlit, Co...</td>\n",
       "      <td>https://www.amazon.com/sspa/click?ie=UTF8&amp;spc=...</td>\n",
       "      <td>Soueto</td>\n",
       "      <td>39.99000</td>\n",
       "      <td>5.0</td>\n",
       "      <td>1</td>\n",
       "      <td>Laptop, Gaming Console, PC, Smart TV</td>\n",
       "      <td>Black</td>\n",
       "      <td>102</td>\n",
       "      <td>USB-A, USB-C</td>\n",
       "      <td>540</td>\n",
       "      <td>Tenkeyless</td>\n",
       "    </tr>\n",
       "    <tr>\n",
       "      <th>310</th>\n",
       "      <td>Large Print Backlit Keyboard, Quiet USB Wired ...</td>\n",
       "      <td>https://aax-us-iad.amazon.com/x/c/JO4KuC1d4H7_...</td>\n",
       "      <td>KOPJIPPOM</td>\n",
       "      <td>28.99000</td>\n",
       "      <td>4.5</td>\n",
       "      <td>2419</td>\n",
       "      <td>PC</td>\n",
       "      <td>black</td>\n",
       "      <td>104</td>\n",
       "      <td>USB, USB-A</td>\n",
       "      <td>26</td>\n",
       "      <td>Full Size</td>\n",
       "    </tr>\n",
       "  </tbody>\n",
       "</table>\n",
       "<p>310 rows × 12 columns</p>\n",
       "</div>"
      ],
      "text/plain": [
       "                                                 Title  \\\n",
       "0    Computer Keyboard Wired,7-Color Rainbow LED Ba...   \n",
       "1    MARVO Large Print Backlit Keyboard, WK712 Wire...   \n",
       "2    X9 Wired Ergonomic Keyboard with Cushioned Wri...   \n",
       "3    Perixx PERIBOARD-106M, Wired Performance Full-...   \n",
       "4    Logitech MK120 Wired Keyboard and Mouse Combo ...   \n",
       "..                                                 ...   \n",
       "306  Logitech K350 Keyboard - Wireless Connectivity...   \n",
       "307  Arteck Split Ergonomic Keyboard with Cushioned...   \n",
       "308  Gaming Keyboard with Large Print Keys, 7-Color...   \n",
       "309  RGB Wireless Keyboard with 7-Color Backlit, Co...   \n",
       "310  Large Print Backlit Keyboard, Quiet USB Wired ...   \n",
       "\n",
       "                                                  Link           Brand  \\\n",
       "0    https://www.amazon.com/sspa/click?ie=UTF8&spc=...         Acebaff   \n",
       "1    https://www.amazon.com/sspa/click?ie=UTF8&spc=...           MARVO   \n",
       "2    https://www.amazon.com/X9-Performance-Ergonomi...  X9 Performance   \n",
       "3    https://www.amazon.com/Perixx-PERIBOARD-106M-P...          Perixx   \n",
       "4    https://www.amazon.com/Logitech-Keyboard-Windo...        Logitech   \n",
       "..                                                 ...             ...   \n",
       "306  https://www.amazon.com/Logitech-K350-Keyboard-...        Logitech   \n",
       "307  https://www.amazon.com/Arteck-Ergonomic-Keyboa...          Arteck   \n",
       "308  https://www.amazon.com/sspa/click?ie=UTF8&spc=...         Acebaff   \n",
       "309  https://www.amazon.com/sspa/click?ie=UTF8&spc=...          Soueto   \n",
       "310  https://aax-us-iad.amazon.com/x/c/JO4KuC1d4H7_...       KOPJIPPOM   \n",
       "\n",
       "        Price  Review   Sold  \\\n",
       "0    21.95000     4.3    450   \n",
       "1    28.99000     4.5    146   \n",
       "2    49.99000     4.4   1415   \n",
       "3    39.99000     4.6   1442   \n",
       "4    49.04496     4.6  21152   \n",
       "..        ...     ...    ...   \n",
       "306  75.19000     4.4    958   \n",
       "307  54.99000     4.4    791   \n",
       "308  20.99000     4.3    277   \n",
       "309  39.99000     5.0      1   \n",
       "310  28.99000     4.5   2419   \n",
       "\n",
       "                                    Compatible Devices    Color  \\\n",
       "0     Windows 11/10/8/7/XP/VISTA, Mac OS, Chrome OS...   Black    \n",
       "1                                Laptop, PC, Smart TV    Black    \n",
       "2       Laptop, PC, Lenovo, Dell, Linux, HP, Micros...   Black    \n",
       "3                                                  PC    Beige    \n",
       "4                           Laptop, Personal Computer    Black    \n",
       "..                                                 ...      ...   \n",
       "306                                                PC    Black    \n",
       "307                    Computers, Laptop, PC, Desktop    Black    \n",
       "308   Windows 11/10/8/7/XP/VISTA, Mac OS, Chrome OS...   Black    \n",
       "309              Laptop, Gaming Console, PC, Smart TV    Black    \n",
       "310                                                PC    black    \n",
       "\n",
       "     Number of Keys Connectivity Technology  Rank      Layout  \n",
       "0               117                    USB    112   Full Size  \n",
       "1               109                  USB-A    277   Full Size  \n",
       "2               110                  USB-A     69   Full Size  \n",
       "3               104                  Wired    316   Full Size  \n",
       "4                96                    Usb      9  Tenkeyless  \n",
       "..              ...                     ...   ...         ...  \n",
       "306              17                RF, USB    320         40%  \n",
       "307             102           USB Wireless     62  Tenkeyless  \n",
       "308             104                    USB   1497   Full Size  \n",
       "309             102           USB-A, USB-C    540  Tenkeyless  \n",
       "310             104             USB, USB-A     26   Full Size  \n",
       "\n",
       "[310 rows x 12 columns]"
      ]
     },
     "execution_count": 35,
     "metadata": {},
     "output_type": "execute_result"
    }
   ],
   "source": [
    "def keyboard_layout(keyboard_num):\n",
    "    layout = \"\"\n",
    "    if keyboard_num >= 104:\n",
    "        layout += \"Full Size\"\n",
    "    elif keyboard_num >= 87:\n",
    "        layout += \"Tenkeyless\"\n",
    "    elif keyboard_num >= 84:\n",
    "        layout += \"75%\"\n",
    "    elif keyboard_num >= 64:\n",
    "        layout += \"60%\"\n",
    "    else:\n",
    "        layout += \"40%\"\n",
    "    return layout\n",
    "\n",
    "data[\"Layout\"] = data[\"Number of Keys\"].apply(keyboard_layout)\n",
    "data"
   ]
  },
  {
   "cell_type": "code",
   "execution_count": 36,
   "metadata": {},
   "outputs": [
    {
     "data": {
      "text/html": [
       "<div>\n",
       "<style scoped>\n",
       "    .dataframe tbody tr th:only-of-type {\n",
       "        vertical-align: middle;\n",
       "    }\n",
       "\n",
       "    .dataframe tbody tr th {\n",
       "        vertical-align: top;\n",
       "    }\n",
       "\n",
       "    .dataframe thead th {\n",
       "        text-align: right;\n",
       "    }\n",
       "</style>\n",
       "<table border=\"1\" class=\"dataframe\">\n",
       "  <thead>\n",
       "    <tr style=\"text-align: right;\">\n",
       "      <th></th>\n",
       "      <th>Brand</th>\n",
       "      <th>Layout</th>\n",
       "      <th>Color</th>\n",
       "      <th>Price</th>\n",
       "      <th>Rank</th>\n",
       "      <th>Sold</th>\n",
       "    </tr>\n",
       "  </thead>\n",
       "  <tbody>\n",
       "    <tr>\n",
       "      <th>0</th>\n",
       "      <td>Acebaff</td>\n",
       "      <td>Full Size</td>\n",
       "      <td>Black</td>\n",
       "      <td>21.95000</td>\n",
       "      <td>112</td>\n",
       "      <td>450</td>\n",
       "    </tr>\n",
       "    <tr>\n",
       "      <th>1</th>\n",
       "      <td>MARVO</td>\n",
       "      <td>Full Size</td>\n",
       "      <td>Black</td>\n",
       "      <td>28.99000</td>\n",
       "      <td>277</td>\n",
       "      <td>146</td>\n",
       "    </tr>\n",
       "    <tr>\n",
       "      <th>2</th>\n",
       "      <td>X9 Performance</td>\n",
       "      <td>Full Size</td>\n",
       "      <td>Black</td>\n",
       "      <td>49.99000</td>\n",
       "      <td>69</td>\n",
       "      <td>1415</td>\n",
       "    </tr>\n",
       "    <tr>\n",
       "      <th>3</th>\n",
       "      <td>Perixx</td>\n",
       "      <td>Full Size</td>\n",
       "      <td>Beige</td>\n",
       "      <td>39.99000</td>\n",
       "      <td>316</td>\n",
       "      <td>1442</td>\n",
       "    </tr>\n",
       "    <tr>\n",
       "      <th>4</th>\n",
       "      <td>Logitech</td>\n",
       "      <td>Tenkeyless</td>\n",
       "      <td>Black</td>\n",
       "      <td>49.04496</td>\n",
       "      <td>9</td>\n",
       "      <td>21152</td>\n",
       "    </tr>\n",
       "    <tr>\n",
       "      <th>...</th>\n",
       "      <td>...</td>\n",
       "      <td>...</td>\n",
       "      <td>...</td>\n",
       "      <td>...</td>\n",
       "      <td>...</td>\n",
       "      <td>...</td>\n",
       "    </tr>\n",
       "    <tr>\n",
       "      <th>306</th>\n",
       "      <td>Logitech</td>\n",
       "      <td>40%</td>\n",
       "      <td>Black</td>\n",
       "      <td>75.19000</td>\n",
       "      <td>320</td>\n",
       "      <td>958</td>\n",
       "    </tr>\n",
       "    <tr>\n",
       "      <th>307</th>\n",
       "      <td>Arteck</td>\n",
       "      <td>Tenkeyless</td>\n",
       "      <td>Black</td>\n",
       "      <td>54.99000</td>\n",
       "      <td>62</td>\n",
       "      <td>791</td>\n",
       "    </tr>\n",
       "    <tr>\n",
       "      <th>308</th>\n",
       "      <td>Acebaff</td>\n",
       "      <td>Full Size</td>\n",
       "      <td>Black</td>\n",
       "      <td>20.99000</td>\n",
       "      <td>1497</td>\n",
       "      <td>277</td>\n",
       "    </tr>\n",
       "    <tr>\n",
       "      <th>309</th>\n",
       "      <td>Soueto</td>\n",
       "      <td>Tenkeyless</td>\n",
       "      <td>Black</td>\n",
       "      <td>39.99000</td>\n",
       "      <td>540</td>\n",
       "      <td>1</td>\n",
       "    </tr>\n",
       "    <tr>\n",
       "      <th>310</th>\n",
       "      <td>KOPJIPPOM</td>\n",
       "      <td>Full Size</td>\n",
       "      <td>black</td>\n",
       "      <td>28.99000</td>\n",
       "      <td>26</td>\n",
       "      <td>2419</td>\n",
       "    </tr>\n",
       "  </tbody>\n",
       "</table>\n",
       "<p>310 rows × 6 columns</p>\n",
       "</div>"
      ],
      "text/plain": [
       "              Brand      Layout    Color     Price  Rank   Sold\n",
       "0           Acebaff   Full Size   Black   21.95000   112    450\n",
       "1             MARVO   Full Size   Black   28.99000   277    146\n",
       "2    X9 Performance   Full Size   Black   49.99000    69   1415\n",
       "3            Perixx   Full Size   Beige   39.99000   316   1442\n",
       "4          Logitech  Tenkeyless   Black   49.04496     9  21152\n",
       "..              ...         ...      ...       ...   ...    ...\n",
       "306        Logitech         40%   Black   75.19000   320    958\n",
       "307          Arteck  Tenkeyless   Black   54.99000    62    791\n",
       "308         Acebaff   Full Size   Black   20.99000  1497    277\n",
       "309          Soueto  Tenkeyless   Black   39.99000   540      1\n",
       "310       KOPJIPPOM   Full Size   black   28.99000    26   2419\n",
       "\n",
       "[310 rows x 6 columns]"
      ]
     },
     "execution_count": 36,
     "metadata": {},
     "output_type": "execute_result"
    }
   ],
   "source": [
    "layout_data = data[[\"Brand\",\"Layout\",\"Color\",\"Price\",\"Rank\",\"Sold\"]]\n",
    "layout_data"
   ]
  },
  {
   "cell_type": "code",
   "execution_count": 37,
   "metadata": {},
   "outputs": [
    {
     "data": {
      "application/vnd.plotly.v1+json": {
       "config": {
        "plotlyServerURL": "https://plot.ly"
       },
       "data": [
        {
         "domain": {
          "x": [
           0,
           1
          ],
          "y": [
           0,
           1
          ]
         },
         "hovertemplate": "Layout=%{label}<extra></extra>",
         "labels": [
          "Full Size",
          "Full Size",
          "Full Size",
          "Full Size",
          "Tenkeyless",
          "40%",
          "Full Size",
          "Full Size",
          "Tenkeyless",
          "Full Size",
          "Full Size",
          "Full Size",
          "Tenkeyless",
          "60%",
          "Full Size",
          "Full Size",
          "60%",
          "Full Size",
          "Full Size",
          "40%",
          "Full Size",
          "Full Size",
          "Full Size",
          "Tenkeyless",
          "40%",
          "Full Size",
          "Full Size",
          "Full Size",
          "Full Size",
          "Full Size",
          "Full Size",
          "Full Size",
          "Full Size",
          "Full Size",
          "Full Size",
          "Tenkeyless",
          "40%",
          "Tenkeyless",
          "Full Size",
          "Full Size",
          "Full Size",
          "60%",
          "Full Size",
          "Full Size",
          "Tenkeyless",
          "Full Size",
          "Full Size",
          "60%",
          "Full Size",
          "Full Size",
          "Full Size",
          "40%",
          "Full Size",
          "Full Size",
          "Full Size",
          "Full Size",
          "40%",
          "Full Size",
          "Tenkeyless",
          "Full Size",
          "Full Size",
          "Tenkeyless",
          "Full Size",
          "Full Size",
          "Full Size",
          "Full Size",
          "Full Size",
          "Tenkeyless",
          "40%",
          "Tenkeyless",
          "Full Size",
          "Full Size",
          "Full Size",
          "Full Size",
          "60%",
          "60%",
          "Full Size",
          "Tenkeyless",
          "Tenkeyless",
          "Full Size",
          "Full Size",
          "Full Size",
          "Full Size",
          "Full Size",
          "Full Size",
          "40%",
          "Full Size",
          "Full Size",
          "Full Size",
          "40%",
          "Full Size",
          "Full Size",
          "Tenkeyless",
          "Full Size",
          "Full Size",
          "Full Size",
          "Full Size",
          "Tenkeyless",
          "40%",
          "Full Size",
          "Full Size",
          "Tenkeyless",
          "Full Size",
          "Full Size",
          "Tenkeyless",
          "60%",
          "60%",
          "Full Size",
          "Full Size",
          "Full Size",
          "Full Size",
          "Full Size",
          "Tenkeyless",
          "40%",
          "Full Size",
          "Full Size",
          "Full Size",
          "Full Size",
          "Full Size",
          "Full Size",
          "40%",
          "Full Size",
          "Full Size",
          "Full Size",
          "Full Size",
          "Full Size",
          "Full Size",
          "Full Size",
          "Tenkeyless",
          "Full Size",
          "Full Size",
          "40%",
          "Full Size",
          "Full Size",
          "40%",
          "Tenkeyless",
          "Tenkeyless",
          "Full Size",
          "Full Size",
          "Full Size",
          "Full Size",
          "Tenkeyless",
          "Full Size",
          "Full Size",
          "Full Size",
          "75%",
          "60%",
          "Full Size",
          "Full Size",
          "Full Size",
          "40%",
          "Full Size",
          "Full Size",
          "Tenkeyless",
          "Full Size",
          "Full Size",
          "Full Size",
          "Full Size",
          "Full Size",
          "Full Size",
          "Tenkeyless",
          "40%",
          "Tenkeyless",
          "Full Size",
          "Full Size",
          "Full Size",
          "Full Size",
          "60%",
          "60%",
          "Full Size",
          "Full Size",
          "Tenkeyless",
          "Full Size",
          "Full Size",
          "Full Size",
          "Full Size",
          "Full Size",
          "40%",
          "Full Size",
          "Full Size",
          "Full Size",
          "Full Size",
          "40%",
          "Full Size",
          "Tenkeyless",
          "Full Size",
          "Full Size",
          "Full Size",
          "Full Size",
          "Full Size",
          "Full Size",
          "Tenkeyless",
          "40%",
          "Full Size",
          "Full Size",
          "Full Size",
          "Tenkeyless",
          "Full Size",
          "60%",
          "60%",
          "Full Size",
          "Full Size",
          "Tenkeyless",
          "Full Size",
          "Full Size",
          "Full Size",
          "Full Size",
          "Full Size",
          "40%",
          "Full Size",
          "Full Size",
          "Full Size",
          "Full Size",
          "40%",
          "Full Size",
          "Full Size",
          "Tenkeyless",
          "Full Size",
          "Full Size",
          "Full Size",
          "Full Size",
          "Full Size",
          "Tenkeyless",
          "40%",
          "Tenkeyless",
          "Full Size",
          "Full Size",
          "Full Size",
          "Full Size",
          "60%",
          "60%",
          "Tenkeyless",
          "Full Size",
          "Tenkeyless",
          "Full Size",
          "Full Size",
          "Full Size",
          "Full Size",
          "Full Size",
          "40%",
          "Full Size",
          "Full Size",
          "Full Size",
          "Full Size",
          "40%",
          "Full Size",
          "Full Size",
          "Full Size",
          "Full Size",
          "Full Size",
          "Full Size",
          "Full Size",
          "Full Size",
          "Tenkeyless",
          "40%",
          "Tenkeyless",
          "Full Size",
          "Full Size",
          "Full Size",
          "60%",
          "Full Size",
          "60%",
          "Full Size",
          "Full Size",
          "Tenkeyless",
          "Full Size",
          "Full Size",
          "Full Size",
          "Full Size",
          "Full Size",
          "40%",
          "Full Size",
          "Full Size",
          "Full Size",
          "40%",
          "Full Size",
          "Full Size",
          "Full Size",
          "Full Size",
          "Full Size",
          "Full Size",
          "Full Size",
          "Full Size",
          "Full Size",
          "Tenkeyless",
          "40%",
          "Full Size",
          "Full Size",
          "Full Size",
          "Tenkeyless",
          "60%",
          "Full Size",
          "60%",
          "Full Size",
          "Full Size",
          "Tenkeyless",
          "Full Size",
          "Full Size",
          "Full Size",
          "Full Size",
          "40%",
          "Full Size",
          "Full Size",
          "Full Size",
          "Full Size",
          "40%",
          "Tenkeyless",
          "Full Size",
          "Tenkeyless",
          "Full Size"
         ],
         "legendgroup": "",
         "name": "",
         "showlegend": true,
         "type": "pie"
        }
       ],
       "layout": {
        "legend": {
         "tracegroupgap": 0
        },
        "template": {
         "data": {
          "bar": [
           {
            "error_x": {
             "color": "#2a3f5f"
            },
            "error_y": {
             "color": "#2a3f5f"
            },
            "marker": {
             "line": {
              "color": "#E5ECF6",
              "width": 0.5
             },
             "pattern": {
              "fillmode": "overlay",
              "size": 10,
              "solidity": 0.2
             }
            },
            "type": "bar"
           }
          ],
          "barpolar": [
           {
            "marker": {
             "line": {
              "color": "#E5ECF6",
              "width": 0.5
             },
             "pattern": {
              "fillmode": "overlay",
              "size": 10,
              "solidity": 0.2
             }
            },
            "type": "barpolar"
           }
          ],
          "carpet": [
           {
            "aaxis": {
             "endlinecolor": "#2a3f5f",
             "gridcolor": "white",
             "linecolor": "white",
             "minorgridcolor": "white",
             "startlinecolor": "#2a3f5f"
            },
            "baxis": {
             "endlinecolor": "#2a3f5f",
             "gridcolor": "white",
             "linecolor": "white",
             "minorgridcolor": "white",
             "startlinecolor": "#2a3f5f"
            },
            "type": "carpet"
           }
          ],
          "choropleth": [
           {
            "colorbar": {
             "outlinewidth": 0,
             "ticks": ""
            },
            "type": "choropleth"
           }
          ],
          "contour": [
           {
            "colorbar": {
             "outlinewidth": 0,
             "ticks": ""
            },
            "colorscale": [
             [
              0,
              "#0d0887"
             ],
             [
              0.1111111111111111,
              "#46039f"
             ],
             [
              0.2222222222222222,
              "#7201a8"
             ],
             [
              0.3333333333333333,
              "#9c179e"
             ],
             [
              0.4444444444444444,
              "#bd3786"
             ],
             [
              0.5555555555555556,
              "#d8576b"
             ],
             [
              0.6666666666666666,
              "#ed7953"
             ],
             [
              0.7777777777777778,
              "#fb9f3a"
             ],
             [
              0.8888888888888888,
              "#fdca26"
             ],
             [
              1,
              "#f0f921"
             ]
            ],
            "type": "contour"
           }
          ],
          "contourcarpet": [
           {
            "colorbar": {
             "outlinewidth": 0,
             "ticks": ""
            },
            "type": "contourcarpet"
           }
          ],
          "heatmap": [
           {
            "colorbar": {
             "outlinewidth": 0,
             "ticks": ""
            },
            "colorscale": [
             [
              0,
              "#0d0887"
             ],
             [
              0.1111111111111111,
              "#46039f"
             ],
             [
              0.2222222222222222,
              "#7201a8"
             ],
             [
              0.3333333333333333,
              "#9c179e"
             ],
             [
              0.4444444444444444,
              "#bd3786"
             ],
             [
              0.5555555555555556,
              "#d8576b"
             ],
             [
              0.6666666666666666,
              "#ed7953"
             ],
             [
              0.7777777777777778,
              "#fb9f3a"
             ],
             [
              0.8888888888888888,
              "#fdca26"
             ],
             [
              1,
              "#f0f921"
             ]
            ],
            "type": "heatmap"
           }
          ],
          "heatmapgl": [
           {
            "colorbar": {
             "outlinewidth": 0,
             "ticks": ""
            },
            "colorscale": [
             [
              0,
              "#0d0887"
             ],
             [
              0.1111111111111111,
              "#46039f"
             ],
             [
              0.2222222222222222,
              "#7201a8"
             ],
             [
              0.3333333333333333,
              "#9c179e"
             ],
             [
              0.4444444444444444,
              "#bd3786"
             ],
             [
              0.5555555555555556,
              "#d8576b"
             ],
             [
              0.6666666666666666,
              "#ed7953"
             ],
             [
              0.7777777777777778,
              "#fb9f3a"
             ],
             [
              0.8888888888888888,
              "#fdca26"
             ],
             [
              1,
              "#f0f921"
             ]
            ],
            "type": "heatmapgl"
           }
          ],
          "histogram": [
           {
            "marker": {
             "pattern": {
              "fillmode": "overlay",
              "size": 10,
              "solidity": 0.2
             }
            },
            "type": "histogram"
           }
          ],
          "histogram2d": [
           {
            "colorbar": {
             "outlinewidth": 0,
             "ticks": ""
            },
            "colorscale": [
             [
              0,
              "#0d0887"
             ],
             [
              0.1111111111111111,
              "#46039f"
             ],
             [
              0.2222222222222222,
              "#7201a8"
             ],
             [
              0.3333333333333333,
              "#9c179e"
             ],
             [
              0.4444444444444444,
              "#bd3786"
             ],
             [
              0.5555555555555556,
              "#d8576b"
             ],
             [
              0.6666666666666666,
              "#ed7953"
             ],
             [
              0.7777777777777778,
              "#fb9f3a"
             ],
             [
              0.8888888888888888,
              "#fdca26"
             ],
             [
              1,
              "#f0f921"
             ]
            ],
            "type": "histogram2d"
           }
          ],
          "histogram2dcontour": [
           {
            "colorbar": {
             "outlinewidth": 0,
             "ticks": ""
            },
            "colorscale": [
             [
              0,
              "#0d0887"
             ],
             [
              0.1111111111111111,
              "#46039f"
             ],
             [
              0.2222222222222222,
              "#7201a8"
             ],
             [
              0.3333333333333333,
              "#9c179e"
             ],
             [
              0.4444444444444444,
              "#bd3786"
             ],
             [
              0.5555555555555556,
              "#d8576b"
             ],
             [
              0.6666666666666666,
              "#ed7953"
             ],
             [
              0.7777777777777778,
              "#fb9f3a"
             ],
             [
              0.8888888888888888,
              "#fdca26"
             ],
             [
              1,
              "#f0f921"
             ]
            ],
            "type": "histogram2dcontour"
           }
          ],
          "mesh3d": [
           {
            "colorbar": {
             "outlinewidth": 0,
             "ticks": ""
            },
            "type": "mesh3d"
           }
          ],
          "parcoords": [
           {
            "line": {
             "colorbar": {
              "outlinewidth": 0,
              "ticks": ""
             }
            },
            "type": "parcoords"
           }
          ],
          "pie": [
           {
            "automargin": true,
            "type": "pie"
           }
          ],
          "scatter": [
           {
            "fillpattern": {
             "fillmode": "overlay",
             "size": 10,
             "solidity": 0.2
            },
            "type": "scatter"
           }
          ],
          "scatter3d": [
           {
            "line": {
             "colorbar": {
              "outlinewidth": 0,
              "ticks": ""
             }
            },
            "marker": {
             "colorbar": {
              "outlinewidth": 0,
              "ticks": ""
             }
            },
            "type": "scatter3d"
           }
          ],
          "scattercarpet": [
           {
            "marker": {
             "colorbar": {
              "outlinewidth": 0,
              "ticks": ""
             }
            },
            "type": "scattercarpet"
           }
          ],
          "scattergeo": [
           {
            "marker": {
             "colorbar": {
              "outlinewidth": 0,
              "ticks": ""
             }
            },
            "type": "scattergeo"
           }
          ],
          "scattergl": [
           {
            "marker": {
             "colorbar": {
              "outlinewidth": 0,
              "ticks": ""
             }
            },
            "type": "scattergl"
           }
          ],
          "scattermapbox": [
           {
            "marker": {
             "colorbar": {
              "outlinewidth": 0,
              "ticks": ""
             }
            },
            "type": "scattermapbox"
           }
          ],
          "scatterpolar": [
           {
            "marker": {
             "colorbar": {
              "outlinewidth": 0,
              "ticks": ""
             }
            },
            "type": "scatterpolar"
           }
          ],
          "scatterpolargl": [
           {
            "marker": {
             "colorbar": {
              "outlinewidth": 0,
              "ticks": ""
             }
            },
            "type": "scatterpolargl"
           }
          ],
          "scatterternary": [
           {
            "marker": {
             "colorbar": {
              "outlinewidth": 0,
              "ticks": ""
             }
            },
            "type": "scatterternary"
           }
          ],
          "surface": [
           {
            "colorbar": {
             "outlinewidth": 0,
             "ticks": ""
            },
            "colorscale": [
             [
              0,
              "#0d0887"
             ],
             [
              0.1111111111111111,
              "#46039f"
             ],
             [
              0.2222222222222222,
              "#7201a8"
             ],
             [
              0.3333333333333333,
              "#9c179e"
             ],
             [
              0.4444444444444444,
              "#bd3786"
             ],
             [
              0.5555555555555556,
              "#d8576b"
             ],
             [
              0.6666666666666666,
              "#ed7953"
             ],
             [
              0.7777777777777778,
              "#fb9f3a"
             ],
             [
              0.8888888888888888,
              "#fdca26"
             ],
             [
              1,
              "#f0f921"
             ]
            ],
            "type": "surface"
           }
          ],
          "table": [
           {
            "cells": {
             "fill": {
              "color": "#EBF0F8"
             },
             "line": {
              "color": "white"
             }
            },
            "header": {
             "fill": {
              "color": "#C8D4E3"
             },
             "line": {
              "color": "white"
             }
            },
            "type": "table"
           }
          ]
         },
         "layout": {
          "annotationdefaults": {
           "arrowcolor": "#2a3f5f",
           "arrowhead": 0,
           "arrowwidth": 1
          },
          "autotypenumbers": "strict",
          "coloraxis": {
           "colorbar": {
            "outlinewidth": 0,
            "ticks": ""
           }
          },
          "colorscale": {
           "diverging": [
            [
             0,
             "#8e0152"
            ],
            [
             0.1,
             "#c51b7d"
            ],
            [
             0.2,
             "#de77ae"
            ],
            [
             0.3,
             "#f1b6da"
            ],
            [
             0.4,
             "#fde0ef"
            ],
            [
             0.5,
             "#f7f7f7"
            ],
            [
             0.6,
             "#e6f5d0"
            ],
            [
             0.7,
             "#b8e186"
            ],
            [
             0.8,
             "#7fbc41"
            ],
            [
             0.9,
             "#4d9221"
            ],
            [
             1,
             "#276419"
            ]
           ],
           "sequential": [
            [
             0,
             "#0d0887"
            ],
            [
             0.1111111111111111,
             "#46039f"
            ],
            [
             0.2222222222222222,
             "#7201a8"
            ],
            [
             0.3333333333333333,
             "#9c179e"
            ],
            [
             0.4444444444444444,
             "#bd3786"
            ],
            [
             0.5555555555555556,
             "#d8576b"
            ],
            [
             0.6666666666666666,
             "#ed7953"
            ],
            [
             0.7777777777777778,
             "#fb9f3a"
            ],
            [
             0.8888888888888888,
             "#fdca26"
            ],
            [
             1,
             "#f0f921"
            ]
           ],
           "sequentialminus": [
            [
             0,
             "#0d0887"
            ],
            [
             0.1111111111111111,
             "#46039f"
            ],
            [
             0.2222222222222222,
             "#7201a8"
            ],
            [
             0.3333333333333333,
             "#9c179e"
            ],
            [
             0.4444444444444444,
             "#bd3786"
            ],
            [
             0.5555555555555556,
             "#d8576b"
            ],
            [
             0.6666666666666666,
             "#ed7953"
            ],
            [
             0.7777777777777778,
             "#fb9f3a"
            ],
            [
             0.8888888888888888,
             "#fdca26"
            ],
            [
             1,
             "#f0f921"
            ]
           ]
          },
          "colorway": [
           "#636efa",
           "#EF553B",
           "#00cc96",
           "#ab63fa",
           "#FFA15A",
           "#19d3f3",
           "#FF6692",
           "#B6E880",
           "#FF97FF",
           "#FECB52"
          ],
          "font": {
           "color": "#2a3f5f"
          },
          "geo": {
           "bgcolor": "white",
           "lakecolor": "white",
           "landcolor": "#E5ECF6",
           "showlakes": true,
           "showland": true,
           "subunitcolor": "white"
          },
          "hoverlabel": {
           "align": "left"
          },
          "hovermode": "closest",
          "mapbox": {
           "style": "light"
          },
          "paper_bgcolor": "white",
          "plot_bgcolor": "#E5ECF6",
          "polar": {
           "angularaxis": {
            "gridcolor": "white",
            "linecolor": "white",
            "ticks": ""
           },
           "bgcolor": "#E5ECF6",
           "radialaxis": {
            "gridcolor": "white",
            "linecolor": "white",
            "ticks": ""
           }
          },
          "scene": {
           "xaxis": {
            "backgroundcolor": "#E5ECF6",
            "gridcolor": "white",
            "gridwidth": 2,
            "linecolor": "white",
            "showbackground": true,
            "ticks": "",
            "zerolinecolor": "white"
           },
           "yaxis": {
            "backgroundcolor": "#E5ECF6",
            "gridcolor": "white",
            "gridwidth": 2,
            "linecolor": "white",
            "showbackground": true,
            "ticks": "",
            "zerolinecolor": "white"
           },
           "zaxis": {
            "backgroundcolor": "#E5ECF6",
            "gridcolor": "white",
            "gridwidth": 2,
            "linecolor": "white",
            "showbackground": true,
            "ticks": "",
            "zerolinecolor": "white"
           }
          },
          "shapedefaults": {
           "line": {
            "color": "#2a3f5f"
           }
          },
          "ternary": {
           "aaxis": {
            "gridcolor": "white",
            "linecolor": "white",
            "ticks": ""
           },
           "baxis": {
            "gridcolor": "white",
            "linecolor": "white",
            "ticks": ""
           },
           "bgcolor": "#E5ECF6",
           "caxis": {
            "gridcolor": "white",
            "linecolor": "white",
            "ticks": ""
           }
          },
          "title": {
           "x": 0.05
          },
          "xaxis": {
           "automargin": true,
           "gridcolor": "white",
           "linecolor": "white",
           "ticks": "",
           "title": {
            "standoff": 15
           },
           "zerolinecolor": "white",
           "zerolinewidth": 2
          },
          "yaxis": {
           "automargin": true,
           "gridcolor": "white",
           "linecolor": "white",
           "ticks": "",
           "title": {
            "standoff": 15
           },
           "zerolinecolor": "white",
           "zerolinewidth": 2
          }
         }
        },
        "title": {
         "text": "Distribution of Layout Categories"
        }
       }
      }
     },
     "metadata": {},
     "output_type": "display_data"
    }
   ],
   "source": [
    "# layout_distribution = layout_data.Layout.value_counts().reset_index()\n",
    "\n",
    "fig = px.pie(data_frame=layout_data,names=\"Layout\",title=\"Distribution of Layout Categories\")\n",
    "fig.show()\n"
   ]
  },
  {
   "cell_type": "code",
   "execution_count": 38,
   "metadata": {},
   "outputs": [
    {
     "data": {
      "text/html": [
       "<div>\n",
       "<style scoped>\n",
       "    .dataframe tbody tr th:only-of-type {\n",
       "        vertical-align: middle;\n",
       "    }\n",
       "\n",
       "    .dataframe tbody tr th {\n",
       "        vertical-align: top;\n",
       "    }\n",
       "\n",
       "    .dataframe thead th {\n",
       "        text-align: right;\n",
       "    }\n",
       "</style>\n",
       "<table border=\"1\" class=\"dataframe\">\n",
       "  <thead>\n",
       "    <tr style=\"text-align: right;\">\n",
       "      <th>Layout</th>\n",
       "      <th>40%</th>\n",
       "      <th>60%</th>\n",
       "      <th>75%</th>\n",
       "      <th>Full Size</th>\n",
       "      <th>Tenkeyless</th>\n",
       "      <th>Total</th>\n",
       "    </tr>\n",
       "    <tr>\n",
       "      <th>Brand</th>\n",
       "      <th></th>\n",
       "      <th></th>\n",
       "      <th></th>\n",
       "      <th></th>\n",
       "      <th></th>\n",
       "      <th></th>\n",
       "    </tr>\n",
       "  </thead>\n",
       "  <tbody>\n",
       "    <tr>\n",
       "      <th>Acebaff</th>\n",
       "      <td>0</td>\n",
       "      <td>0</td>\n",
       "      <td>0</td>\n",
       "      <td>20</td>\n",
       "      <td>0</td>\n",
       "      <td>20</td>\n",
       "    </tr>\n",
       "    <tr>\n",
       "      <th>Amazon Basics</th>\n",
       "      <td>0</td>\n",
       "      <td>0</td>\n",
       "      <td>0</td>\n",
       "      <td>9</td>\n",
       "      <td>10</td>\n",
       "      <td>19</td>\n",
       "    </tr>\n",
       "    <tr>\n",
       "      <th>Arteck</th>\n",
       "      <td>0</td>\n",
       "      <td>0</td>\n",
       "      <td>0</td>\n",
       "      <td>1</td>\n",
       "      <td>3</td>\n",
       "      <td>4</td>\n",
       "    </tr>\n",
       "    <tr>\n",
       "      <th>Atelus</th>\n",
       "      <td>0</td>\n",
       "      <td>0</td>\n",
       "      <td>0</td>\n",
       "      <td>2</td>\n",
       "      <td>0</td>\n",
       "      <td>2</td>\n",
       "    </tr>\n",
       "    <tr>\n",
       "      <th>Azio</th>\n",
       "      <td>0</td>\n",
       "      <td>0</td>\n",
       "      <td>0</td>\n",
       "      <td>10</td>\n",
       "      <td>0</td>\n",
       "      <td>10</td>\n",
       "    </tr>\n",
       "    <tr>\n",
       "      <th>Cherry</th>\n",
       "      <td>0</td>\n",
       "      <td>0</td>\n",
       "      <td>0</td>\n",
       "      <td>10</td>\n",
       "      <td>0</td>\n",
       "      <td>10</td>\n",
       "    </tr>\n",
       "    <tr>\n",
       "      <th>EVGA</th>\n",
       "      <td>0</td>\n",
       "      <td>0</td>\n",
       "      <td>0</td>\n",
       "      <td>9</td>\n",
       "      <td>0</td>\n",
       "      <td>9</td>\n",
       "    </tr>\n",
       "    <tr>\n",
       "      <th>FOPETT</th>\n",
       "      <td>0</td>\n",
       "      <td>0</td>\n",
       "      <td>0</td>\n",
       "      <td>0</td>\n",
       "      <td>1</td>\n",
       "      <td>1</td>\n",
       "    </tr>\n",
       "    <tr>\n",
       "      <th>Fosmon</th>\n",
       "      <td>0</td>\n",
       "      <td>0</td>\n",
       "      <td>0</td>\n",
       "      <td>1</td>\n",
       "      <td>0</td>\n",
       "      <td>1</td>\n",
       "    </tr>\n",
       "    <tr>\n",
       "      <th>HP</th>\n",
       "      <td>0</td>\n",
       "      <td>0</td>\n",
       "      <td>0</td>\n",
       "      <td>10</td>\n",
       "      <td>0</td>\n",
       "      <td>10</td>\n",
       "    </tr>\n",
       "    <tr>\n",
       "      <th>HeengYanson</th>\n",
       "      <td>0</td>\n",
       "      <td>0</td>\n",
       "      <td>0</td>\n",
       "      <td>4</td>\n",
       "      <td>0</td>\n",
       "      <td>4</td>\n",
       "    </tr>\n",
       "    <tr>\n",
       "      <th>JOYACCESS</th>\n",
       "      <td>0</td>\n",
       "      <td>0</td>\n",
       "      <td>0</td>\n",
       "      <td>0</td>\n",
       "      <td>2</td>\n",
       "      <td>2</td>\n",
       "    </tr>\n",
       "    <tr>\n",
       "      <th>KOPJIPPOM</th>\n",
       "      <td>0</td>\n",
       "      <td>0</td>\n",
       "      <td>0</td>\n",
       "      <td>7</td>\n",
       "      <td>0</td>\n",
       "      <td>7</td>\n",
       "    </tr>\n",
       "    <tr>\n",
       "      <th>LIZRROT</th>\n",
       "      <td>0</td>\n",
       "      <td>0</td>\n",
       "      <td>0</td>\n",
       "      <td>3</td>\n",
       "      <td>0</td>\n",
       "      <td>3</td>\n",
       "    </tr>\n",
       "    <tr>\n",
       "      <th>Lenovo</th>\n",
       "      <td>0</td>\n",
       "      <td>0</td>\n",
       "      <td>0</td>\n",
       "      <td>1</td>\n",
       "      <td>0</td>\n",
       "      <td>1</td>\n",
       "    </tr>\n",
       "    <tr>\n",
       "      <th>Logitech</th>\n",
       "      <td>10</td>\n",
       "      <td>9</td>\n",
       "      <td>1</td>\n",
       "      <td>45</td>\n",
       "      <td>22</td>\n",
       "      <td>87</td>\n",
       "    </tr>\n",
       "    <tr>\n",
       "      <th>MANHATTAN</th>\n",
       "      <td>0</td>\n",
       "      <td>0</td>\n",
       "      <td>0</td>\n",
       "      <td>1</td>\n",
       "      <td>0</td>\n",
       "      <td>1</td>\n",
       "    </tr>\n",
       "    <tr>\n",
       "      <th>MARVO</th>\n",
       "      <td>0</td>\n",
       "      <td>0</td>\n",
       "      <td>0</td>\n",
       "      <td>10</td>\n",
       "      <td>0</td>\n",
       "      <td>10</td>\n",
       "    </tr>\n",
       "    <tr>\n",
       "      <th>MOWUX</th>\n",
       "      <td>0</td>\n",
       "      <td>0</td>\n",
       "      <td>0</td>\n",
       "      <td>4</td>\n",
       "      <td>0</td>\n",
       "      <td>4</td>\n",
       "    </tr>\n",
       "    <tr>\n",
       "      <th>Macally</th>\n",
       "      <td>10</td>\n",
       "      <td>0</td>\n",
       "      <td>0</td>\n",
       "      <td>0</td>\n",
       "      <td>0</td>\n",
       "      <td>10</td>\n",
       "    </tr>\n",
       "    <tr>\n",
       "      <th>Microsoft</th>\n",
       "      <td>0</td>\n",
       "      <td>10</td>\n",
       "      <td>0</td>\n",
       "      <td>0</td>\n",
       "      <td>0</td>\n",
       "      <td>10</td>\n",
       "    </tr>\n",
       "    <tr>\n",
       "      <th>Nulea</th>\n",
       "      <td>0</td>\n",
       "      <td>0</td>\n",
       "      <td>0</td>\n",
       "      <td>0</td>\n",
       "      <td>1</td>\n",
       "      <td>1</td>\n",
       "    </tr>\n",
       "    <tr>\n",
       "      <th>Perixx</th>\n",
       "      <td>0</td>\n",
       "      <td>0</td>\n",
       "      <td>0</td>\n",
       "      <td>19</td>\n",
       "      <td>0</td>\n",
       "      <td>19</td>\n",
       "    </tr>\n",
       "    <tr>\n",
       "      <th>ROCCAT</th>\n",
       "      <td>0</td>\n",
       "      <td>0</td>\n",
       "      <td>0</td>\n",
       "      <td>10</td>\n",
       "      <td>0</td>\n",
       "      <td>10</td>\n",
       "    </tr>\n",
       "    <tr>\n",
       "      <th>Razer</th>\n",
       "      <td>0</td>\n",
       "      <td>0</td>\n",
       "      <td>0</td>\n",
       "      <td>9</td>\n",
       "      <td>0</td>\n",
       "      <td>9</td>\n",
       "    </tr>\n",
       "    <tr>\n",
       "      <th>SABLUTE</th>\n",
       "      <td>0</td>\n",
       "      <td>0</td>\n",
       "      <td>0</td>\n",
       "      <td>14</td>\n",
       "      <td>0</td>\n",
       "      <td>14</td>\n",
       "    </tr>\n",
       "    <tr>\n",
       "      <th>Soueto</th>\n",
       "      <td>0</td>\n",
       "      <td>0</td>\n",
       "      <td>0</td>\n",
       "      <td>7</td>\n",
       "      <td>1</td>\n",
       "      <td>8</td>\n",
       "    </tr>\n",
       "    <tr>\n",
       "      <th>SteelSeries</th>\n",
       "      <td>10</td>\n",
       "      <td>0</td>\n",
       "      <td>0</td>\n",
       "      <td>0</td>\n",
       "      <td>0</td>\n",
       "      <td>10</td>\n",
       "    </tr>\n",
       "    <tr>\n",
       "      <th>TopMate</th>\n",
       "      <td>0</td>\n",
       "      <td>0</td>\n",
       "      <td>0</td>\n",
       "      <td>0</td>\n",
       "      <td>3</td>\n",
       "      <td>3</td>\n",
       "    </tr>\n",
       "    <tr>\n",
       "      <th>X9 Performance</th>\n",
       "      <td>0</td>\n",
       "      <td>0</td>\n",
       "      <td>0</td>\n",
       "      <td>11</td>\n",
       "      <td>0</td>\n",
       "      <td>11</td>\n",
       "    </tr>\n",
       "  </tbody>\n",
       "</table>\n",
       "</div>"
      ],
      "text/plain": [
       "Layout          40%  60%  75%  Full Size  Tenkeyless  Total\n",
       "Brand                                                      \n",
       "Acebaff           0    0    0         20           0     20\n",
       "Amazon Basics     0    0    0          9          10     19\n",
       "Arteck            0    0    0          1           3      4\n",
       "Atelus            0    0    0          2           0      2\n",
       "Azio              0    0    0         10           0     10\n",
       "Cherry            0    0    0         10           0     10\n",
       "EVGA              0    0    0          9           0      9\n",
       "FOPETT            0    0    0          0           1      1\n",
       "Fosmon            0    0    0          1           0      1\n",
       "HP                0    0    0         10           0     10\n",
       "HeengYanson       0    0    0          4           0      4\n",
       "JOYACCESS         0    0    0          0           2      2\n",
       "KOPJIPPOM         0    0    0          7           0      7\n",
       "LIZRROT           0    0    0          3           0      3\n",
       "Lenovo            0    0    0          1           0      1\n",
       "Logitech         10    9    1         45          22     87\n",
       "MANHATTAN         0    0    0          1           0      1\n",
       "MARVO             0    0    0         10           0     10\n",
       "MOWUX             0    0    0          4           0      4\n",
       "Macally          10    0    0          0           0     10\n",
       "Microsoft         0   10    0          0           0     10\n",
       "Nulea             0    0    0          0           1      1\n",
       "Perixx            0    0    0         19           0     19\n",
       "ROCCAT            0    0    0         10           0     10\n",
       "Razer             0    0    0          9           0      9\n",
       "SABLUTE           0    0    0         14           0     14\n",
       "Soueto            0    0    0          7           1      8\n",
       "SteelSeries      10    0    0          0           0     10\n",
       "TopMate           0    0    0          0           3      3\n",
       "X9 Performance    0    0    0         11           0     11"
      ]
     },
     "execution_count": 38,
     "metadata": {},
     "output_type": "execute_result"
    }
   ],
   "source": [
    "df_key=pd.pivot_table(data = layout_data,columns=\"Layout\",index=\"Brand\",aggfunc=\"size\",fill_value=0)\n",
    "df_key[\"Total\"] = df_key[\"40%\"]+df_key[\"60%\"]+df_key[\"75%\"]+df_key[\"Full Size\"]+df_key[\"Tenkeyless\"]\n",
    "# df_key.sort_values(by=\"Total\",ascending=False)\n",
    "# df_key = df_key.rename_axis(None,axis=1)\n",
    "df_key"
   ]
  },
  {
   "cell_type": "code",
   "execution_count": 39,
   "metadata": {},
   "outputs": [
    {
     "data": {
      "text/plain": [
       "Layout\n",
       "40%            80600\n",
       "60%            14033\n",
       "75%            36809\n",
       "Full Size     365916\n",
       "Tenkeyless    370888\n",
       "Name: Sold, dtype: int64"
      ]
     },
     "execution_count": 39,
     "metadata": {},
     "output_type": "execute_result"
    }
   ],
   "source": [
    "layout_data.groupby(\"Layout\")[\"Sold\"].sum()"
   ]
  },
  {
   "cell_type": "markdown",
   "metadata": {},
   "source": [
    "<b> General evaluations:\n",
    "- The full-size layout is still the most favored, but its total sales rank second.\n",
    "- The 75% layout accounts for only 0.323% of sales and has a total of 36,809 units sold.\n",
    "- The Tenkeyless layout has the highest sales."
   ]
  },
  {
   "cell_type": "code",
   "execution_count": 40,
   "metadata": {},
   "outputs": [
    {
     "data": {
      "text/html": [
       "<div>\n",
       "<style scoped>\n",
       "    .dataframe tbody tr th:only-of-type {\n",
       "        vertical-align: middle;\n",
       "    }\n",
       "\n",
       "    .dataframe tbody tr th {\n",
       "        vertical-align: top;\n",
       "    }\n",
       "\n",
       "    .dataframe thead th {\n",
       "        text-align: right;\n",
       "    }\n",
       "</style>\n",
       "<table border=\"1\" class=\"dataframe\">\n",
       "  <thead>\n",
       "    <tr style=\"text-align: right;\">\n",
       "      <th></th>\n",
       "      <th>Color</th>\n",
       "      <th>count</th>\n",
       "    </tr>\n",
       "  </thead>\n",
       "  <tbody>\n",
       "    <tr>\n",
       "      <th>0</th>\n",
       "      <td>black</td>\n",
       "      <td>201</td>\n",
       "    </tr>\n",
       "    <tr>\n",
       "      <th>1</th>\n",
       "      <td>graphite</td>\n",
       "      <td>18</td>\n",
       "    </tr>\n",
       "    <tr>\n",
       "      <th>2</th>\n",
       "      <td>matte black</td>\n",
       "      <td>10</td>\n",
       "    </tr>\n",
       "    <tr>\n",
       "      <th>3</th>\n",
       "      <td>bronze w/mx2a brown</td>\n",
       "      <td>10</td>\n",
       "    </tr>\n",
       "    <tr>\n",
       "      <th>4</th>\n",
       "      <td>black and silver</td>\n",
       "      <td>10</td>\n",
       "    </tr>\n",
       "    <tr>\n",
       "      <th>5</th>\n",
       "      <td>white</td>\n",
       "      <td>10</td>\n",
       "    </tr>\n",
       "    <tr>\n",
       "      <th>6</th>\n",
       "      <td>ttc brown</td>\n",
       "      <td>10</td>\n",
       "    </tr>\n",
       "    <tr>\n",
       "      <th>7</th>\n",
       "      <td>silver</td>\n",
       "      <td>10</td>\n",
       "    </tr>\n",
       "    <tr>\n",
       "      <th>8</th>\n",
       "      <td>space grey</td>\n",
       "      <td>9</td>\n",
       "    </tr>\n",
       "    <tr>\n",
       "      <th>9</th>\n",
       "      <td>beige</td>\n",
       "      <td>9</td>\n",
       "    </tr>\n",
       "    <tr>\n",
       "      <th>10</th>\n",
       "      <td>rose gold black</td>\n",
       "      <td>3</td>\n",
       "    </tr>\n",
       "    <tr>\n",
       "      <th>11</th>\n",
       "      <td>blue &amp; white</td>\n",
       "      <td>2</td>\n",
       "    </tr>\n",
       "    <tr>\n",
       "      <th>12</th>\n",
       "      <td>purple colorful</td>\n",
       "      <td>2</td>\n",
       "    </tr>\n",
       "    <tr>\n",
       "      <th>13</th>\n",
       "      <td>led backlit- green</td>\n",
       "      <td>1</td>\n",
       "    </tr>\n",
       "    <tr>\n",
       "      <th>14</th>\n",
       "      <td>backlit</td>\n",
       "      <td>1</td>\n",
       "    </tr>\n",
       "    <tr>\n",
       "      <th>15</th>\n",
       "      <td>led backlit- pink</td>\n",
       "      <td>1</td>\n",
       "    </tr>\n",
       "    <tr>\n",
       "      <th>16</th>\n",
       "      <td>black/orange</td>\n",
       "      <td>1</td>\n",
       "    </tr>\n",
       "    <tr>\n",
       "      <th>17</th>\n",
       "      <td>blue colorful</td>\n",
       "      <td>1</td>\n",
       "    </tr>\n",
       "    <tr>\n",
       "      <th>18</th>\n",
       "      <td>v2030 grey colorful</td>\n",
       "      <td>1</td>\n",
       "    </tr>\n",
       "  </tbody>\n",
       "</table>\n",
       "</div>"
      ],
      "text/plain": [
       "                    Color  count\n",
       "0                  black     201\n",
       "1               graphite      18\n",
       "2            matte black      10\n",
       "3    bronze w/mx2a brown      10\n",
       "4       black and silver      10\n",
       "5                  white      10\n",
       "6              ttc brown      10\n",
       "7                 silver      10\n",
       "8             space grey       9\n",
       "9                  beige       9\n",
       "10       rose gold black       3\n",
       "11          blue & white       2\n",
       "12       purple colorful       2\n",
       "13    led backlit- green       1\n",
       "14               backlit       1\n",
       "15     led backlit- pink       1\n",
       "16          black/orange       1\n",
       "17         blue colorful       1\n",
       "18   v2030 grey colorful       1"
      ]
     },
     "execution_count": 40,
     "metadata": {},
     "output_type": "execute_result"
    }
   ],
   "source": [
    "layout_data[\"Color\"] = layout_data[\"Color\"].str.lower()\n",
    "df_color = layout_data[\"Color\"].value_counts().reset_index()\n",
    "df_color"
   ]
  },
  {
   "cell_type": "code",
   "execution_count": 41,
   "metadata": {},
   "outputs": [
    {
     "data": {
      "text/html": [
       "<div>\n",
       "<style scoped>\n",
       "    .dataframe tbody tr th:only-of-type {\n",
       "        vertical-align: middle;\n",
       "    }\n",
       "\n",
       "    .dataframe tbody tr th {\n",
       "        vertical-align: top;\n",
       "    }\n",
       "\n",
       "    .dataframe thead th {\n",
       "        text-align: right;\n",
       "    }\n",
       "</style>\n",
       "<table border=\"1\" class=\"dataframe\">\n",
       "  <thead>\n",
       "    <tr style=\"text-align: right;\">\n",
       "      <th>Color</th>\n",
       "      <th>backlit</th>\n",
       "      <th>beige</th>\n",
       "      <th>black</th>\n",
       "      <th>black and silver</th>\n",
       "      <th>black/orange</th>\n",
       "      <th>blue &amp; white</th>\n",
       "      <th>blue colorful</th>\n",
       "      <th>bronze w/mx2a brown</th>\n",
       "      <th>graphite</th>\n",
       "      <th>led backlit- green</th>\n",
       "      <th>led backlit- pink</th>\n",
       "      <th>matte black</th>\n",
       "      <th>purple colorful</th>\n",
       "      <th>rose gold black</th>\n",
       "      <th>silver</th>\n",
       "      <th>space grey</th>\n",
       "      <th>ttc brown</th>\n",
       "      <th>v2030 grey colorful</th>\n",
       "      <th>white</th>\n",
       "    </tr>\n",
       "    <tr>\n",
       "      <th>Layout</th>\n",
       "      <th></th>\n",
       "      <th></th>\n",
       "      <th></th>\n",
       "      <th></th>\n",
       "      <th></th>\n",
       "      <th></th>\n",
       "      <th></th>\n",
       "      <th></th>\n",
       "      <th></th>\n",
       "      <th></th>\n",
       "      <th></th>\n",
       "      <th></th>\n",
       "      <th></th>\n",
       "      <th></th>\n",
       "      <th></th>\n",
       "      <th></th>\n",
       "      <th></th>\n",
       "      <th></th>\n",
       "      <th></th>\n",
       "    </tr>\n",
       "  </thead>\n",
       "  <tbody>\n",
       "    <tr>\n",
       "      <th>40%</th>\n",
       "      <td>0</td>\n",
       "      <td>0</td>\n",
       "      <td>20</td>\n",
       "      <td>0</td>\n",
       "      <td>0</td>\n",
       "      <td>0</td>\n",
       "      <td>0</td>\n",
       "      <td>0</td>\n",
       "      <td>0</td>\n",
       "      <td>0</td>\n",
       "      <td>0</td>\n",
       "      <td>0</td>\n",
       "      <td>0</td>\n",
       "      <td>0</td>\n",
       "      <td>10</td>\n",
       "      <td>0</td>\n",
       "      <td>0</td>\n",
       "      <td>0</td>\n",
       "      <td>0</td>\n",
       "    </tr>\n",
       "    <tr>\n",
       "      <th>60%</th>\n",
       "      <td>0</td>\n",
       "      <td>0</td>\n",
       "      <td>0</td>\n",
       "      <td>0</td>\n",
       "      <td>0</td>\n",
       "      <td>0</td>\n",
       "      <td>0</td>\n",
       "      <td>0</td>\n",
       "      <td>0</td>\n",
       "      <td>0</td>\n",
       "      <td>0</td>\n",
       "      <td>10</td>\n",
       "      <td>0</td>\n",
       "      <td>0</td>\n",
       "      <td>0</td>\n",
       "      <td>9</td>\n",
       "      <td>0</td>\n",
       "      <td>0</td>\n",
       "      <td>0</td>\n",
       "    </tr>\n",
       "    <tr>\n",
       "      <th>75%</th>\n",
       "      <td>0</td>\n",
       "      <td>0</td>\n",
       "      <td>1</td>\n",
       "      <td>0</td>\n",
       "      <td>0</td>\n",
       "      <td>0</td>\n",
       "      <td>0</td>\n",
       "      <td>0</td>\n",
       "      <td>0</td>\n",
       "      <td>0</td>\n",
       "      <td>0</td>\n",
       "      <td>0</td>\n",
       "      <td>0</td>\n",
       "      <td>0</td>\n",
       "      <td>0</td>\n",
       "      <td>0</td>\n",
       "      <td>0</td>\n",
       "      <td>0</td>\n",
       "      <td>0</td>\n",
       "    </tr>\n",
       "    <tr>\n",
       "      <th>Full Size</th>\n",
       "      <td>1</td>\n",
       "      <td>9</td>\n",
       "      <td>155</td>\n",
       "      <td>10</td>\n",
       "      <td>1</td>\n",
       "      <td>0</td>\n",
       "      <td>1</td>\n",
       "      <td>10</td>\n",
       "      <td>16</td>\n",
       "      <td>1</td>\n",
       "      <td>1</td>\n",
       "      <td>0</td>\n",
       "      <td>2</td>\n",
       "      <td>0</td>\n",
       "      <td>0</td>\n",
       "      <td>0</td>\n",
       "      <td>10</td>\n",
       "      <td>0</td>\n",
       "      <td>0</td>\n",
       "    </tr>\n",
       "    <tr>\n",
       "      <th>Tenkeyless</th>\n",
       "      <td>0</td>\n",
       "      <td>0</td>\n",
       "      <td>25</td>\n",
       "      <td>0</td>\n",
       "      <td>0</td>\n",
       "      <td>2</td>\n",
       "      <td>0</td>\n",
       "      <td>0</td>\n",
       "      <td>2</td>\n",
       "      <td>0</td>\n",
       "      <td>0</td>\n",
       "      <td>0</td>\n",
       "      <td>0</td>\n",
       "      <td>3</td>\n",
       "      <td>0</td>\n",
       "      <td>0</td>\n",
       "      <td>0</td>\n",
       "      <td>1</td>\n",
       "      <td>10</td>\n",
       "    </tr>\n",
       "  </tbody>\n",
       "</table>\n",
       "</div>"
      ],
      "text/plain": [
       "Color       backlit   beige   black   black and silver   black/orange   \\\n",
       "Layout                                                                   \n",
       "40%                0       0      20                  0              0   \n",
       "60%                0       0       0                  0              0   \n",
       "75%                0       0       1                  0              0   \n",
       "Full Size          1       9     155                 10              1   \n",
       "Tenkeyless         0       0      25                  0              0   \n",
       "\n",
       "Color       blue & white   blue colorful   bronze w/mx2a brown   graphite   \\\n",
       "Layout                                                                       \n",
       "40%                     0               0                     0          0   \n",
       "60%                     0               0                     0          0   \n",
       "75%                     0               0                     0          0   \n",
       "Full Size               0               1                    10         16   \n",
       "Tenkeyless              2               0                     0          2   \n",
       "\n",
       "Color       led backlit- green   led backlit- pink   matte black   \\\n",
       "Layout                                                              \n",
       "40%                           0                   0             0   \n",
       "60%                           0                   0            10   \n",
       "75%                           0                   0             0   \n",
       "Full Size                     1                   1             0   \n",
       "Tenkeyless                    0                   0             0   \n",
       "\n",
       "Color       purple colorful   rose gold black   silver   space grey   \\\n",
       "Layout                                                                 \n",
       "40%                        0                 0       10            0   \n",
       "60%                        0                 0        0            9   \n",
       "75%                        0                 0        0            0   \n",
       "Full Size                  2                 0        0            0   \n",
       "Tenkeyless                 0                 3        0            0   \n",
       "\n",
       "Color       ttc brown   v2030 grey colorful   white   \n",
       "Layout                                                \n",
       "40%                  0                     0       0  \n",
       "60%                  0                     0       0  \n",
       "75%                  0                     0       0  \n",
       "Full Size           10                     0       0  \n",
       "Tenkeyless           0                     1      10  "
      ]
     },
     "execution_count": 41,
     "metadata": {},
     "output_type": "execute_result"
    }
   ],
   "source": [
    "# f_key=pd.pivot_table(data = layout_data,columns=\"Layout\",index=\"Brand\",aggfunc=\"size\",fill_value=0)\n",
    "color_layout = pd.pivot_table(data=layout_data,columns=\"Color\",index=\"Layout\",aggfunc=\"size\",fill_value=0)\n",
    "color_layout"
   ]
  },
  {
   "cell_type": "markdown",
   "metadata": {},
   "source": [
    "<b> General evaluations: \n",
    "- Black is the most favorite color and full size layout black keyboards are more than others\n",
    "- Graphite is also known as Graphite is a dark to medium gray which the second favorite color "
   ]
  },
  {
   "cell_type": "markdown",
   "metadata": {},
   "source": [
    "7. **Separate Compatible Devices Column to Find Most Popular Devices**\n",
    "    - **Objective**: Analyze which devices are most popular.\n",
    "    - **Method**: Split the compatible devices column and count occurrences of each device type."
   ]
  },
  {
   "cell_type": "code",
   "execution_count": 42,
   "metadata": {},
   "outputs": [
    {
     "data": {
      "text/plain": [
       "array([' Windows 11/10/8/7/XP/VISTA, Mac OS, Chrome OS, Linux ',\n",
       "       ' Laptop, PC, Smart TV ',\n",
       "       '   Laptop, PC, Lenovo, Dell, Linux, HP, Microsof Surface, Acer, Asus, Samsung, Chromebook, Alienware, Razer, LG   See more  ',\n",
       "       ' PC ', ' Laptop, Personal Computer ',\n",
       "       ' iPhone, Apple Mac Pro / Mini, Macbook Pro / Air, iMac, iPad ',\n",
       "       ' Laptop ', ' Laptop, Gaming Console, PC ', ' Laptop, PC ',\n",
       "       ' Compatible on Windows, macOS, Linux and Chrome OS ',\n",
       "       ' Personal Computer ', ' Laptop, PC, Tablet, Smartphone ',\n",
       "       ' Laptop, PC, Windows, Mac ', ' Gaming Console ',\n",
       "       '   Windows, Xbox, PlayStation, and Mac OS X*. USB port required *Not all software features supported on Mac OS   See more  ',\n",
       "       ' computers and devices with USB connectivity ',\n",
       "       ' PC, Tablet, Smartphone ', ' Laptop, PC, Tablet ',\n",
       "       ' Laptop, PC, Gaming Console, Smart TV ',\n",
       "       ' Computers, Laptop, PC, Desktop ',\n",
       "       ' Laptop, Gaming Console, Smart TV, PC ',\n",
       "       ' Laptop, Gaming Console, PC, Tablet ',\n",
       "       ' TV, Gaming Console, Tablet, Smartphone ',\n",
       "       ' Laptop, PC, Smart TV, Tablet, Smartphone ',\n",
       "       ' Laptop, PC, Desktop ', ' Projector, Laptop, Television, Tablet ',\n",
       "       ' Laptop, PC, Gaming Console ', ' Laptop, Smart TV, PC ',\n",
       "       ' Laptop, Gaming Console, PC, Smart TV '], dtype=object)"
      ]
     },
     "execution_count": 42,
     "metadata": {},
     "output_type": "execute_result"
    }
   ],
   "source": [
    "data[\"Compatible Devices\"].unique()"
   ]
  },
  {
   "cell_type": "code",
   "execution_count": 43,
   "metadata": {},
   "outputs": [],
   "source": [
    "data_devices = data[[\"Brand\",\"Compatible Devices\",\"Price\"]]"
   ]
  },
  {
   "cell_type": "code",
   "execution_count": 44,
   "metadata": {},
   "outputs": [
    {
     "data": {
      "text/html": [
       "<div>\n",
       "<style scoped>\n",
       "    .dataframe tbody tr th:only-of-type {\n",
       "        vertical-align: middle;\n",
       "    }\n",
       "\n",
       "    .dataframe tbody tr th {\n",
       "        vertical-align: top;\n",
       "    }\n",
       "\n",
       "    .dataframe thead th {\n",
       "        text-align: right;\n",
       "    }\n",
       "</style>\n",
       "<table border=\"1\" class=\"dataframe\">\n",
       "  <thead>\n",
       "    <tr style=\"text-align: right;\">\n",
       "      <th></th>\n",
       "      <th>Brand</th>\n",
       "      <th>Compatible Devices</th>\n",
       "      <th>Price</th>\n",
       "      <th>Windows</th>\n",
       "      <th>Mac</th>\n",
       "      <th>Laptop</th>\n",
       "      <th>Pc</th>\n",
       "      <th>Smart tv</th>\n",
       "      <th>Gaming console</th>\n",
       "    </tr>\n",
       "  </thead>\n",
       "  <tbody>\n",
       "    <tr>\n",
       "      <th>0</th>\n",
       "      <td>Acebaff</td>\n",
       "      <td>Windows 11/10/8/7/XP/VISTA, Mac OS, Chrome OS...</td>\n",
       "      <td>21.95000</td>\n",
       "      <td>1</td>\n",
       "      <td>1</td>\n",
       "      <td>0</td>\n",
       "      <td>0</td>\n",
       "      <td>0</td>\n",
       "      <td>0</td>\n",
       "    </tr>\n",
       "    <tr>\n",
       "      <th>1</th>\n",
       "      <td>MARVO</td>\n",
       "      <td>Laptop, PC, Smart TV</td>\n",
       "      <td>28.99000</td>\n",
       "      <td>0</td>\n",
       "      <td>0</td>\n",
       "      <td>1</td>\n",
       "      <td>1</td>\n",
       "      <td>1</td>\n",
       "      <td>0</td>\n",
       "    </tr>\n",
       "    <tr>\n",
       "      <th>2</th>\n",
       "      <td>X9 Performance</td>\n",
       "      <td>Laptop, PC, Lenovo, Dell, Linux, HP, Micros...</td>\n",
       "      <td>49.99000</td>\n",
       "      <td>0</td>\n",
       "      <td>0</td>\n",
       "      <td>1</td>\n",
       "      <td>1</td>\n",
       "      <td>0</td>\n",
       "      <td>0</td>\n",
       "    </tr>\n",
       "    <tr>\n",
       "      <th>3</th>\n",
       "      <td>Perixx</td>\n",
       "      <td>PC</td>\n",
       "      <td>39.99000</td>\n",
       "      <td>0</td>\n",
       "      <td>0</td>\n",
       "      <td>0</td>\n",
       "      <td>1</td>\n",
       "      <td>0</td>\n",
       "      <td>0</td>\n",
       "    </tr>\n",
       "    <tr>\n",
       "      <th>4</th>\n",
       "      <td>Logitech</td>\n",
       "      <td>Laptop, Personal Computer</td>\n",
       "      <td>49.04496</td>\n",
       "      <td>0</td>\n",
       "      <td>0</td>\n",
       "      <td>1</td>\n",
       "      <td>0</td>\n",
       "      <td>0</td>\n",
       "      <td>0</td>\n",
       "    </tr>\n",
       "    <tr>\n",
       "      <th>...</th>\n",
       "      <td>...</td>\n",
       "      <td>...</td>\n",
       "      <td>...</td>\n",
       "      <td>...</td>\n",
       "      <td>...</td>\n",
       "      <td>...</td>\n",
       "      <td>...</td>\n",
       "      <td>...</td>\n",
       "      <td>...</td>\n",
       "    </tr>\n",
       "    <tr>\n",
       "      <th>306</th>\n",
       "      <td>Logitech</td>\n",
       "      <td>PC</td>\n",
       "      <td>75.19000</td>\n",
       "      <td>0</td>\n",
       "      <td>0</td>\n",
       "      <td>0</td>\n",
       "      <td>1</td>\n",
       "      <td>0</td>\n",
       "      <td>0</td>\n",
       "    </tr>\n",
       "    <tr>\n",
       "      <th>307</th>\n",
       "      <td>Arteck</td>\n",
       "      <td>Computers, Laptop, PC, Desktop</td>\n",
       "      <td>54.99000</td>\n",
       "      <td>0</td>\n",
       "      <td>0</td>\n",
       "      <td>1</td>\n",
       "      <td>1</td>\n",
       "      <td>0</td>\n",
       "      <td>0</td>\n",
       "    </tr>\n",
       "    <tr>\n",
       "      <th>308</th>\n",
       "      <td>Acebaff</td>\n",
       "      <td>Windows 11/10/8/7/XP/VISTA, Mac OS, Chrome OS...</td>\n",
       "      <td>20.99000</td>\n",
       "      <td>1</td>\n",
       "      <td>1</td>\n",
       "      <td>0</td>\n",
       "      <td>0</td>\n",
       "      <td>0</td>\n",
       "      <td>0</td>\n",
       "    </tr>\n",
       "    <tr>\n",
       "      <th>309</th>\n",
       "      <td>Soueto</td>\n",
       "      <td>Laptop, Gaming Console, PC, Smart TV</td>\n",
       "      <td>39.99000</td>\n",
       "      <td>0</td>\n",
       "      <td>0</td>\n",
       "      <td>1</td>\n",
       "      <td>1</td>\n",
       "      <td>1</td>\n",
       "      <td>1</td>\n",
       "    </tr>\n",
       "    <tr>\n",
       "      <th>310</th>\n",
       "      <td>KOPJIPPOM</td>\n",
       "      <td>PC</td>\n",
       "      <td>28.99000</td>\n",
       "      <td>0</td>\n",
       "      <td>0</td>\n",
       "      <td>0</td>\n",
       "      <td>1</td>\n",
       "      <td>0</td>\n",
       "      <td>0</td>\n",
       "    </tr>\n",
       "  </tbody>\n",
       "</table>\n",
       "<p>310 rows × 9 columns</p>\n",
       "</div>"
      ],
      "text/plain": [
       "              Brand                                 Compatible Devices  \\\n",
       "0           Acebaff   Windows 11/10/8/7/XP/VISTA, Mac OS, Chrome OS...   \n",
       "1             MARVO                              Laptop, PC, Smart TV    \n",
       "2    X9 Performance     Laptop, PC, Lenovo, Dell, Linux, HP, Micros...   \n",
       "3            Perixx                                                PC    \n",
       "4          Logitech                         Laptop, Personal Computer    \n",
       "..              ...                                                ...   \n",
       "306        Logitech                                                PC    \n",
       "307          Arteck                    Computers, Laptop, PC, Desktop    \n",
       "308         Acebaff   Windows 11/10/8/7/XP/VISTA, Mac OS, Chrome OS...   \n",
       "309          Soueto              Laptop, Gaming Console, PC, Smart TV    \n",
       "310       KOPJIPPOM                                                PC    \n",
       "\n",
       "        Price  Windows  Mac  Laptop  Pc  Smart tv  Gaming console  \n",
       "0    21.95000        1    1       0   0         0               0  \n",
       "1    28.99000        0    0       1   1         1               0  \n",
       "2    49.99000        0    0       1   1         0               0  \n",
       "3    39.99000        0    0       0   1         0               0  \n",
       "4    49.04496        0    0       1   0         0               0  \n",
       "..        ...      ...  ...     ...  ..       ...             ...  \n",
       "306  75.19000        0    0       0   1         0               0  \n",
       "307  54.99000        0    0       1   1         0               0  \n",
       "308  20.99000        1    1       0   0         0               0  \n",
       "309  39.99000        0    0       1   1         1               1  \n",
       "310  28.99000        0    0       0   1         0               0  \n",
       "\n",
       "[310 rows x 9 columns]"
      ]
     },
     "execution_count": 44,
     "metadata": {},
     "output_type": "execute_result"
    }
   ],
   "source": [
    "keywords = [\"windows\",\"mac\",\"laptop\",\"pc\",\"smart tv\",\"gaming console\"]\n",
    "df = add_binary_columns(data_devices,\"Compatible Devices\",keywords)\n",
    "df"
   ]
  },
  {
   "cell_type": "code",
   "execution_count": 45,
   "metadata": {},
   "outputs": [
    {
     "data": {
      "text/html": [
       "<div>\n",
       "<style scoped>\n",
       "    .dataframe tbody tr th:only-of-type {\n",
       "        vertical-align: middle;\n",
       "    }\n",
       "\n",
       "    .dataframe tbody tr th {\n",
       "        vertical-align: top;\n",
       "    }\n",
       "\n",
       "    .dataframe thead th {\n",
       "        text-align: right;\n",
       "    }\n",
       "</style>\n",
       "<table border=\"1\" class=\"dataframe\">\n",
       "  <thead>\n",
       "    <tr style=\"text-align: right;\">\n",
       "      <th></th>\n",
       "      <th>Brand</th>\n",
       "      <th>Windows</th>\n",
       "      <th>Mac</th>\n",
       "      <th>Laptop</th>\n",
       "      <th>Pc</th>\n",
       "      <th>Smart tv</th>\n",
       "      <th>Gaming console</th>\n",
       "    </tr>\n",
       "  </thead>\n",
       "  <tbody>\n",
       "    <tr>\n",
       "      <th>0</th>\n",
       "      <td>Acebaff</td>\n",
       "      <td>20</td>\n",
       "      <td>20</td>\n",
       "      <td>0</td>\n",
       "      <td>0</td>\n",
       "      <td>0</td>\n",
       "      <td>0</td>\n",
       "    </tr>\n",
       "    <tr>\n",
       "      <th>1</th>\n",
       "      <td>Amazon Basics</td>\n",
       "      <td>0</td>\n",
       "      <td>0</td>\n",
       "      <td>0</td>\n",
       "      <td>0</td>\n",
       "      <td>0</td>\n",
       "      <td>0</td>\n",
       "    </tr>\n",
       "    <tr>\n",
       "      <th>2</th>\n",
       "      <td>Arteck</td>\n",
       "      <td>0</td>\n",
       "      <td>0</td>\n",
       "      <td>4</td>\n",
       "      <td>4</td>\n",
       "      <td>0</td>\n",
       "      <td>0</td>\n",
       "    </tr>\n",
       "    <tr>\n",
       "      <th>3</th>\n",
       "      <td>Atelus</td>\n",
       "      <td>0</td>\n",
       "      <td>0</td>\n",
       "      <td>2</td>\n",
       "      <td>2</td>\n",
       "      <td>0</td>\n",
       "      <td>0</td>\n",
       "    </tr>\n",
       "    <tr>\n",
       "      <th>4</th>\n",
       "      <td>Azio</td>\n",
       "      <td>0</td>\n",
       "      <td>0</td>\n",
       "      <td>10</td>\n",
       "      <td>10</td>\n",
       "      <td>0</td>\n",
       "      <td>0</td>\n",
       "    </tr>\n",
       "    <tr>\n",
       "      <th>5</th>\n",
       "      <td>Cherry</td>\n",
       "      <td>0</td>\n",
       "      <td>0</td>\n",
       "      <td>0</td>\n",
       "      <td>10</td>\n",
       "      <td>0</td>\n",
       "      <td>0</td>\n",
       "    </tr>\n",
       "    <tr>\n",
       "      <th>6</th>\n",
       "      <td>EVGA</td>\n",
       "      <td>0</td>\n",
       "      <td>0</td>\n",
       "      <td>9</td>\n",
       "      <td>9</td>\n",
       "      <td>0</td>\n",
       "      <td>0</td>\n",
       "    </tr>\n",
       "    <tr>\n",
       "      <th>7</th>\n",
       "      <td>FOPETT</td>\n",
       "      <td>0</td>\n",
       "      <td>0</td>\n",
       "      <td>1</td>\n",
       "      <td>0</td>\n",
       "      <td>0</td>\n",
       "      <td>0</td>\n",
       "    </tr>\n",
       "    <tr>\n",
       "      <th>8</th>\n",
       "      <td>Fosmon</td>\n",
       "      <td>0</td>\n",
       "      <td>0</td>\n",
       "      <td>0</td>\n",
       "      <td>0</td>\n",
       "      <td>0</td>\n",
       "      <td>1</td>\n",
       "    </tr>\n",
       "    <tr>\n",
       "      <th>9</th>\n",
       "      <td>HP</td>\n",
       "      <td>0</td>\n",
       "      <td>0</td>\n",
       "      <td>10</td>\n",
       "      <td>10</td>\n",
       "      <td>0</td>\n",
       "      <td>0</td>\n",
       "    </tr>\n",
       "    <tr>\n",
       "      <th>10</th>\n",
       "      <td>HeengYanson</td>\n",
       "      <td>0</td>\n",
       "      <td>0</td>\n",
       "      <td>4</td>\n",
       "      <td>4</td>\n",
       "      <td>0</td>\n",
       "      <td>4</td>\n",
       "    </tr>\n",
       "    <tr>\n",
       "      <th>11</th>\n",
       "      <td>JOYACCESS</td>\n",
       "      <td>0</td>\n",
       "      <td>0</td>\n",
       "      <td>2</td>\n",
       "      <td>0</td>\n",
       "      <td>0</td>\n",
       "      <td>0</td>\n",
       "    </tr>\n",
       "    <tr>\n",
       "      <th>12</th>\n",
       "      <td>KOPJIPPOM</td>\n",
       "      <td>0</td>\n",
       "      <td>0</td>\n",
       "      <td>2</td>\n",
       "      <td>7</td>\n",
       "      <td>0</td>\n",
       "      <td>2</td>\n",
       "    </tr>\n",
       "    <tr>\n",
       "      <th>13</th>\n",
       "      <td>LIZRROT</td>\n",
       "      <td>0</td>\n",
       "      <td>0</td>\n",
       "      <td>3</td>\n",
       "      <td>3</td>\n",
       "      <td>0</td>\n",
       "      <td>0</td>\n",
       "    </tr>\n",
       "    <tr>\n",
       "      <th>14</th>\n",
       "      <td>Lenovo</td>\n",
       "      <td>0</td>\n",
       "      <td>0</td>\n",
       "      <td>1</td>\n",
       "      <td>1</td>\n",
       "      <td>0</td>\n",
       "      <td>0</td>\n",
       "    </tr>\n",
       "    <tr>\n",
       "      <th>15</th>\n",
       "      <td>Logitech</td>\n",
       "      <td>9</td>\n",
       "      <td>9</td>\n",
       "      <td>49</td>\n",
       "      <td>49</td>\n",
       "      <td>1</td>\n",
       "      <td>19</td>\n",
       "    </tr>\n",
       "    <tr>\n",
       "      <th>16</th>\n",
       "      <td>MANHATTAN</td>\n",
       "      <td>0</td>\n",
       "      <td>0</td>\n",
       "      <td>1</td>\n",
       "      <td>1</td>\n",
       "      <td>0</td>\n",
       "      <td>0</td>\n",
       "    </tr>\n",
       "    <tr>\n",
       "      <th>17</th>\n",
       "      <td>MARVO</td>\n",
       "      <td>0</td>\n",
       "      <td>0</td>\n",
       "      <td>10</td>\n",
       "      <td>10</td>\n",
       "      <td>10</td>\n",
       "      <td>0</td>\n",
       "    </tr>\n",
       "    <tr>\n",
       "      <th>18</th>\n",
       "      <td>MOWUX</td>\n",
       "      <td>0</td>\n",
       "      <td>0</td>\n",
       "      <td>4</td>\n",
       "      <td>4</td>\n",
       "      <td>0</td>\n",
       "      <td>0</td>\n",
       "    </tr>\n",
       "    <tr>\n",
       "      <th>19</th>\n",
       "      <td>Macally</td>\n",
       "      <td>0</td>\n",
       "      <td>10</td>\n",
       "      <td>0</td>\n",
       "      <td>0</td>\n",
       "      <td>0</td>\n",
       "      <td>0</td>\n",
       "    </tr>\n",
       "    <tr>\n",
       "      <th>20</th>\n",
       "      <td>Microsoft</td>\n",
       "      <td>0</td>\n",
       "      <td>0</td>\n",
       "      <td>0</td>\n",
       "      <td>10</td>\n",
       "      <td>0</td>\n",
       "      <td>0</td>\n",
       "    </tr>\n",
       "    <tr>\n",
       "      <th>21</th>\n",
       "      <td>Nulea</td>\n",
       "      <td>0</td>\n",
       "      <td>0</td>\n",
       "      <td>1</td>\n",
       "      <td>1</td>\n",
       "      <td>0</td>\n",
       "      <td>0</td>\n",
       "    </tr>\n",
       "    <tr>\n",
       "      <th>22</th>\n",
       "      <td>Perixx</td>\n",
       "      <td>0</td>\n",
       "      <td>0</td>\n",
       "      <td>0</td>\n",
       "      <td>19</td>\n",
       "      <td>0</td>\n",
       "      <td>0</td>\n",
       "    </tr>\n",
       "    <tr>\n",
       "      <th>23</th>\n",
       "      <td>ROCCAT</td>\n",
       "      <td>0</td>\n",
       "      <td>0</td>\n",
       "      <td>0</td>\n",
       "      <td>0</td>\n",
       "      <td>0</td>\n",
       "      <td>10</td>\n",
       "    </tr>\n",
       "    <tr>\n",
       "      <th>24</th>\n",
       "      <td>Razer</td>\n",
       "      <td>0</td>\n",
       "      <td>0</td>\n",
       "      <td>0</td>\n",
       "      <td>0</td>\n",
       "      <td>0</td>\n",
       "      <td>9</td>\n",
       "    </tr>\n",
       "    <tr>\n",
       "      <th>25</th>\n",
       "      <td>SABLUTE</td>\n",
       "      <td>14</td>\n",
       "      <td>14</td>\n",
       "      <td>14</td>\n",
       "      <td>14</td>\n",
       "      <td>0</td>\n",
       "      <td>0</td>\n",
       "    </tr>\n",
       "    <tr>\n",
       "      <th>26</th>\n",
       "      <td>Soueto</td>\n",
       "      <td>0</td>\n",
       "      <td>0</td>\n",
       "      <td>8</td>\n",
       "      <td>8</td>\n",
       "      <td>8</td>\n",
       "      <td>8</td>\n",
       "    </tr>\n",
       "    <tr>\n",
       "      <th>27</th>\n",
       "      <td>SteelSeries</td>\n",
       "      <td>10</td>\n",
       "      <td>10</td>\n",
       "      <td>0</td>\n",
       "      <td>0</td>\n",
       "      <td>0</td>\n",
       "      <td>0</td>\n",
       "    </tr>\n",
       "    <tr>\n",
       "      <th>28</th>\n",
       "      <td>TopMate</td>\n",
       "      <td>0</td>\n",
       "      <td>0</td>\n",
       "      <td>0</td>\n",
       "      <td>0</td>\n",
       "      <td>0</td>\n",
       "      <td>0</td>\n",
       "    </tr>\n",
       "    <tr>\n",
       "      <th>29</th>\n",
       "      <td>X9 Performance</td>\n",
       "      <td>0</td>\n",
       "      <td>0</td>\n",
       "      <td>11</td>\n",
       "      <td>2</td>\n",
       "      <td>0</td>\n",
       "      <td>0</td>\n",
       "    </tr>\n",
       "  </tbody>\n",
       "</table>\n",
       "</div>"
      ],
      "text/plain": [
       "             Brand  Windows  Mac  Laptop  Pc  Smart tv  Gaming console\n",
       "0          Acebaff       20   20       0   0         0               0\n",
       "1    Amazon Basics        0    0       0   0         0               0\n",
       "2           Arteck        0    0       4   4         0               0\n",
       "3           Atelus        0    0       2   2         0               0\n",
       "4             Azio        0    0      10  10         0               0\n",
       "5           Cherry        0    0       0  10         0               0\n",
       "6             EVGA        0    0       9   9         0               0\n",
       "7           FOPETT        0    0       1   0         0               0\n",
       "8           Fosmon        0    0       0   0         0               1\n",
       "9               HP        0    0      10  10         0               0\n",
       "10     HeengYanson        0    0       4   4         0               4\n",
       "11       JOYACCESS        0    0       2   0         0               0\n",
       "12       KOPJIPPOM        0    0       2   7         0               2\n",
       "13         LIZRROT        0    0       3   3         0               0\n",
       "14          Lenovo        0    0       1   1         0               0\n",
       "15        Logitech        9    9      49  49         1              19\n",
       "16       MANHATTAN        0    0       1   1         0               0\n",
       "17           MARVO        0    0      10  10        10               0\n",
       "18           MOWUX        0    0       4   4         0               0\n",
       "19         Macally        0   10       0   0         0               0\n",
       "20       Microsoft        0    0       0  10         0               0\n",
       "21           Nulea        0    0       1   1         0               0\n",
       "22          Perixx        0    0       0  19         0               0\n",
       "23          ROCCAT        0    0       0   0         0              10\n",
       "24           Razer        0    0       0   0         0               9\n",
       "25         SABLUTE       14   14      14  14         0               0\n",
       "26          Soueto        0    0       8   8         8               8\n",
       "27     SteelSeries       10   10       0   0         0               0\n",
       "28         TopMate        0    0       0   0         0               0\n",
       "29  X9 Performance        0    0      11   2         0               0"
      ]
     },
     "execution_count": 45,
     "metadata": {},
     "output_type": "execute_result"
    }
   ],
   "source": [
    "df_brand_device = df.groupby(\"Brand\")[[\"Windows\",\"Mac\",\"Laptop\",\"Pc\",\"Smart tv\",\"Gaming console\"]].sum().reset_index()\n",
    "df_brand_device"
   ]
  },
  {
   "cell_type": "code",
   "execution_count": 46,
   "metadata": {},
   "outputs": [],
   "source": [
    "new_df = df_brand_device[[\"Windows\",\"Mac\",\"Laptop\",\"Pc\",\"Smart tv\",\"Gaming console\"]].sum().reset_index()\n",
    "new_df.columns = [\"Devices\",\"Count\"]\n",
    "new_df.sort_values(by=\"Count\",ascending=True,ignore_index=True,inplace=True)"
   ]
  },
  {
   "cell_type": "code",
   "execution_count": 47,
   "metadata": {},
   "outputs": [
    {
     "data": {
      "image/png": "[encoded data removed]",
      "text/plain": [
       "<Figure size 1000x600 with 1 Axes>"
      ]
     },
     "metadata": {},
     "output_type": "display_data"
    }
   ],
   "source": [
    "plt.figure(figsize=(10,6))\n",
    "sns.barplot(data=new_df,x = \"Devices\",y=\"Count\")\n",
    "\n",
    "plt.title(\"Statistics for devices\")\n",
    "plt.show()"
   ]
  },
  {
   "cell_type": "markdown",
   "metadata": {},
   "source": [
    "<b> General evaluations:\n",
    "- PCs are the most favored devices.\n",
    "- Acebaff is a brand that primarily offers products for Mac and Windows.\n",
    "- Logitech manufactures keyboards for PCs and laptops. Logitech continues to lead in producing products compatible with almost all devices.\n",
    "- MARVO produces keyboards compatible with smart TVs, with a total of 10 products, while Logitech has only 1 product for this purpose."
   ]
  }
 ],
 "metadata": {
  "kernelspec": {
   "display_name": "Python 3",
   "language": "python",
   "name": "python3"
  },
  "language_info": {
   "codemirror_mode": {
    "name": "ipython",
    "version": 3
   },
   "file_extension": ".py",
   "mimetype": "text/x-python",
   "name": "python",
   "nbconvert_exporter": "python",
   "pygments_lexer": "ipython3",
   "version": "3.12.3"
  }
 },
 "nbformat": 4,
 "nbformat_minor": 2
}
